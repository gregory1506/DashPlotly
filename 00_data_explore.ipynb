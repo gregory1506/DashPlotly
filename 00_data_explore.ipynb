{
 "nbformat": 4,
 "nbformat_minor": 2,
 "metadata": {
  "language_info": {
   "name": "python",
   "codemirror_mode": {
    "name": "ipython",
    "version": 3
   },
   "version": "3.7.6-final"
  },
  "orig_nbformat": 2,
  "file_extension": ".py",
  "mimetype": "text/x-python",
  "name": "python",
  "npconvert_exporter": "python",
  "pygments_lexer": "ipython3",
  "version": 3,
  "kernelspec": {
   "name": "python3",
   "display_name": "Python 3"
  }
 },
 "cells": [
  {
   "cell_type": "code",
   "execution_count": 9,
   "metadata": {},
   "outputs": [
    {
     "output_type": "execute_result",
     "data": {
      "text/plain": "        Date Country/Region Province/State   Lat  Long  Confirmed  Recovered  \\\n0 2020-01-22    Afghanistan            NaN  33.0  65.0        0.0        0.0   \n1 2020-01-23    Afghanistan            NaN  33.0  65.0        0.0        0.0   \n2 2020-01-24    Afghanistan            NaN  33.0  65.0        0.0        0.0   \n3 2020-01-25    Afghanistan            NaN  33.0  65.0        0.0        0.0   \n4 2020-01-26    Afghanistan            NaN  33.0  65.0        0.0        0.0   \n\n   Deaths  \n0     0.0  \n1     0.0  \n2     0.0  \n3     0.0  \n4     0.0  ",
      "text/html": "<div>\n<style scoped>\n    .dataframe tbody tr th:only-of-type {\n        vertical-align: middle;\n    }\n\n    .dataframe tbody tr th {\n        vertical-align: top;\n    }\n\n    .dataframe thead th {\n        text-align: right;\n    }\n</style>\n<table border=\"1\" class=\"dataframe\">\n  <thead>\n    <tr style=\"text-align: right;\">\n      <th></th>\n      <th>Date</th>\n      <th>Country/Region</th>\n      <th>Province/State</th>\n      <th>Lat</th>\n      <th>Long</th>\n      <th>Confirmed</th>\n      <th>Recovered</th>\n      <th>Deaths</th>\n    </tr>\n  </thead>\n  <tbody>\n    <tr>\n      <th>0</th>\n      <td>2020-01-22</td>\n      <td>Afghanistan</td>\n      <td>NaN</td>\n      <td>33.0</td>\n      <td>65.0</td>\n      <td>0.0</td>\n      <td>0.0</td>\n      <td>0.0</td>\n    </tr>\n    <tr>\n      <th>1</th>\n      <td>2020-01-23</td>\n      <td>Afghanistan</td>\n      <td>NaN</td>\n      <td>33.0</td>\n      <td>65.0</td>\n      <td>0.0</td>\n      <td>0.0</td>\n      <td>0.0</td>\n    </tr>\n    <tr>\n      <th>2</th>\n      <td>2020-01-24</td>\n      <td>Afghanistan</td>\n      <td>NaN</td>\n      <td>33.0</td>\n      <td>65.0</td>\n      <td>0.0</td>\n      <td>0.0</td>\n      <td>0.0</td>\n    </tr>\n    <tr>\n      <th>3</th>\n      <td>2020-01-25</td>\n      <td>Afghanistan</td>\n      <td>NaN</td>\n      <td>33.0</td>\n      <td>65.0</td>\n      <td>0.0</td>\n      <td>0.0</td>\n      <td>0.0</td>\n    </tr>\n    <tr>\n      <th>4</th>\n      <td>2020-01-26</td>\n      <td>Afghanistan</td>\n      <td>NaN</td>\n      <td>33.0</td>\n      <td>65.0</td>\n      <td>0.0</td>\n      <td>0.0</td>\n      <td>0.0</td>\n    </tr>\n  </tbody>\n</table>\n</div>"
     },
     "metadata": {},
     "execution_count": 9
    }
   ],
   "source": [
    "import pandas as pd\n",
    "df = pd.read_csv(\"https://raw.githubusercontent.com/datasets/covid-19/master/data/time-series-19-covid-combined.csv\")\n",
    "df.Date = pd.to_datetime(df.Date)\n",
    "df.head()"
   ]
  },
  {
   "cell_type": "code",
   "execution_count": 10,
   "metadata": {},
   "outputs": [],
   "source": [
    "dates = df.Date.unique()"
   ]
  },
  {
   "cell_type": "code",
   "execution_count": 13,
   "metadata": {},
   "outputs": [
    {
     "output_type": "execute_result",
     "data": {
      "text/plain": "numpy.datetime64('2020-01-22')"
     },
     "metadata": {},
     "execution_count": 13
    }
   ],
   "source": [
    "dates[0].astype(\"datetime64[D]\")"
   ]
  },
  {
   "cell_type": "code",
   "execution_count": 14,
   "metadata": {},
   "outputs": [
    {
     "output_type": "execute_result",
     "data": {
      "text/plain": "      dateRep  day  month  year  cases  deaths countriesAndTerritories geoId  \\\n0  11/04/2020   11      4  2020     37       0             Afghanistan    AF   \n1  10/04/2020   10      4  2020     61       1             Afghanistan    AF   \n2  09/04/2020    9      4  2020     56       3             Afghanistan    AF   \n3  08/04/2020    8      4  2020     30       4             Afghanistan    AF   \n4  07/04/2020    7      4  2020     38       0             Afghanistan    AF   \n\n  countryterritoryCode  popData2018  \n0                  AFG   37172386.0  \n1                  AFG   37172386.0  \n2                  AFG   37172386.0  \n3                  AFG   37172386.0  \n4                  AFG   37172386.0  ",
      "text/html": "<div>\n<style scoped>\n    .dataframe tbody tr th:only-of-type {\n        vertical-align: middle;\n    }\n\n    .dataframe tbody tr th {\n        vertical-align: top;\n    }\n\n    .dataframe thead th {\n        text-align: right;\n    }\n</style>\n<table border=\"1\" class=\"dataframe\">\n  <thead>\n    <tr style=\"text-align: right;\">\n      <th></th>\n      <th>dateRep</th>\n      <th>day</th>\n      <th>month</th>\n      <th>year</th>\n      <th>cases</th>\n      <th>deaths</th>\n      <th>countriesAndTerritories</th>\n      <th>geoId</th>\n      <th>countryterritoryCode</th>\n      <th>popData2018</th>\n    </tr>\n  </thead>\n  <tbody>\n    <tr>\n      <th>0</th>\n      <td>11/04/2020</td>\n      <td>11</td>\n      <td>4</td>\n      <td>2020</td>\n      <td>37</td>\n      <td>0</td>\n      <td>Afghanistan</td>\n      <td>AF</td>\n      <td>AFG</td>\n      <td>37172386.0</td>\n    </tr>\n    <tr>\n      <th>1</th>\n      <td>10/04/2020</td>\n      <td>10</td>\n      <td>4</td>\n      <td>2020</td>\n      <td>61</td>\n      <td>1</td>\n      <td>Afghanistan</td>\n      <td>AF</td>\n      <td>AFG</td>\n      <td>37172386.0</td>\n    </tr>\n    <tr>\n      <th>2</th>\n      <td>09/04/2020</td>\n      <td>9</td>\n      <td>4</td>\n      <td>2020</td>\n      <td>56</td>\n      <td>3</td>\n      <td>Afghanistan</td>\n      <td>AF</td>\n      <td>AFG</td>\n      <td>37172386.0</td>\n    </tr>\n    <tr>\n      <th>3</th>\n      <td>08/04/2020</td>\n      <td>8</td>\n      <td>4</td>\n      <td>2020</td>\n      <td>30</td>\n      <td>4</td>\n      <td>Afghanistan</td>\n      <td>AF</td>\n      <td>AFG</td>\n      <td>37172386.0</td>\n    </tr>\n    <tr>\n      <th>4</th>\n      <td>07/04/2020</td>\n      <td>7</td>\n      <td>4</td>\n      <td>2020</td>\n      <td>38</td>\n      <td>0</td>\n      <td>Afghanistan</td>\n      <td>AF</td>\n      <td>AFG</td>\n      <td>37172386.0</td>\n    </tr>\n  </tbody>\n</table>\n</div>"
     },
     "metadata": {},
     "execution_count": 14
    }
   ],
   "source": [
    "df2 = pd.read_csv(\"https://opendata.ecdc.europa.eu/covid19/casedistribution/csv\")\n",
    "df2.head()"
   ]
  },
  {
   "cell_type": "code",
   "execution_count": 16,
   "metadata": {},
   "outputs": [
    {
     "output_type": "execute_result",
     "data": {
      "text/plain": "202"
     },
     "metadata": {},
     "execution_count": 16
    }
   ],
   "source": [
    "len(df2.countryterritoryCode.unique())"
   ]
  },
  {
   "cell_type": "code",
   "execution_count": null,
   "metadata": {},
   "outputs": [],
   "source": []
  }
 ]
}