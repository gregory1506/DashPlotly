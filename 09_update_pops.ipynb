{
 "cells": [
  {
   "cell_type": "code",
   "execution_count": 1,
   "metadata": {},
   "outputs": [],
   "source": [
    "import pandas as pd\n",
    "import numpy as np\n",
    "import plotly.graph_objects as go\n",
    "import plotly.offline as po"
   ]
  },
  {
   "cell_type": "code",
   "execution_count": 2,
   "metadata": {},
   "outputs": [
    {
     "data": {
      "text/html": [
       "<div>\n",
       "<style scoped>\n",
       "    .dataframe tbody tr th:only-of-type {\n",
       "        vertical-align: middle;\n",
       "    }\n",
       "\n",
       "    .dataframe tbody tr th {\n",
       "        vertical-align: top;\n",
       "    }\n",
       "\n",
       "    .dataframe thead th {\n",
       "        text-align: right;\n",
       "    }\n",
       "</style>\n",
       "<table border=\"1\" class=\"dataframe\">\n",
       "  <thead>\n",
       "    <tr style=\"text-align: right;\">\n",
       "      <th></th>\n",
       "      <th>Date</th>\n",
       "      <th>Country/Region</th>\n",
       "      <th>Province/State</th>\n",
       "      <th>Lat</th>\n",
       "      <th>Long</th>\n",
       "      <th>Confirmed</th>\n",
       "      <th>Recovered</th>\n",
       "      <th>Deaths</th>\n",
       "      <th>Population</th>\n",
       "    </tr>\n",
       "  </thead>\n",
       "  <tbody>\n",
       "    <tr>\n",
       "      <th>0</th>\n",
       "      <td>2020-01-22</td>\n",
       "      <td>Afghanistan</td>\n",
       "      <td>NaN</td>\n",
       "      <td>33.0</td>\n",
       "      <td>65.0</td>\n",
       "      <td>0.0</td>\n",
       "      <td>0.0</td>\n",
       "      <td>0.0</td>\n",
       "      <td>NaN</td>\n",
       "    </tr>\n",
       "    <tr>\n",
       "      <th>1</th>\n",
       "      <td>2020-01-23</td>\n",
       "      <td>Afghanistan</td>\n",
       "      <td>NaN</td>\n",
       "      <td>33.0</td>\n",
       "      <td>65.0</td>\n",
       "      <td>0.0</td>\n",
       "      <td>0.0</td>\n",
       "      <td>0.0</td>\n",
       "      <td>NaN</td>\n",
       "    </tr>\n",
       "    <tr>\n",
       "      <th>2</th>\n",
       "      <td>2020-01-24</td>\n",
       "      <td>Afghanistan</td>\n",
       "      <td>NaN</td>\n",
       "      <td>33.0</td>\n",
       "      <td>65.0</td>\n",
       "      <td>0.0</td>\n",
       "      <td>0.0</td>\n",
       "      <td>0.0</td>\n",
       "      <td>NaN</td>\n",
       "    </tr>\n",
       "    <tr>\n",
       "      <th>3</th>\n",
       "      <td>2020-01-25</td>\n",
       "      <td>Afghanistan</td>\n",
       "      <td>NaN</td>\n",
       "      <td>33.0</td>\n",
       "      <td>65.0</td>\n",
       "      <td>0.0</td>\n",
       "      <td>0.0</td>\n",
       "      <td>0.0</td>\n",
       "      <td>NaN</td>\n",
       "    </tr>\n",
       "    <tr>\n",
       "      <th>4</th>\n",
       "      <td>2020-01-26</td>\n",
       "      <td>Afghanistan</td>\n",
       "      <td>NaN</td>\n",
       "      <td>33.0</td>\n",
       "      <td>65.0</td>\n",
       "      <td>0.0</td>\n",
       "      <td>0.0</td>\n",
       "      <td>0.0</td>\n",
       "      <td>NaN</td>\n",
       "    </tr>\n",
       "  </tbody>\n",
       "</table>\n",
       "</div>"
      ],
      "text/plain": [
       "        Date Country/Region Province/State   Lat  Long  Confirmed  Recovered  \\\n",
       "0 2020-01-22    Afghanistan            NaN  33.0  65.0        0.0        0.0   \n",
       "1 2020-01-23    Afghanistan            NaN  33.0  65.0        0.0        0.0   \n",
       "2 2020-01-24    Afghanistan            NaN  33.0  65.0        0.0        0.0   \n",
       "3 2020-01-25    Afghanistan            NaN  33.0  65.0        0.0        0.0   \n",
       "4 2020-01-26    Afghanistan            NaN  33.0  65.0        0.0        0.0   \n",
       "\n",
       "   Deaths  Population  \n",
       "0     0.0         NaN  \n",
       "1     0.0         NaN  \n",
       "2     0.0         NaN  \n",
       "3     0.0         NaN  \n",
       "4     0.0         NaN  "
      ]
     },
     "execution_count": 2,
     "metadata": {},
     "output_type": "execute_result"
    }
   ],
   "source": [
    "#read in latest info from https://github.com/datasets/covid-19\n",
    "df = pd.read_csv(\"https://raw.githubusercontent.com/datasets/covid-19/master/data/time-series-19-covid-combined.csv\")\n",
    "df.Date = pd.to_datetime(df.Date,format=\"%Y-%m-%d\")\n",
    "#create population column for later\n",
    "df[\"Population\"] = np.NaN\n",
    "df.head()"
   ]
  },
  {
   "cell_type": "code",
   "execution_count": 3,
   "metadata": {},
   "outputs": [
    {
     "data": {
      "text/html": [
       "<div>\n",
       "<style scoped>\n",
       "    .dataframe tbody tr th:only-of-type {\n",
       "        vertical-align: middle;\n",
       "    }\n",
       "\n",
       "    .dataframe tbody tr th {\n",
       "        vertical-align: top;\n",
       "    }\n",
       "\n",
       "    .dataframe thead th {\n",
       "        text-align: right;\n",
       "    }\n",
       "</style>\n",
       "<table border=\"1\" class=\"dataframe\">\n",
       "  <thead>\n",
       "    <tr style=\"text-align: right;\">\n",
       "      <th></th>\n",
       "      <th>UID</th>\n",
       "      <th>iso2</th>\n",
       "      <th>iso3</th>\n",
       "      <th>code3</th>\n",
       "      <th>FIPS</th>\n",
       "      <th>Admin2</th>\n",
       "      <th>Province_State</th>\n",
       "      <th>Country_Region</th>\n",
       "      <th>Lat</th>\n",
       "      <th>Long_</th>\n",
       "      <th>Combined_Key</th>\n",
       "      <th>Population</th>\n",
       "    </tr>\n",
       "  </thead>\n",
       "  <tbody>\n",
       "    <tr>\n",
       "      <th>0</th>\n",
       "      <td>4</td>\n",
       "      <td>AF</td>\n",
       "      <td>AFG</td>\n",
       "      <td>4.0</td>\n",
       "      <td>NaN</td>\n",
       "      <td>NaN</td>\n",
       "      <td>NaN</td>\n",
       "      <td>Afghanistan</td>\n",
       "      <td>33.93911</td>\n",
       "      <td>67.709953</td>\n",
       "      <td>Afghanistan</td>\n",
       "      <td>38928341.0</td>\n",
       "    </tr>\n",
       "    <tr>\n",
       "      <th>1</th>\n",
       "      <td>8</td>\n",
       "      <td>AL</td>\n",
       "      <td>ALB</td>\n",
       "      <td>8.0</td>\n",
       "      <td>NaN</td>\n",
       "      <td>NaN</td>\n",
       "      <td>NaN</td>\n",
       "      <td>Albania</td>\n",
       "      <td>41.15330</td>\n",
       "      <td>20.168300</td>\n",
       "      <td>Albania</td>\n",
       "      <td>2877800.0</td>\n",
       "    </tr>\n",
       "    <tr>\n",
       "      <th>2</th>\n",
       "      <td>12</td>\n",
       "      <td>DZ</td>\n",
       "      <td>DZA</td>\n",
       "      <td>12.0</td>\n",
       "      <td>NaN</td>\n",
       "      <td>NaN</td>\n",
       "      <td>NaN</td>\n",
       "      <td>Algeria</td>\n",
       "      <td>28.03390</td>\n",
       "      <td>1.659600</td>\n",
       "      <td>Algeria</td>\n",
       "      <td>43851043.0</td>\n",
       "    </tr>\n",
       "    <tr>\n",
       "      <th>3</th>\n",
       "      <td>20</td>\n",
       "      <td>AD</td>\n",
       "      <td>AND</td>\n",
       "      <td>20.0</td>\n",
       "      <td>NaN</td>\n",
       "      <td>NaN</td>\n",
       "      <td>NaN</td>\n",
       "      <td>Andorra</td>\n",
       "      <td>42.50630</td>\n",
       "      <td>1.521800</td>\n",
       "      <td>Andorra</td>\n",
       "      <td>77265.0</td>\n",
       "    </tr>\n",
       "    <tr>\n",
       "      <th>4</th>\n",
       "      <td>24</td>\n",
       "      <td>AO</td>\n",
       "      <td>AGO</td>\n",
       "      <td>24.0</td>\n",
       "      <td>NaN</td>\n",
       "      <td>NaN</td>\n",
       "      <td>NaN</td>\n",
       "      <td>Angola</td>\n",
       "      <td>-11.20270</td>\n",
       "      <td>17.873900</td>\n",
       "      <td>Angola</td>\n",
       "      <td>32866268.0</td>\n",
       "    </tr>\n",
       "  </tbody>\n",
       "</table>\n",
       "</div>"
      ],
      "text/plain": [
       "   UID iso2 iso3  code3  FIPS Admin2 Province_State Country_Region       Lat  \\\n",
       "0    4   AF  AFG    4.0   NaN    NaN            NaN    Afghanistan  33.93911   \n",
       "1    8   AL  ALB    8.0   NaN    NaN            NaN        Albania  41.15330   \n",
       "2   12   DZ  DZA   12.0   NaN    NaN            NaN        Algeria  28.03390   \n",
       "3   20   AD  AND   20.0   NaN    NaN            NaN        Andorra  42.50630   \n",
       "4   24   AO  AGO   24.0   NaN    NaN            NaN         Angola -11.20270   \n",
       "\n",
       "       Long_ Combined_Key  Population  \n",
       "0  67.709953  Afghanistan  38928341.0  \n",
       "1  20.168300      Albania   2877800.0  \n",
       "2   1.659600      Algeria  43851043.0  \n",
       "3   1.521800      Andorra     77265.0  \n",
       "4  17.873900       Angola  32866268.0  "
      ]
     },
     "execution_count": 3,
     "metadata": {},
     "output_type": "execute_result"
    }
   ],
   "source": [
    "ref = pd.read_csv(\"https://raw.githubusercontent.com/datasets/covid-19/master/data/reference.csv\")\n",
    "ref.head()"
   ]
  },
  {
   "cell_type": "code",
   "execution_count": 6,
   "metadata": {},
   "outputs": [
    {
     "data": {
      "text/html": [
       "<div>\n",
       "<style scoped>\n",
       "    .dataframe tbody tr th:only-of-type {\n",
       "        vertical-align: middle;\n",
       "    }\n",
       "\n",
       "    .dataframe tbody tr th {\n",
       "        vertical-align: top;\n",
       "    }\n",
       "\n",
       "    .dataframe thead th {\n",
       "        text-align: right;\n",
       "    }\n",
       "</style>\n",
       "<table border=\"1\" class=\"dataframe\">\n",
       "  <thead>\n",
       "    <tr style=\"text-align: right;\">\n",
       "      <th></th>\n",
       "      <th>Date</th>\n",
       "      <th>Country/Region</th>\n",
       "      <th>Province/State</th>\n",
       "      <th>Lat</th>\n",
       "      <th>Long</th>\n",
       "      <th>Confirmed</th>\n",
       "      <th>Recovered</th>\n",
       "      <th>Deaths</th>\n",
       "      <th>Population</th>\n",
       "      <th>UID</th>\n",
       "      <th>iso2</th>\n",
       "      <th>iso3</th>\n",
       "      <th>code3</th>\n",
       "      <th>FIPS</th>\n",
       "      <th>Combined_Key</th>\n",
       "    </tr>\n",
       "  </thead>\n",
       "  <tbody>\n",
       "    <tr>\n",
       "      <th>4523</th>\n",
       "      <td>2020-04-17</td>\n",
       "      <td>Canada</td>\n",
       "      <td>Recovery aggregated</td>\n",
       "      <td>56.1304</td>\n",
       "      <td>-106.3468</td>\n",
       "      <td>NaN</td>\n",
       "      <td>10545.0</td>\n",
       "      <td>NaN</td>\n",
       "      <td>NaN</td>\n",
       "      <td>NaN</td>\n",
       "      <td>NaN</td>\n",
       "      <td>NaN</td>\n",
       "      <td>NaN</td>\n",
       "      <td>NaN</td>\n",
       "      <td>Recovery aggregated,Canada</td>\n",
       "    </tr>\n",
       "  </tbody>\n",
       "</table>\n",
       "</div>"
      ],
      "text/plain": [
       "           Date Country/Region       Province/State      Lat      Long  \\\n",
       "4523 2020-04-17         Canada  Recovery aggregated  56.1304 -106.3468   \n",
       "\n",
       "      Confirmed  Recovered  Deaths  Population  UID iso2 iso3  code3  FIPS  \\\n",
       "4523        NaN    10545.0     NaN         NaN  NaN  NaN  NaN    NaN   NaN   \n",
       "\n",
       "                    Combined_Key  \n",
       "4523  Recovery aggregated,Canada  "
      ]
     },
     "execution_count": 6,
     "metadata": {},
     "output_type": "execute_result"
    }
   ],
   "source": [
    "# df[(df[\"Country/Region\"] == \"China\") & (df[\"Province/State\"].isnull())]\n",
    "# ref[(ref[\"Country_Region\"] == \"China\") & (ref[\"Province_State\"].isnull())]\n",
    "tmp = df[df.Date == df.Date.max()].copy()[[\"Country/Region\",\"Province/State\"]]\n",
    "data = set()\n",
    "df2 = df.copy()\n",
    "df2[\"UID\"] = np.NaN\n",
    "df2[\"iso2\"] = np.NaN\n",
    "df2[\"iso3\"] = np.NaN\n",
    "df2[\"code3\"] = np.NaN\n",
    "df2[\"FIPS\"] = np.NaN\n",
    "df2[\"Combined_Key\"] = df2[\"Province/State\"].astype(str) + \",\" + df2[\"Country/Region\"].astype(str)\n",
    "for row in tmp.itertuples():\n",
    "    if row[2] is np.NaN:\n",
    "        uid,iso2,iso3,code3,fips,pop = ref[(ref[\"Country_Region\"] == row[1])][[\"UID\",\"iso2\",\"iso3\",\"code3\",\"FIPS\",\"Population\"]].values[0]\n",
    "        df2.loc[df2[\"Country/Region\"] == row[1],[\"UID\",\"iso2\",\"iso3\",\"code3\",\"FIPS\",\"Population\"]] = [uid,iso2,iso3,code3,fips,pop]\n",
    "    else:\n",
    "        try:\n",
    "            uid,iso2,iso3,code3,fips,pop = ref[(ref[\"Country_Region\"] == row[1]) & (ref[\"Province_State\"] == row[2])][[\"UID\",\"iso2\",\"iso3\",\"code3\",\"FIPS\",\"Population\"]].values[0]\n",
    "            df2.loc[(df2[\"Country/Region\"] == row[1]) & (df2[\"Province/State\"] == row[2]),[\"UID\",\"iso2\",\"iso3\",\"code3\",\"FIPS\",\"Population\"]] = [uid,iso2,iso3,code3,fips,pop]\n",
    "        except:\n",
    "            continue\n",
    "df2[(df2.Population.isnull()) & (df2.Date == df2.Date.max())]\n",
    "df2.drop(df2[(df2[\"Country/Region\"] == \"Diamond Princess\") | (df2[\"Province/State\"] == \"Diamond Princess\") ].index,axis=0,inplace=True)\n",
    "df2.drop(df2[(df2[\"Country/Region\"] == \"MS Zaandam\") | (df2[\"Province/State\"] == \"Grand Princess\") ].index,axis=0,inplace=True)\n",
    "df2[(df2.Population.isnull()) & (df2.Date == df2.Date.max())]"
   ]
  },
  {
   "cell_type": "code",
   "execution_count": 7,
   "metadata": {},
   "outputs": [
    {
     "data": {
      "text/html": [
       "<div>\n",
       "<style scoped>\n",
       "    .dataframe tbody tr th:only-of-type {\n",
       "        vertical-align: middle;\n",
       "    }\n",
       "\n",
       "    .dataframe tbody tr th {\n",
       "        vertical-align: top;\n",
       "    }\n",
       "\n",
       "    .dataframe thead th {\n",
       "        text-align: right;\n",
       "    }\n",
       "</style>\n",
       "<table border=\"1\" class=\"dataframe\">\n",
       "  <thead>\n",
       "    <tr style=\"text-align: right;\">\n",
       "      <th></th>\n",
       "      <th>Date</th>\n",
       "      <th>Country/Region</th>\n",
       "      <th>Province/State</th>\n",
       "      <th>Lat</th>\n",
       "      <th>Long</th>\n",
       "      <th>Confirmed</th>\n",
       "      <th>Recovered</th>\n",
       "      <th>Deaths</th>\n",
       "      <th>Population</th>\n",
       "      <th>UID</th>\n",
       "      <th>iso2</th>\n",
       "      <th>iso3</th>\n",
       "      <th>code3</th>\n",
       "      <th>FIPS</th>\n",
       "      <th>Combined_Key</th>\n",
       "    </tr>\n",
       "  </thead>\n",
       "  <tbody>\n",
       "    <tr>\n",
       "      <th>0</th>\n",
       "      <td>2020-01-22</td>\n",
       "      <td>Afghanistan</td>\n",
       "      <td>NaN</td>\n",
       "      <td>33.0</td>\n",
       "      <td>65.0</td>\n",
       "      <td>0.0</td>\n",
       "      <td>0.0</td>\n",
       "      <td>0.0</td>\n",
       "      <td>38928341.0</td>\n",
       "      <td>4.0</td>\n",
       "      <td>AF</td>\n",
       "      <td>AFG</td>\n",
       "      <td>4.0</td>\n",
       "      <td>NaN</td>\n",
       "      <td>nan,Afghanistan</td>\n",
       "    </tr>\n",
       "    <tr>\n",
       "      <th>1</th>\n",
       "      <td>2020-01-23</td>\n",
       "      <td>Afghanistan</td>\n",
       "      <td>NaN</td>\n",
       "      <td>33.0</td>\n",
       "      <td>65.0</td>\n",
       "      <td>0.0</td>\n",
       "      <td>0.0</td>\n",
       "      <td>0.0</td>\n",
       "      <td>38928341.0</td>\n",
       "      <td>4.0</td>\n",
       "      <td>AF</td>\n",
       "      <td>AFG</td>\n",
       "      <td>4.0</td>\n",
       "      <td>NaN</td>\n",
       "      <td>nan,Afghanistan</td>\n",
       "    </tr>\n",
       "    <tr>\n",
       "      <th>2</th>\n",
       "      <td>2020-01-24</td>\n",
       "      <td>Afghanistan</td>\n",
       "      <td>NaN</td>\n",
       "      <td>33.0</td>\n",
       "      <td>65.0</td>\n",
       "      <td>0.0</td>\n",
       "      <td>0.0</td>\n",
       "      <td>0.0</td>\n",
       "      <td>38928341.0</td>\n",
       "      <td>4.0</td>\n",
       "      <td>AF</td>\n",
       "      <td>AFG</td>\n",
       "      <td>4.0</td>\n",
       "      <td>NaN</td>\n",
       "      <td>nan,Afghanistan</td>\n",
       "    </tr>\n",
       "    <tr>\n",
       "      <th>3</th>\n",
       "      <td>2020-01-25</td>\n",
       "      <td>Afghanistan</td>\n",
       "      <td>NaN</td>\n",
       "      <td>33.0</td>\n",
       "      <td>65.0</td>\n",
       "      <td>0.0</td>\n",
       "      <td>0.0</td>\n",
       "      <td>0.0</td>\n",
       "      <td>38928341.0</td>\n",
       "      <td>4.0</td>\n",
       "      <td>AF</td>\n",
       "      <td>AFG</td>\n",
       "      <td>4.0</td>\n",
       "      <td>NaN</td>\n",
       "      <td>nan,Afghanistan</td>\n",
       "    </tr>\n",
       "    <tr>\n",
       "      <th>4</th>\n",
       "      <td>2020-01-26</td>\n",
       "      <td>Afghanistan</td>\n",
       "      <td>NaN</td>\n",
       "      <td>33.0</td>\n",
       "      <td>65.0</td>\n",
       "      <td>0.0</td>\n",
       "      <td>0.0</td>\n",
       "      <td>0.0</td>\n",
       "      <td>38928341.0</td>\n",
       "      <td>4.0</td>\n",
       "      <td>AF</td>\n",
       "      <td>AFG</td>\n",
       "      <td>4.0</td>\n",
       "      <td>NaN</td>\n",
       "      <td>nan,Afghanistan</td>\n",
       "    </tr>\n",
       "  </tbody>\n",
       "</table>\n",
       "</div>"
      ],
      "text/plain": [
       "        Date Country/Region Province/State   Lat  Long  Confirmed  Recovered  \\\n",
       "0 2020-01-22    Afghanistan            NaN  33.0  65.0        0.0        0.0   \n",
       "1 2020-01-23    Afghanistan            NaN  33.0  65.0        0.0        0.0   \n",
       "2 2020-01-24    Afghanistan            NaN  33.0  65.0        0.0        0.0   \n",
       "3 2020-01-25    Afghanistan            NaN  33.0  65.0        0.0        0.0   \n",
       "4 2020-01-26    Afghanistan            NaN  33.0  65.0        0.0        0.0   \n",
       "\n",
       "   Deaths  Population  UID iso2 iso3  code3  FIPS     Combined_Key  \n",
       "0     0.0  38928341.0  4.0   AF  AFG    4.0   NaN  nan,Afghanistan  \n",
       "1     0.0  38928341.0  4.0   AF  AFG    4.0   NaN  nan,Afghanistan  \n",
       "2     0.0  38928341.0  4.0   AF  AFG    4.0   NaN  nan,Afghanistan  \n",
       "3     0.0  38928341.0  4.0   AF  AFG    4.0   NaN  nan,Afghanistan  \n",
       "4     0.0  38928341.0  4.0   AF  AFG    4.0   NaN  nan,Afghanistan  "
      ]
     },
     "execution_count": 7,
     "metadata": {},
     "output_type": "execute_result"
    }
   ],
   "source": [
    "df2.head()"
   ]
  },
  {
   "cell_type": "code",
   "execution_count": 8,
   "metadata": {},
   "outputs": [
    {
     "data": {
      "text/html": [
       "<div>\n",
       "<style scoped>\n",
       "    .dataframe tbody tr th:only-of-type {\n",
       "        vertical-align: middle;\n",
       "    }\n",
       "\n",
       "    .dataframe tbody tr th {\n",
       "        vertical-align: top;\n",
       "    }\n",
       "\n",
       "    .dataframe thead th {\n",
       "        text-align: right;\n",
       "    }\n",
       "</style>\n",
       "<table border=\"1\" class=\"dataframe\">\n",
       "  <thead>\n",
       "    <tr style=\"text-align: right;\">\n",
       "      <th></th>\n",
       "      <th>UID</th>\n",
       "      <th>iso2</th>\n",
       "      <th>iso3</th>\n",
       "      <th>code3</th>\n",
       "      <th>FIPS</th>\n",
       "      <th>Lat</th>\n",
       "      <th>Combined_Key</th>\n",
       "      <th>Date</th>\n",
       "      <th>Confirmed</th>\n",
       "      <th>Long</th>\n",
       "      <th>Country/Region</th>\n",
       "      <th>Province/State</th>\n",
       "      <th>Population</th>\n",
       "      <th>Deaths</th>\n",
       "      <th>Recovered</th>\n",
       "    </tr>\n",
       "  </thead>\n",
       "  <tbody>\n",
       "    <tr>\n",
       "      <th>0</th>\n",
       "      <td>16</td>\n",
       "      <td>AS</td>\n",
       "      <td>ASM</td>\n",
       "      <td>16</td>\n",
       "      <td>60.0</td>\n",
       "      <td>-14.271</td>\n",
       "      <td>American Samoa, US</td>\n",
       "      <td>2020-01-22</td>\n",
       "      <td>0</td>\n",
       "      <td>-170.132</td>\n",
       "      <td>US</td>\n",
       "      <td>American Samoa</td>\n",
       "      <td>55641</td>\n",
       "      <td>0</td>\n",
       "      <td>0.0</td>\n",
       "    </tr>\n",
       "    <tr>\n",
       "      <th>1</th>\n",
       "      <td>16</td>\n",
       "      <td>AS</td>\n",
       "      <td>ASM</td>\n",
       "      <td>16</td>\n",
       "      <td>60.0</td>\n",
       "      <td>-14.271</td>\n",
       "      <td>American Samoa, US</td>\n",
       "      <td>2020-01-23</td>\n",
       "      <td>0</td>\n",
       "      <td>-170.132</td>\n",
       "      <td>US</td>\n",
       "      <td>American Samoa</td>\n",
       "      <td>55641</td>\n",
       "      <td>0</td>\n",
       "      <td>0.0</td>\n",
       "    </tr>\n",
       "    <tr>\n",
       "      <th>2</th>\n",
       "      <td>16</td>\n",
       "      <td>AS</td>\n",
       "      <td>ASM</td>\n",
       "      <td>16</td>\n",
       "      <td>60.0</td>\n",
       "      <td>-14.271</td>\n",
       "      <td>American Samoa, US</td>\n",
       "      <td>2020-01-24</td>\n",
       "      <td>0</td>\n",
       "      <td>-170.132</td>\n",
       "      <td>US</td>\n",
       "      <td>American Samoa</td>\n",
       "      <td>55641</td>\n",
       "      <td>0</td>\n",
       "      <td>0.0</td>\n",
       "    </tr>\n",
       "    <tr>\n",
       "      <th>3</th>\n",
       "      <td>16</td>\n",
       "      <td>AS</td>\n",
       "      <td>ASM</td>\n",
       "      <td>16</td>\n",
       "      <td>60.0</td>\n",
       "      <td>-14.271</td>\n",
       "      <td>American Samoa, US</td>\n",
       "      <td>2020-01-25</td>\n",
       "      <td>0</td>\n",
       "      <td>-170.132</td>\n",
       "      <td>US</td>\n",
       "      <td>American Samoa</td>\n",
       "      <td>55641</td>\n",
       "      <td>0</td>\n",
       "      <td>0.0</td>\n",
       "    </tr>\n",
       "    <tr>\n",
       "      <th>4</th>\n",
       "      <td>16</td>\n",
       "      <td>AS</td>\n",
       "      <td>ASM</td>\n",
       "      <td>16</td>\n",
       "      <td>60.0</td>\n",
       "      <td>-14.271</td>\n",
       "      <td>American Samoa, US</td>\n",
       "      <td>2020-01-26</td>\n",
       "      <td>0</td>\n",
       "      <td>-170.132</td>\n",
       "      <td>US</td>\n",
       "      <td>American Samoa</td>\n",
       "      <td>55641</td>\n",
       "      <td>0</td>\n",
       "      <td>0.0</td>\n",
       "    </tr>\n",
       "  </tbody>\n",
       "</table>\n",
       "</div>"
      ],
      "text/plain": [
       "   UID iso2 iso3  code3  FIPS     Lat        Combined_Key       Date  \\\n",
       "0   16   AS  ASM     16  60.0 -14.271  American Samoa, US 2020-01-22   \n",
       "1   16   AS  ASM     16  60.0 -14.271  American Samoa, US 2020-01-23   \n",
       "2   16   AS  ASM     16  60.0 -14.271  American Samoa, US 2020-01-24   \n",
       "3   16   AS  ASM     16  60.0 -14.271  American Samoa, US 2020-01-25   \n",
       "4   16   AS  ASM     16  60.0 -14.271  American Samoa, US 2020-01-26   \n",
       "\n",
       "   Confirmed     Long Country/Region  Province/State  Population  Deaths  \\\n",
       "0          0 -170.132             US  American Samoa       55641       0   \n",
       "1          0 -170.132             US  American Samoa       55641       0   \n",
       "2          0 -170.132             US  American Samoa       55641       0   \n",
       "3          0 -170.132             US  American Samoa       55641       0   \n",
       "4          0 -170.132             US  American Samoa       55641       0   \n",
       "\n",
       "   Recovered  \n",
       "0        0.0  \n",
       "1        0.0  \n",
       "2        0.0  \n",
       "3        0.0  \n",
       "4        0.0  "
      ]
     },
     "execution_count": 8,
     "metadata": {},
     "output_type": "execute_result"
    }
   ],
   "source": [
    "#add usa data\n",
    "usc = pd.read_csv(\"https://raw.githubusercontent.com/datasets/covid-19/master/data/us_confirmed.csv\")\n",
    "usd = pd.read_csv(\"https://raw.githubusercontent.com/datasets/covid-19/master/data/us_deaths.csv\")\n",
    "usc[\"Population\"] = usd.Population\n",
    "usc.rename(columns={\"Case\":\"Confirmed\"},inplace=True)\n",
    "usc[\"Deaths\"] = usd.Case\n",
    "usc[\"Recovered\"] = 0.0\n",
    "# usc = usc[[\"Date\",\"Lat\",\"Long\",\"Confirmed\",\"Recovered\",\"Deaths\",\"Country/Region\",\"Province/State\",\"Population\"]].copy()\n",
    "usc.Date = pd.to_datetime(usc.Date, format=\"%Y-%m-%d\")\n",
    "usc.drop([\"Admin2\"],axis=1,inplace=True)\n",
    "usc.head()"
   ]
  },
  {
   "cell_type": "code",
   "execution_count": 9,
   "metadata": {},
   "outputs": [],
   "source": [
    "df2.rename(columns={\"Country/Region\":\"CountryRegion\",\"Province/State\":\"ProvinceState\"},inplace=True)\n",
    "usc.rename(columns={\"Country/Region\":\"CountryRegion\",\"Province/State\":\"ProvinceState\"},inplace=True)\n",
    "del df\n",
    "del usd"
   ]
  },
  {
   "cell_type": "code",
   "execution_count": 24,
   "metadata": {},
   "outputs": [],
   "source": [
    "df3 = pd.concat([df2,usc]).copy()\n",
    "df3.drop(df3[df3.Population == 0.0].index,inplace=True)"
   ]
  },
  {
   "cell_type": "code",
   "execution_count": 31,
   "metadata": {},
   "outputs": [],
   "source": [
    "df2[\"DPM\"] = round(((1000000 / df2.Population) * df2.Deaths),3)\n",
    "df2[\"CPM\"] = round(((1000000 / df2.Population) * df2.Confirmed),3)\n",
    "df2[\"RPM\"] = round(((1000000 / df2.Population) * df2.Recovered),3)\n",
    "df2[\"DP100K\"] = round(((100000 / df2.Population) * df2.Deaths),3)\n",
    "df2[\"CP100K\"] = round(((100000 / df2.Population) * df2.Confirmed),3)\n",
    "df2[\"RP100K\"] = round(((100000 / df2.Population) * df2.Recovered),3)\n",
    "df2[\"Mort\"] = df2.Deaths / df2.Confirmed * 100.0\n",
    "df2[\"Recov\"] = df2.Recovered / df2.Confirmed * 100.0\n",
    "df2[\"delC\"] = df2.Confirmed - df2.Confirmed.shift(-1)"
   ]
  },
  {
   "cell_type": "code",
   "execution_count": 32,
   "metadata": {},
   "outputs": [
    {
     "data": {
      "text/html": [
       "<div>\n",
       "<style scoped>\n",
       "    .dataframe tbody tr th:only-of-type {\n",
       "        vertical-align: middle;\n",
       "    }\n",
       "\n",
       "    .dataframe tbody tr th {\n",
       "        vertical-align: top;\n",
       "    }\n",
       "\n",
       "    .dataframe thead th {\n",
       "        text-align: right;\n",
       "    }\n",
       "</style>\n",
       "<table border=\"1\" class=\"dataframe\">\n",
       "  <thead>\n",
       "    <tr style=\"text-align: right;\">\n",
       "      <th></th>\n",
       "      <th>Date</th>\n",
       "      <th>CountryRegion</th>\n",
       "      <th>ProvinceState</th>\n",
       "      <th>Lat</th>\n",
       "      <th>Long</th>\n",
       "      <th>Confirmed</th>\n",
       "      <th>Recovered</th>\n",
       "      <th>Deaths</th>\n",
       "      <th>Population</th>\n",
       "      <th>UID</th>\n",
       "      <th>...</th>\n",
       "      <th>Combined_Key</th>\n",
       "      <th>DPM</th>\n",
       "      <th>CPM</th>\n",
       "      <th>RPM</th>\n",
       "      <th>DP100K</th>\n",
       "      <th>CP100K</th>\n",
       "      <th>RP100K</th>\n",
       "      <th>Mort</th>\n",
       "      <th>Recov</th>\n",
       "      <th>delC</th>\n",
       "    </tr>\n",
       "  </thead>\n",
       "  <tbody>\n",
       "    <tr>\n",
       "      <th>0</th>\n",
       "      <td>2020-01-22</td>\n",
       "      <td>Afghanistan</td>\n",
       "      <td>NaN</td>\n",
       "      <td>33.0</td>\n",
       "      <td>65.0</td>\n",
       "      <td>0.0</td>\n",
       "      <td>0.0</td>\n",
       "      <td>0.0</td>\n",
       "      <td>38928341.0</td>\n",
       "      <td>4.0</td>\n",
       "      <td>...</td>\n",
       "      <td>nan,Afghanistan</td>\n",
       "      <td>0.0</td>\n",
       "      <td>0.0</td>\n",
       "      <td>0.0</td>\n",
       "      <td>0.0</td>\n",
       "      <td>0.0</td>\n",
       "      <td>0.0</td>\n",
       "      <td>NaN</td>\n",
       "      <td>NaN</td>\n",
       "      <td>0.0</td>\n",
       "    </tr>\n",
       "    <tr>\n",
       "      <th>1</th>\n",
       "      <td>2020-01-23</td>\n",
       "      <td>Afghanistan</td>\n",
       "      <td>NaN</td>\n",
       "      <td>33.0</td>\n",
       "      <td>65.0</td>\n",
       "      <td>0.0</td>\n",
       "      <td>0.0</td>\n",
       "      <td>0.0</td>\n",
       "      <td>38928341.0</td>\n",
       "      <td>4.0</td>\n",
       "      <td>...</td>\n",
       "      <td>nan,Afghanistan</td>\n",
       "      <td>0.0</td>\n",
       "      <td>0.0</td>\n",
       "      <td>0.0</td>\n",
       "      <td>0.0</td>\n",
       "      <td>0.0</td>\n",
       "      <td>0.0</td>\n",
       "      <td>NaN</td>\n",
       "      <td>NaN</td>\n",
       "      <td>0.0</td>\n",
       "    </tr>\n",
       "    <tr>\n",
       "      <th>2</th>\n",
       "      <td>2020-01-24</td>\n",
       "      <td>Afghanistan</td>\n",
       "      <td>NaN</td>\n",
       "      <td>33.0</td>\n",
       "      <td>65.0</td>\n",
       "      <td>0.0</td>\n",
       "      <td>0.0</td>\n",
       "      <td>0.0</td>\n",
       "      <td>38928341.0</td>\n",
       "      <td>4.0</td>\n",
       "      <td>...</td>\n",
       "      <td>nan,Afghanistan</td>\n",
       "      <td>0.0</td>\n",
       "      <td>0.0</td>\n",
       "      <td>0.0</td>\n",
       "      <td>0.0</td>\n",
       "      <td>0.0</td>\n",
       "      <td>0.0</td>\n",
       "      <td>NaN</td>\n",
       "      <td>NaN</td>\n",
       "      <td>0.0</td>\n",
       "    </tr>\n",
       "    <tr>\n",
       "      <th>3</th>\n",
       "      <td>2020-01-25</td>\n",
       "      <td>Afghanistan</td>\n",
       "      <td>NaN</td>\n",
       "      <td>33.0</td>\n",
       "      <td>65.0</td>\n",
       "      <td>0.0</td>\n",
       "      <td>0.0</td>\n",
       "      <td>0.0</td>\n",
       "      <td>38928341.0</td>\n",
       "      <td>4.0</td>\n",
       "      <td>...</td>\n",
       "      <td>nan,Afghanistan</td>\n",
       "      <td>0.0</td>\n",
       "      <td>0.0</td>\n",
       "      <td>0.0</td>\n",
       "      <td>0.0</td>\n",
       "      <td>0.0</td>\n",
       "      <td>0.0</td>\n",
       "      <td>NaN</td>\n",
       "      <td>NaN</td>\n",
       "      <td>0.0</td>\n",
       "    </tr>\n",
       "    <tr>\n",
       "      <th>4</th>\n",
       "      <td>2020-01-26</td>\n",
       "      <td>Afghanistan</td>\n",
       "      <td>NaN</td>\n",
       "      <td>33.0</td>\n",
       "      <td>65.0</td>\n",
       "      <td>0.0</td>\n",
       "      <td>0.0</td>\n",
       "      <td>0.0</td>\n",
       "      <td>38928341.0</td>\n",
       "      <td>4.0</td>\n",
       "      <td>...</td>\n",
       "      <td>nan,Afghanistan</td>\n",
       "      <td>0.0</td>\n",
       "      <td>0.0</td>\n",
       "      <td>0.0</td>\n",
       "      <td>0.0</td>\n",
       "      <td>0.0</td>\n",
       "      <td>0.0</td>\n",
       "      <td>NaN</td>\n",
       "      <td>NaN</td>\n",
       "      <td>0.0</td>\n",
       "    </tr>\n",
       "  </tbody>\n",
       "</table>\n",
       "<p>5 rows × 24 columns</p>\n",
       "</div>"
      ],
      "text/plain": [
       "        Date CountryRegion ProvinceState   Lat  Long  Confirmed  Recovered  \\\n",
       "0 2020-01-22   Afghanistan           NaN  33.0  65.0        0.0        0.0   \n",
       "1 2020-01-23   Afghanistan           NaN  33.0  65.0        0.0        0.0   \n",
       "2 2020-01-24   Afghanistan           NaN  33.0  65.0        0.0        0.0   \n",
       "3 2020-01-25   Afghanistan           NaN  33.0  65.0        0.0        0.0   \n",
       "4 2020-01-26   Afghanistan           NaN  33.0  65.0        0.0        0.0   \n",
       "\n",
       "   Deaths  Population  UID  ...     Combined_Key  DPM  CPM  RPM DP100K  \\\n",
       "0     0.0  38928341.0  4.0  ...  nan,Afghanistan  0.0  0.0  0.0    0.0   \n",
       "1     0.0  38928341.0  4.0  ...  nan,Afghanistan  0.0  0.0  0.0    0.0   \n",
       "2     0.0  38928341.0  4.0  ...  nan,Afghanistan  0.0  0.0  0.0    0.0   \n",
       "3     0.0  38928341.0  4.0  ...  nan,Afghanistan  0.0  0.0  0.0    0.0   \n",
       "4     0.0  38928341.0  4.0  ...  nan,Afghanistan  0.0  0.0  0.0    0.0   \n",
       "\n",
       "   CP100K  RP100K  Mort  Recov  delC  \n",
       "0     0.0     0.0   NaN    NaN   0.0  \n",
       "1     0.0     0.0   NaN    NaN   0.0  \n",
       "2     0.0     0.0   NaN    NaN   0.0  \n",
       "3     0.0     0.0   NaN    NaN   0.0  \n",
       "4     0.0     0.0   NaN    NaN   0.0  \n",
       "\n",
       "[5 rows x 24 columns]"
      ]
     },
     "execution_count": 32,
     "metadata": {},
     "output_type": "execute_result"
    }
   ],
   "source": [
    "df2.head()"
   ]
  },
  {
   "cell_type": "code",
   "execution_count": 38,
   "metadata": {},
   "outputs": [
    {
     "data": {
      "text/html": [
       "<div>\n",
       "<style scoped>\n",
       "    .dataframe tbody tr th:only-of-type {\n",
       "        vertical-align: middle;\n",
       "    }\n",
       "\n",
       "    .dataframe tbody tr th {\n",
       "        vertical-align: top;\n",
       "    }\n",
       "\n",
       "    .dataframe thead th {\n",
       "        text-align: right;\n",
       "    }\n",
       "</style>\n",
       "<table border=\"1\" class=\"dataframe\">\n",
       "  <thead>\n",
       "    <tr style=\"text-align: right;\">\n",
       "      <th></th>\n",
       "      <th>Date</th>\n",
       "      <th>CountryRegion</th>\n",
       "      <th>ProvinceState</th>\n",
       "      <th>Lat</th>\n",
       "      <th>Long</th>\n",
       "      <th>Confirmed</th>\n",
       "      <th>Recovered</th>\n",
       "      <th>Deaths</th>\n",
       "      <th>Population</th>\n",
       "      <th>UID</th>\n",
       "      <th>...</th>\n",
       "      <th>Combined_Key</th>\n",
       "      <th>DPM</th>\n",
       "      <th>CPM</th>\n",
       "      <th>RPM</th>\n",
       "      <th>DP100K</th>\n",
       "      <th>CP100K</th>\n",
       "      <th>RP100K</th>\n",
       "      <th>Mort</th>\n",
       "      <th>Recov</th>\n",
       "      <th>delC</th>\n",
       "    </tr>\n",
       "  </thead>\n",
       "  <tbody>\n",
       "    <tr>\n",
       "      <th>2087</th>\n",
       "      <td>2020-04-17</td>\n",
       "      <td>Belgium</td>\n",
       "      <td>NaN</td>\n",
       "      <td>50.8333</td>\n",
       "      <td>4.0000</td>\n",
       "      <td>36138.0</td>\n",
       "      <td>7961.0</td>\n",
       "      <td>5163.0</td>\n",
       "      <td>11589616.0</td>\n",
       "      <td>56.0</td>\n",
       "      <td>...</td>\n",
       "      <td>nan,Belgium</td>\n",
       "      <td>445.485</td>\n",
       "      <td>3118.136</td>\n",
       "      <td>686.908</td>\n",
       "      <td>44.548</td>\n",
       "      <td>311.814</td>\n",
       "      <td>68.691</td>\n",
       "      <td>14.286900</td>\n",
       "      <td>22.029443</td>\n",
       "      <td>36138.0</td>\n",
       "    </tr>\n",
       "    <tr>\n",
       "      <th>6176</th>\n",
       "      <td>2020-04-17</td>\n",
       "      <td>China</td>\n",
       "      <td>Hubei</td>\n",
       "      <td>30.9756</td>\n",
       "      <td>112.2707</td>\n",
       "      <td>68128.0</td>\n",
       "      <td>63487.0</td>\n",
       "      <td>4512.0</td>\n",
       "      <td>59170000.0</td>\n",
       "      <td>15613.0</td>\n",
       "      <td>...</td>\n",
       "      <td>Hubei,China</td>\n",
       "      <td>76.255</td>\n",
       "      <td>1151.394</td>\n",
       "      <td>1072.959</td>\n",
       "      <td>7.625</td>\n",
       "      <td>115.139</td>\n",
       "      <td>107.296</td>\n",
       "      <td>6.622828</td>\n",
       "      <td>93.187823</td>\n",
       "      <td>68124.0</td>\n",
       "    </tr>\n",
       "    <tr>\n",
       "      <th>20879</th>\n",
       "      <td>2020-04-17</td>\n",
       "      <td>Turkey</td>\n",
       "      <td>NaN</td>\n",
       "      <td>38.9637</td>\n",
       "      <td>35.2433</td>\n",
       "      <td>78546.0</td>\n",
       "      <td>8631.0</td>\n",
       "      <td>1769.0</td>\n",
       "      <td>84339067.0</td>\n",
       "      <td>792.0</td>\n",
       "      <td>...</td>\n",
       "      <td>nan,Turkey</td>\n",
       "      <td>20.975</td>\n",
       "      <td>931.312</td>\n",
       "      <td>102.337</td>\n",
       "      <td>2.097</td>\n",
       "      <td>93.131</td>\n",
       "      <td>10.234</td>\n",
       "      <td>2.252183</td>\n",
       "      <td>10.988465</td>\n",
       "      <td>78545.0</td>\n",
       "    </tr>\n",
       "    <tr>\n",
       "      <th>12701</th>\n",
       "      <td>2020-04-17</td>\n",
       "      <td>Iran</td>\n",
       "      <td>NaN</td>\n",
       "      <td>32.0000</td>\n",
       "      <td>53.0000</td>\n",
       "      <td>79494.0</td>\n",
       "      <td>54064.0</td>\n",
       "      <td>4958.0</td>\n",
       "      <td>83992953.0</td>\n",
       "      <td>364.0</td>\n",
       "      <td>...</td>\n",
       "      <td>nan,Iran</td>\n",
       "      <td>59.029</td>\n",
       "      <td>946.437</td>\n",
       "      <td>643.673</td>\n",
       "      <td>5.903</td>\n",
       "      <td>94.644</td>\n",
       "      <td>64.367</td>\n",
       "      <td>6.236949</td>\n",
       "      <td>68.010164</td>\n",
       "      <td>79494.0</td>\n",
       "    </tr>\n",
       "    <tr>\n",
       "      <th>21314</th>\n",
       "      <td>2020-04-17</td>\n",
       "      <td>United Kingdom</td>\n",
       "      <td>NaN</td>\n",
       "      <td>55.3781</td>\n",
       "      <td>-3.4360</td>\n",
       "      <td>108692.0</td>\n",
       "      <td>0.0</td>\n",
       "      <td>14576.0</td>\n",
       "      <td>67886004.0</td>\n",
       "      <td>826.0</td>\n",
       "      <td>...</td>\n",
       "      <td>nan,United Kingdom</td>\n",
       "      <td>214.713</td>\n",
       "      <td>1601.096</td>\n",
       "      <td>0.000</td>\n",
       "      <td>21.471</td>\n",
       "      <td>160.110</td>\n",
       "      <td>0.000</td>\n",
       "      <td>13.410371</td>\n",
       "      <td>0.000000</td>\n",
       "      <td>108692.0</td>\n",
       "    </tr>\n",
       "    <tr>\n",
       "      <th>11396</th>\n",
       "      <td>2020-04-17</td>\n",
       "      <td>Germany</td>\n",
       "      <td>NaN</td>\n",
       "      <td>51.0000</td>\n",
       "      <td>9.0000</td>\n",
       "      <td>141397.0</td>\n",
       "      <td>83114.0</td>\n",
       "      <td>4352.0</td>\n",
       "      <td>83783945.0</td>\n",
       "      <td>276.0</td>\n",
       "      <td>...</td>\n",
       "      <td>nan,Germany</td>\n",
       "      <td>51.943</td>\n",
       "      <td>1687.638</td>\n",
       "      <td>992.004</td>\n",
       "      <td>5.194</td>\n",
       "      <td>168.764</td>\n",
       "      <td>99.200</td>\n",
       "      <td>3.077859</td>\n",
       "      <td>58.780596</td>\n",
       "      <td>141397.0</td>\n",
       "    </tr>\n",
       "    <tr>\n",
       "      <th>10178</th>\n",
       "      <td>2020-04-17</td>\n",
       "      <td>France</td>\n",
       "      <td>NaN</td>\n",
       "      <td>46.2276</td>\n",
       "      <td>2.2137</td>\n",
       "      <td>147969.0</td>\n",
       "      <td>34420.0</td>\n",
       "      <td>18681.0</td>\n",
       "      <td>65273512.0</td>\n",
       "      <td>250.0</td>\n",
       "      <td>...</td>\n",
       "      <td>nan,France</td>\n",
       "      <td>286.196</td>\n",
       "      <td>2266.907</td>\n",
       "      <td>527.320</td>\n",
       "      <td>28.620</td>\n",
       "      <td>226.691</td>\n",
       "      <td>52.732</td>\n",
       "      <td>12.624942</td>\n",
       "      <td>23.261629</td>\n",
       "      <td>147969.0</td>\n",
       "    </tr>\n",
       "    <tr>\n",
       "      <th>13049</th>\n",
       "      <td>2020-04-17</td>\n",
       "      <td>Italy</td>\n",
       "      <td>NaN</td>\n",
       "      <td>43.0000</td>\n",
       "      <td>12.0000</td>\n",
       "      <td>172434.0</td>\n",
       "      <td>42727.0</td>\n",
       "      <td>22745.0</td>\n",
       "      <td>60461828.0</td>\n",
       "      <td>380.0</td>\n",
       "      <td>...</td>\n",
       "      <td>nan,Italy</td>\n",
       "      <td>376.188</td>\n",
       "      <td>2851.948</td>\n",
       "      <td>706.677</td>\n",
       "      <td>37.619</td>\n",
       "      <td>285.195</td>\n",
       "      <td>70.668</td>\n",
       "      <td>13.190554</td>\n",
       "      <td>24.778756</td>\n",
       "      <td>172434.0</td>\n",
       "    </tr>\n",
       "    <tr>\n",
       "      <th>19661</th>\n",
       "      <td>2020-04-17</td>\n",
       "      <td>Spain</td>\n",
       "      <td>NaN</td>\n",
       "      <td>40.0000</td>\n",
       "      <td>-4.0000</td>\n",
       "      <td>190839.0</td>\n",
       "      <td>74797.0</td>\n",
       "      <td>20002.0</td>\n",
       "      <td>46754783.0</td>\n",
       "      <td>724.0</td>\n",
       "      <td>...</td>\n",
       "      <td>nan,Spain</td>\n",
       "      <td>427.806</td>\n",
       "      <td>4081.700</td>\n",
       "      <td>1599.772</td>\n",
       "      <td>42.781</td>\n",
       "      <td>408.170</td>\n",
       "      <td>159.977</td>\n",
       "      <td>10.481086</td>\n",
       "      <td>39.193771</td>\n",
       "      <td>190839.0</td>\n",
       "    </tr>\n",
       "    <tr>\n",
       "      <th>20966</th>\n",
       "      <td>2020-04-17</td>\n",
       "      <td>US</td>\n",
       "      <td>NaN</td>\n",
       "      <td>37.0902</td>\n",
       "      <td>-95.7129</td>\n",
       "      <td>699706.0</td>\n",
       "      <td>58545.0</td>\n",
       "      <td>36773.0</td>\n",
       "      <td>329466283.0</td>\n",
       "      <td>840.0</td>\n",
       "      <td>...</td>\n",
       "      <td>nan,US</td>\n",
       "      <td>111.614</td>\n",
       "      <td>2123.756</td>\n",
       "      <td>177.696</td>\n",
       "      <td>11.161</td>\n",
       "      <td>212.376</td>\n",
       "      <td>17.770</td>\n",
       "      <td>5.255493</td>\n",
       "      <td>8.367086</td>\n",
       "      <td>699706.0</td>\n",
       "    </tr>\n",
       "  </tbody>\n",
       "</table>\n",
       "<p>10 rows × 24 columns</p>\n",
       "</div>"
      ],
      "text/plain": [
       "            Date   CountryRegion ProvinceState      Lat      Long  Confirmed  \\\n",
       "2087  2020-04-17         Belgium           NaN  50.8333    4.0000    36138.0   \n",
       "6176  2020-04-17           China         Hubei  30.9756  112.2707    68128.0   \n",
       "20879 2020-04-17          Turkey           NaN  38.9637   35.2433    78546.0   \n",
       "12701 2020-04-17            Iran           NaN  32.0000   53.0000    79494.0   \n",
       "21314 2020-04-17  United Kingdom           NaN  55.3781   -3.4360   108692.0   \n",
       "11396 2020-04-17         Germany           NaN  51.0000    9.0000   141397.0   \n",
       "10178 2020-04-17          France           NaN  46.2276    2.2137   147969.0   \n",
       "13049 2020-04-17           Italy           NaN  43.0000   12.0000   172434.0   \n",
       "19661 2020-04-17           Spain           NaN  40.0000   -4.0000   190839.0   \n",
       "20966 2020-04-17              US           NaN  37.0902  -95.7129   699706.0   \n",
       "\n",
       "       Recovered   Deaths   Population      UID  ...        Combined_Key  \\\n",
       "2087      7961.0   5163.0   11589616.0     56.0  ...         nan,Belgium   \n",
       "6176     63487.0   4512.0   59170000.0  15613.0  ...         Hubei,China   \n",
       "20879     8631.0   1769.0   84339067.0    792.0  ...          nan,Turkey   \n",
       "12701    54064.0   4958.0   83992953.0    364.0  ...            nan,Iran   \n",
       "21314        0.0  14576.0   67886004.0    826.0  ...  nan,United Kingdom   \n",
       "11396    83114.0   4352.0   83783945.0    276.0  ...         nan,Germany   \n",
       "10178    34420.0  18681.0   65273512.0    250.0  ...          nan,France   \n",
       "13049    42727.0  22745.0   60461828.0    380.0  ...           nan,Italy   \n",
       "19661    74797.0  20002.0   46754783.0    724.0  ...           nan,Spain   \n",
       "20966    58545.0  36773.0  329466283.0    840.0  ...              nan,US   \n",
       "\n",
       "           DPM       CPM       RPM  DP100K   CP100K   RP100K       Mort  \\\n",
       "2087   445.485  3118.136   686.908  44.548  311.814   68.691  14.286900   \n",
       "6176    76.255  1151.394  1072.959   7.625  115.139  107.296   6.622828   \n",
       "20879   20.975   931.312   102.337   2.097   93.131   10.234   2.252183   \n",
       "12701   59.029   946.437   643.673   5.903   94.644   64.367   6.236949   \n",
       "21314  214.713  1601.096     0.000  21.471  160.110    0.000  13.410371   \n",
       "11396   51.943  1687.638   992.004   5.194  168.764   99.200   3.077859   \n",
       "10178  286.196  2266.907   527.320  28.620  226.691   52.732  12.624942   \n",
       "13049  376.188  2851.948   706.677  37.619  285.195   70.668  13.190554   \n",
       "19661  427.806  4081.700  1599.772  42.781  408.170  159.977  10.481086   \n",
       "20966  111.614  2123.756   177.696  11.161  212.376   17.770   5.255493   \n",
       "\n",
       "           Recov      delC  \n",
       "2087   22.029443   36138.0  \n",
       "6176   93.187823   68124.0  \n",
       "20879  10.988465   78545.0  \n",
       "12701  68.010164   79494.0  \n",
       "21314   0.000000  108692.0  \n",
       "11396  58.780596  141397.0  \n",
       "10178  23.261629  147969.0  \n",
       "13049  24.778756  172434.0  \n",
       "19661  39.193771  190839.0  \n",
       "20966   8.367086  699706.0  \n",
       "\n",
       "[10 rows x 24 columns]"
      ]
     },
     "execution_count": 38,
     "metadata": {},
     "output_type": "execute_result"
    }
   ],
   "source": [
    "tmp = df2[df2.Date == df2.Date.max()]\n",
    "tmp = tmp[tmp[\"Confirmed\"] > 0].sort_values(by=[\"Confirmed\"])[-10:]\n",
    "tmp"
   ]
  },
  {
   "cell_type": "code",
   "execution_count": 44,
   "metadata": {},
   "outputs": [
    {
     "data": {
      "text/plain": [
       "(22620, 24)"
      ]
     },
     "execution_count": 44,
     "metadata": {},
     "output_type": "execute_result"
    }
   ],
   "source": [
    "df3.Combined_Key.replace(\"nan\",\"\",inplace=True)\n",
    "df2.shape"
   ]
  },
  {
   "cell_type": "code",
   "execution_count": 46,
   "metadata": {},
   "outputs": [
    {
     "data": {
      "text/html": [
       "<div>\n",
       "<style scoped>\n",
       "    .dataframe tbody tr th:only-of-type {\n",
       "        vertical-align: middle;\n",
       "    }\n",
       "\n",
       "    .dataframe tbody tr th {\n",
       "        vertical-align: top;\n",
       "    }\n",
       "\n",
       "    .dataframe thead th {\n",
       "        text-align: right;\n",
       "    }\n",
       "</style>\n",
       "<table border=\"1\" class=\"dataframe\">\n",
       "  <thead>\n",
       "    <tr style=\"text-align: right;\">\n",
       "      <th></th>\n",
       "      <th>Date</th>\n",
       "      <th>CountryRegion</th>\n",
       "      <th>ProvinceState</th>\n",
       "      <th>Lat</th>\n",
       "      <th>Long</th>\n",
       "      <th>Confirmed</th>\n",
       "      <th>Recovered</th>\n",
       "      <th>Deaths</th>\n",
       "      <th>Population</th>\n",
       "      <th>UID</th>\n",
       "      <th>iso2</th>\n",
       "      <th>iso3</th>\n",
       "      <th>code3</th>\n",
       "      <th>FIPS</th>\n",
       "      <th>Combined_Key</th>\n",
       "    </tr>\n",
       "  </thead>\n",
       "  <tbody>\n",
       "    <tr>\n",
       "      <th>20880</th>\n",
       "      <td>2020-01-22</td>\n",
       "      <td>US</td>\n",
       "      <td>NaN</td>\n",
       "      <td>37.0902</td>\n",
       "      <td>-95.7129</td>\n",
       "      <td>1.0</td>\n",
       "      <td>0.0</td>\n",
       "      <td>0.0</td>\n",
       "      <td>329466283.0</td>\n",
       "      <td>840.0</td>\n",
       "      <td>US</td>\n",
       "      <td>USA</td>\n",
       "      <td>840.0</td>\n",
       "      <td>NaN</td>\n",
       "      <td>nan,US</td>\n",
       "    </tr>\n",
       "    <tr>\n",
       "      <th>20881</th>\n",
       "      <td>2020-01-23</td>\n",
       "      <td>US</td>\n",
       "      <td>NaN</td>\n",
       "      <td>37.0902</td>\n",
       "      <td>-95.7129</td>\n",
       "      <td>1.0</td>\n",
       "      <td>0.0</td>\n",
       "      <td>0.0</td>\n",
       "      <td>329466283.0</td>\n",
       "      <td>840.0</td>\n",
       "      <td>US</td>\n",
       "      <td>USA</td>\n",
       "      <td>840.0</td>\n",
       "      <td>NaN</td>\n",
       "      <td>nan,US</td>\n",
       "    </tr>\n",
       "    <tr>\n",
       "      <th>20882</th>\n",
       "      <td>2020-01-24</td>\n",
       "      <td>US</td>\n",
       "      <td>NaN</td>\n",
       "      <td>37.0902</td>\n",
       "      <td>-95.7129</td>\n",
       "      <td>2.0</td>\n",
       "      <td>0.0</td>\n",
       "      <td>0.0</td>\n",
       "      <td>329466283.0</td>\n",
       "      <td>840.0</td>\n",
       "      <td>US</td>\n",
       "      <td>USA</td>\n",
       "      <td>840.0</td>\n",
       "      <td>NaN</td>\n",
       "      <td>nan,US</td>\n",
       "    </tr>\n",
       "    <tr>\n",
       "      <th>20883</th>\n",
       "      <td>2020-01-25</td>\n",
       "      <td>US</td>\n",
       "      <td>NaN</td>\n",
       "      <td>37.0902</td>\n",
       "      <td>-95.7129</td>\n",
       "      <td>2.0</td>\n",
       "      <td>0.0</td>\n",
       "      <td>0.0</td>\n",
       "      <td>329466283.0</td>\n",
       "      <td>840.0</td>\n",
       "      <td>US</td>\n",
       "      <td>USA</td>\n",
       "      <td>840.0</td>\n",
       "      <td>NaN</td>\n",
       "      <td>nan,US</td>\n",
       "    </tr>\n",
       "    <tr>\n",
       "      <th>20884</th>\n",
       "      <td>2020-01-26</td>\n",
       "      <td>US</td>\n",
       "      <td>NaN</td>\n",
       "      <td>37.0902</td>\n",
       "      <td>-95.7129</td>\n",
       "      <td>5.0</td>\n",
       "      <td>0.0</td>\n",
       "      <td>0.0</td>\n",
       "      <td>329466283.0</td>\n",
       "      <td>840.0</td>\n",
       "      <td>US</td>\n",
       "      <td>USA</td>\n",
       "      <td>840.0</td>\n",
       "      <td>NaN</td>\n",
       "      <td>nan,US</td>\n",
       "    </tr>\n",
       "    <tr>\n",
       "      <th>...</th>\n",
       "      <td>...</td>\n",
       "      <td>...</td>\n",
       "      <td>...</td>\n",
       "      <td>...</td>\n",
       "      <td>...</td>\n",
       "      <td>...</td>\n",
       "      <td>...</td>\n",
       "      <td>...</td>\n",
       "      <td>...</td>\n",
       "      <td>...</td>\n",
       "      <td>...</td>\n",
       "      <td>...</td>\n",
       "      <td>...</td>\n",
       "      <td>...</td>\n",
       "      <td>...</td>\n",
       "    </tr>\n",
       "    <tr>\n",
       "      <th>20962</th>\n",
       "      <td>2020-04-13</td>\n",
       "      <td>US</td>\n",
       "      <td>NaN</td>\n",
       "      <td>37.0902</td>\n",
       "      <td>-95.7129</td>\n",
       "      <td>580619.0</td>\n",
       "      <td>43482.0</td>\n",
       "      <td>23528.0</td>\n",
       "      <td>329466283.0</td>\n",
       "      <td>840.0</td>\n",
       "      <td>US</td>\n",
       "      <td>USA</td>\n",
       "      <td>840.0</td>\n",
       "      <td>NaN</td>\n",
       "      <td>nan,US</td>\n",
       "    </tr>\n",
       "    <tr>\n",
       "      <th>20963</th>\n",
       "      <td>2020-04-14</td>\n",
       "      <td>US</td>\n",
       "      <td>NaN</td>\n",
       "      <td>37.0902</td>\n",
       "      <td>-95.7129</td>\n",
       "      <td>607670.0</td>\n",
       "      <td>47763.0</td>\n",
       "      <td>25831.0</td>\n",
       "      <td>329466283.0</td>\n",
       "      <td>840.0</td>\n",
       "      <td>US</td>\n",
       "      <td>USA</td>\n",
       "      <td>840.0</td>\n",
       "      <td>NaN</td>\n",
       "      <td>nan,US</td>\n",
       "    </tr>\n",
       "    <tr>\n",
       "      <th>20964</th>\n",
       "      <td>2020-04-15</td>\n",
       "      <td>US</td>\n",
       "      <td>NaN</td>\n",
       "      <td>37.0902</td>\n",
       "      <td>-95.7129</td>\n",
       "      <td>636350.0</td>\n",
       "      <td>52096.0</td>\n",
       "      <td>28325.0</td>\n",
       "      <td>329466283.0</td>\n",
       "      <td>840.0</td>\n",
       "      <td>US</td>\n",
       "      <td>USA</td>\n",
       "      <td>840.0</td>\n",
       "      <td>NaN</td>\n",
       "      <td>nan,US</td>\n",
       "    </tr>\n",
       "    <tr>\n",
       "      <th>20965</th>\n",
       "      <td>2020-04-16</td>\n",
       "      <td>US</td>\n",
       "      <td>NaN</td>\n",
       "      <td>37.0902</td>\n",
       "      <td>-95.7129</td>\n",
       "      <td>667801.0</td>\n",
       "      <td>54703.0</td>\n",
       "      <td>32916.0</td>\n",
       "      <td>329466283.0</td>\n",
       "      <td>840.0</td>\n",
       "      <td>US</td>\n",
       "      <td>USA</td>\n",
       "      <td>840.0</td>\n",
       "      <td>NaN</td>\n",
       "      <td>nan,US</td>\n",
       "    </tr>\n",
       "    <tr>\n",
       "      <th>20966</th>\n",
       "      <td>2020-04-17</td>\n",
       "      <td>US</td>\n",
       "      <td>NaN</td>\n",
       "      <td>37.0902</td>\n",
       "      <td>-95.7129</td>\n",
       "      <td>699706.0</td>\n",
       "      <td>58545.0</td>\n",
       "      <td>36773.0</td>\n",
       "      <td>329466283.0</td>\n",
       "      <td>840.0</td>\n",
       "      <td>US</td>\n",
       "      <td>USA</td>\n",
       "      <td>840.0</td>\n",
       "      <td>NaN</td>\n",
       "      <td>nan,US</td>\n",
       "    </tr>\n",
       "  </tbody>\n",
       "</table>\n",
       "<p>87 rows × 15 columns</p>\n",
       "</div>"
      ],
      "text/plain": [
       "            Date CountryRegion ProvinceState      Lat     Long  Confirmed  \\\n",
       "20880 2020-01-22            US           NaN  37.0902 -95.7129        1.0   \n",
       "20881 2020-01-23            US           NaN  37.0902 -95.7129        1.0   \n",
       "20882 2020-01-24            US           NaN  37.0902 -95.7129        2.0   \n",
       "20883 2020-01-25            US           NaN  37.0902 -95.7129        2.0   \n",
       "20884 2020-01-26            US           NaN  37.0902 -95.7129        5.0   \n",
       "...          ...           ...           ...      ...      ...        ...   \n",
       "20962 2020-04-13            US           NaN  37.0902 -95.7129   580619.0   \n",
       "20963 2020-04-14            US           NaN  37.0902 -95.7129   607670.0   \n",
       "20964 2020-04-15            US           NaN  37.0902 -95.7129   636350.0   \n",
       "20965 2020-04-16            US           NaN  37.0902 -95.7129   667801.0   \n",
       "20966 2020-04-17            US           NaN  37.0902 -95.7129   699706.0   \n",
       "\n",
       "       Recovered   Deaths   Population    UID iso2 iso3  code3  FIPS  \\\n",
       "20880        0.0      0.0  329466283.0  840.0   US  USA  840.0   NaN   \n",
       "20881        0.0      0.0  329466283.0  840.0   US  USA  840.0   NaN   \n",
       "20882        0.0      0.0  329466283.0  840.0   US  USA  840.0   NaN   \n",
       "20883        0.0      0.0  329466283.0  840.0   US  USA  840.0   NaN   \n",
       "20884        0.0      0.0  329466283.0  840.0   US  USA  840.0   NaN   \n",
       "...          ...      ...          ...    ...  ...  ...    ...   ...   \n",
       "20962    43482.0  23528.0  329466283.0  840.0   US  USA  840.0   NaN   \n",
       "20963    47763.0  25831.0  329466283.0  840.0   US  USA  840.0   NaN   \n",
       "20964    52096.0  28325.0  329466283.0  840.0   US  USA  840.0   NaN   \n",
       "20965    54703.0  32916.0  329466283.0  840.0   US  USA  840.0   NaN   \n",
       "20966    58545.0  36773.0  329466283.0  840.0   US  USA  840.0   NaN   \n",
       "\n",
       "      Combined_Key  \n",
       "20880       nan,US  \n",
       "20881       nan,US  \n",
       "20882       nan,US  \n",
       "20883       nan,US  \n",
       "20884       nan,US  \n",
       "...            ...  \n",
       "20962       nan,US  \n",
       "20963       nan,US  \n",
       "20964       nan,US  \n",
       "20965       nan,US  \n",
       "20966       nan,US  \n",
       "\n",
       "[87 rows x 15 columns]"
      ]
     },
     "execution_count": 46,
     "metadata": {},
     "output_type": "execute_result"
    }
   ],
   "source": [
    "df3[(df3.CountryRegion == \"US\") & (df3.ProvinceState.isnull())]"
   ]
  },
  {
   "cell_type": "code",
   "execution_count": 48,
   "metadata": {},
   "outputs": [],
   "source": [
    "df4 = df3.drop(df3[(df3.CountryRegion == \"US\") & (df3.ProvinceState.isnull())].index)\n",
    "df4 = df4[df4.CountryRegion == \"US\"].copy()"
   ]
  },
  {
   "cell_type": "code",
   "execution_count": 60,
   "metadata": {},
   "outputs": [
    {
     "data": {
      "text/html": [
       "<div>\n",
       "<style scoped>\n",
       "    .dataframe tbody tr th:only-of-type {\n",
       "        vertical-align: middle;\n",
       "    }\n",
       "\n",
       "    .dataframe tbody tr th {\n",
       "        vertical-align: top;\n",
       "    }\n",
       "\n",
       "    .dataframe thead th {\n",
       "        text-align: right;\n",
       "    }\n",
       "</style>\n",
       "<table border=\"1\" class=\"dataframe\">\n",
       "  <thead>\n",
       "    <tr style=\"text-align: right;\">\n",
       "      <th></th>\n",
       "      <th></th>\n",
       "      <th>Lat</th>\n",
       "      <th>Long</th>\n",
       "      <th>Confirmed</th>\n",
       "    </tr>\n",
       "    <tr>\n",
       "      <th>Date</th>\n",
       "      <th>ProvinceState</th>\n",
       "      <th></th>\n",
       "      <th></th>\n",
       "      <th></th>\n",
       "    </tr>\n",
       "  </thead>\n",
       "  <tbody>\n",
       "    <tr>\n",
       "      <th rowspan=\"5\" valign=\"top\">2020-01-22</th>\n",
       "      <th>Alabama</th>\n",
       "      <td>32.884280</td>\n",
       "      <td>-86.710122</td>\n",
       "      <td>0.0</td>\n",
       "    </tr>\n",
       "    <tr>\n",
       "      <th>Alaska</th>\n",
       "      <td>60.261375</td>\n",
       "      <td>-145.838598</td>\n",
       "      <td>0.0</td>\n",
       "    </tr>\n",
       "    <tr>\n",
       "      <th>American Samoa</th>\n",
       "      <td>-14.271000</td>\n",
       "      <td>-170.132000</td>\n",
       "      <td>0.0</td>\n",
       "    </tr>\n",
       "    <tr>\n",
       "      <th>Arizona</th>\n",
       "      <td>33.675904</td>\n",
       "      <td>-111.463232</td>\n",
       "      <td>0.0</td>\n",
       "    </tr>\n",
       "    <tr>\n",
       "      <th>Arkansas</th>\n",
       "      <td>34.911889</td>\n",
       "      <td>-92.433978</td>\n",
       "      <td>0.0</td>\n",
       "    </tr>\n",
       "    <tr>\n",
       "      <th>...</th>\n",
       "      <th>...</th>\n",
       "      <td>...</td>\n",
       "      <td>...</td>\n",
       "      <td>...</td>\n",
       "    </tr>\n",
       "    <tr>\n",
       "      <th rowspan=\"5\" valign=\"top\">2020-04-17</th>\n",
       "      <th>Virginia</th>\n",
       "      <td>37.566150</td>\n",
       "      <td>-78.513712</td>\n",
       "      <td>7491.0</td>\n",
       "    </tr>\n",
       "    <tr>\n",
       "      <th>Washington</th>\n",
       "      <td>47.233786</td>\n",
       "      <td>-120.719220</td>\n",
       "      <td>11183.0</td>\n",
       "    </tr>\n",
       "    <tr>\n",
       "      <th>West Virginia</th>\n",
       "      <td>38.814254</td>\n",
       "      <td>-80.617455</td>\n",
       "      <td>775.0</td>\n",
       "    </tr>\n",
       "    <tr>\n",
       "      <th>Wisconsin</th>\n",
       "      <td>44.395143</td>\n",
       "      <td>-89.797980</td>\n",
       "      <td>4053.0</td>\n",
       "    </tr>\n",
       "    <tr>\n",
       "      <th>Wyoming</th>\n",
       "      <td>43.086886</td>\n",
       "      <td>-107.153242</td>\n",
       "      <td>305.0</td>\n",
       "    </tr>\n",
       "  </tbody>\n",
       "</table>\n",
       "<p>4872 rows × 3 columns</p>\n",
       "</div>"
      ],
      "text/plain": [
       "                                 Lat        Long  Confirmed\n",
       "Date       ProvinceState                                   \n",
       "2020-01-22 Alabama         32.884280  -86.710122        0.0\n",
       "           Alaska          60.261375 -145.838598        0.0\n",
       "           American Samoa -14.271000 -170.132000        0.0\n",
       "           Arizona         33.675904 -111.463232        0.0\n",
       "           Arkansas        34.911889  -92.433978        0.0\n",
       "...                              ...         ...        ...\n",
       "2020-04-17 Virginia        37.566150  -78.513712     7491.0\n",
       "           Washington      47.233786 -120.719220    11183.0\n",
       "           West Virginia   38.814254  -80.617455      775.0\n",
       "           Wisconsin       44.395143  -89.797980     4053.0\n",
       "           Wyoming         43.086886 -107.153242      305.0\n",
       "\n",
       "[4872 rows x 3 columns]"
      ]
     },
     "execution_count": 60,
     "metadata": {},
     "output_type": "execute_result"
    }
   ],
   "source": [
    "df4.groupby([\"Date\",\"ProvinceState\"]).agg({\"Lat\":np.mean,\"Long\":np.mean,\"Confirmed\":np.sum})"
   ]
  },
  {
   "cell_type": "code",
   "execution_count": 67,
   "metadata": {},
   "outputs": [
    {
     "ename": "ValueError",
     "evalue": "\n    Invalid value of type 'builtins.str' received for the 'x' property of box\n        Received value: 'Date'\n\n    The 'x' property is an array that may be specified as a tuple,\n    list, numpy array, or pandas Series",
     "output_type": "error",
     "traceback": [
      "\u001b[0;31m---------------------------------------------------------------------------\u001b[0m",
      "\u001b[0;31mValueError\u001b[0m                                Traceback (most recent call last)",
      "\u001b[0;32m<ipython-input-67-397815af9a69>\u001b[0m in \u001b[0;36m<module>\u001b[0;34m\u001b[0m\n\u001b[0;32m----> 1\u001b[0;31m \u001b[0mfig\u001b[0m \u001b[0;34m=\u001b[0m \u001b[0mgo\u001b[0m\u001b[0;34m.\u001b[0m\u001b[0mFigure\u001b[0m\u001b[0;34m(\u001b[0m\u001b[0mdata\u001b[0m\u001b[0;34m=\u001b[0m\u001b[0;34m[\u001b[0m\u001b[0mgo\u001b[0m\u001b[0;34m.\u001b[0m\u001b[0mBox\u001b[0m\u001b[0;34m(\u001b[0m\u001b[0mdata\u001b[0m\u001b[0;34m=\u001b[0m\u001b[0mdf2\u001b[0m\u001b[0;34m[\u001b[0m\u001b[0mdf2\u001b[0m\u001b[0;34m.\u001b[0m\u001b[0mDate\u001b[0m \u001b[0;34m==\u001b[0m \u001b[0mdf2\u001b[0m\u001b[0;34m.\u001b[0m\u001b[0mDate\u001b[0m\u001b[0;34m.\u001b[0m\u001b[0mmax\u001b[0m\u001b[0;34m(\u001b[0m\u001b[0;34m)\u001b[0m\u001b[0;34m]\u001b[0m\u001b[0;34m,\u001b[0m\u001b[0mx\u001b[0m\u001b[0;34m=\u001b[0m\u001b[0;34m\"Date\"\u001b[0m\u001b[0;34m,\u001b[0m \u001b[0my\u001b[0m\u001b[0;34m=\u001b[0m\u001b[0;34m\"Mort\"\u001b[0m\u001b[0;34m)\u001b[0m\u001b[0;34m]\u001b[0m\u001b[0;34m)\u001b[0m\u001b[0;34m\u001b[0m\u001b[0;34m\u001b[0m\u001b[0m\n\u001b[0m\u001b[1;32m      2\u001b[0m \u001b[0mfig\u001b[0m\u001b[0;34m.\u001b[0m\u001b[0mupdate_traces\u001b[0m\u001b[0;34m(\u001b[0m\u001b[0mquartilemethod\u001b[0m\u001b[0;34m=\u001b[0m\u001b[0;34m\"exclusive\"\u001b[0m\u001b[0;34m)\u001b[0m \u001b[0;31m# or \"inclusive\", or \"linear\" by default\u001b[0m\u001b[0;34m\u001b[0m\u001b[0;34m\u001b[0m\u001b[0m\n\u001b[1;32m      3\u001b[0m \u001b[0mfig\u001b[0m\u001b[0;34m.\u001b[0m\u001b[0mshow\u001b[0m\u001b[0;34m(\u001b[0m\u001b[0;34m)\u001b[0m\u001b[0;34m\u001b[0m\u001b[0;34m\u001b[0m\u001b[0m\n",
      "\u001b[0;32m~/anaconda3/lib/python3.7/site-packages/plotly/graph_objs/__init__.py\u001b[0m in \u001b[0;36m__init__\u001b[0;34m(self, arg, alignmentgroup, boxmean, boxpoints, customdata, customdatasrc, dx, dy, fillcolor, hoverinfo, hoverinfosrc, hoverlabel, hoveron, hovertemplate, hovertemplatesrc, hovertext, hovertextsrc, ids, idssrc, jitter, legendgroup, line, lowerfence, lowerfencesrc, marker, mean, meansrc, median, mediansrc, meta, metasrc, name, notched, notchspan, notchspansrc, notchwidth, offsetgroup, opacity, orientation, pointpos, q1, q1src, q3, q3src, quartilemethod, sd, sdsrc, selected, selectedpoints, showlegend, stream, text, textsrc, uid, uirevision, unselected, upperfence, upperfencesrc, visible, whiskerwidth, width, x, x0, xaxis, xcalendar, xsrc, y, y0, yaxis, ycalendar, ysrc, **kwargs)\u001b[0m\n\u001b[1;32m  88532\u001b[0m         \u001b[0mself\u001b[0m\u001b[0;34m[\u001b[0m\u001b[0;34m\"width\"\u001b[0m\u001b[0;34m]\u001b[0m \u001b[0;34m=\u001b[0m \u001b[0mwidth\u001b[0m \u001b[0;32mif\u001b[0m \u001b[0mwidth\u001b[0m \u001b[0;32mis\u001b[0m \u001b[0;32mnot\u001b[0m \u001b[0;32mNone\u001b[0m \u001b[0;32melse\u001b[0m \u001b[0m_v\u001b[0m\u001b[0;34m\u001b[0m\u001b[0;34m\u001b[0m\u001b[0m\n\u001b[1;32m  88533\u001b[0m         \u001b[0m_v\u001b[0m \u001b[0;34m=\u001b[0m \u001b[0marg\u001b[0m\u001b[0;34m.\u001b[0m\u001b[0mpop\u001b[0m\u001b[0;34m(\u001b[0m\u001b[0;34m\"x\"\u001b[0m\u001b[0;34m,\u001b[0m \u001b[0;32mNone\u001b[0m\u001b[0;34m)\u001b[0m\u001b[0;34m\u001b[0m\u001b[0;34m\u001b[0m\u001b[0m\n\u001b[0;32m> 88534\u001b[0;31m         \u001b[0mself\u001b[0m\u001b[0;34m[\u001b[0m\u001b[0;34m\"x\"\u001b[0m\u001b[0;34m]\u001b[0m \u001b[0;34m=\u001b[0m \u001b[0mx\u001b[0m \u001b[0;32mif\u001b[0m \u001b[0mx\u001b[0m \u001b[0;32mis\u001b[0m \u001b[0;32mnot\u001b[0m \u001b[0;32mNone\u001b[0m \u001b[0;32melse\u001b[0m \u001b[0m_v\u001b[0m\u001b[0;34m\u001b[0m\u001b[0;34m\u001b[0m\u001b[0m\n\u001b[0m\u001b[1;32m  88535\u001b[0m         \u001b[0m_v\u001b[0m \u001b[0;34m=\u001b[0m \u001b[0marg\u001b[0m\u001b[0;34m.\u001b[0m\u001b[0mpop\u001b[0m\u001b[0;34m(\u001b[0m\u001b[0;34m\"x0\"\u001b[0m\u001b[0;34m,\u001b[0m \u001b[0;32mNone\u001b[0m\u001b[0;34m)\u001b[0m\u001b[0;34m\u001b[0m\u001b[0;34m\u001b[0m\u001b[0m\n\u001b[1;32m  88536\u001b[0m         \u001b[0mself\u001b[0m\u001b[0;34m[\u001b[0m\u001b[0;34m\"x0\"\u001b[0m\u001b[0;34m]\u001b[0m \u001b[0;34m=\u001b[0m \u001b[0mx0\u001b[0m \u001b[0;32mif\u001b[0m \u001b[0mx0\u001b[0m \u001b[0;32mis\u001b[0m \u001b[0;32mnot\u001b[0m \u001b[0;32mNone\u001b[0m \u001b[0;32melse\u001b[0m \u001b[0m_v\u001b[0m\u001b[0;34m\u001b[0m\u001b[0;34m\u001b[0m\u001b[0m\n",
      "\u001b[0;32m~/anaconda3/lib/python3.7/site-packages/plotly/basedatatypes.py\u001b[0m in \u001b[0;36m__setitem__\u001b[0;34m(self, prop, value)\u001b[0m\n\u001b[1;32m   3488\u001b[0m             \u001b[0;31m# ### Handle simple property ###\u001b[0m\u001b[0;34m\u001b[0m\u001b[0;34m\u001b[0m\u001b[0;34m\u001b[0m\u001b[0m\n\u001b[1;32m   3489\u001b[0m             \u001b[0;32melse\u001b[0m\u001b[0;34m:\u001b[0m\u001b[0;34m\u001b[0m\u001b[0;34m\u001b[0m\u001b[0m\n\u001b[0;32m-> 3490\u001b[0;31m                 \u001b[0mself\u001b[0m\u001b[0;34m.\u001b[0m\u001b[0m_set_prop\u001b[0m\u001b[0;34m(\u001b[0m\u001b[0mprop\u001b[0m\u001b[0;34m,\u001b[0m \u001b[0mvalue\u001b[0m\u001b[0;34m)\u001b[0m\u001b[0;34m\u001b[0m\u001b[0;34m\u001b[0m\u001b[0m\n\u001b[0m\u001b[1;32m   3491\u001b[0m \u001b[0;34m\u001b[0m\u001b[0m\n\u001b[1;32m   3492\u001b[0m         \u001b[0;31m# Handle non-scalar case\u001b[0m\u001b[0;34m\u001b[0m\u001b[0;34m\u001b[0m\u001b[0;34m\u001b[0m\u001b[0m\n",
      "\u001b[0;32m~/anaconda3/lib/python3.7/site-packages/plotly/basedatatypes.py\u001b[0m in \u001b[0;36m_set_prop\u001b[0;34m(self, prop, val)\u001b[0m\n\u001b[1;32m   3775\u001b[0m                 \u001b[0;32mreturn\u001b[0m\u001b[0;34m\u001b[0m\u001b[0;34m\u001b[0m\u001b[0m\n\u001b[1;32m   3776\u001b[0m             \u001b[0;32melse\u001b[0m\u001b[0;34m:\u001b[0m\u001b[0;34m\u001b[0m\u001b[0;34m\u001b[0m\u001b[0m\n\u001b[0;32m-> 3777\u001b[0;31m                 \u001b[0;32mraise\u001b[0m \u001b[0merr\u001b[0m\u001b[0;34m\u001b[0m\u001b[0;34m\u001b[0m\u001b[0m\n\u001b[0m\u001b[1;32m   3778\u001b[0m \u001b[0;34m\u001b[0m\u001b[0m\n\u001b[1;32m   3779\u001b[0m         \u001b[0;31m# val is None\u001b[0m\u001b[0;34m\u001b[0m\u001b[0;34m\u001b[0m\u001b[0;34m\u001b[0m\u001b[0m\n",
      "\u001b[0;32m~/anaconda3/lib/python3.7/site-packages/plotly/basedatatypes.py\u001b[0m in \u001b[0;36m_set_prop\u001b[0;34m(self, prop, val)\u001b[0m\n\u001b[1;32m   3770\u001b[0m         \u001b[0mvalidator\u001b[0m \u001b[0;34m=\u001b[0m \u001b[0mself\u001b[0m\u001b[0;34m.\u001b[0m\u001b[0m_validators\u001b[0m\u001b[0;34m.\u001b[0m\u001b[0mget\u001b[0m\u001b[0;34m(\u001b[0m\u001b[0mprop\u001b[0m\u001b[0;34m)\u001b[0m\u001b[0;34m\u001b[0m\u001b[0;34m\u001b[0m\u001b[0m\n\u001b[1;32m   3771\u001b[0m         \u001b[0;32mtry\u001b[0m\u001b[0;34m:\u001b[0m\u001b[0;34m\u001b[0m\u001b[0;34m\u001b[0m\u001b[0m\n\u001b[0;32m-> 3772\u001b[0;31m             \u001b[0mval\u001b[0m \u001b[0;34m=\u001b[0m \u001b[0mvalidator\u001b[0m\u001b[0;34m.\u001b[0m\u001b[0mvalidate_coerce\u001b[0m\u001b[0;34m(\u001b[0m\u001b[0mval\u001b[0m\u001b[0;34m)\u001b[0m\u001b[0;34m\u001b[0m\u001b[0;34m\u001b[0m\u001b[0m\n\u001b[0m\u001b[1;32m   3773\u001b[0m         \u001b[0;32mexcept\u001b[0m \u001b[0mValueError\u001b[0m \u001b[0;32mas\u001b[0m \u001b[0merr\u001b[0m\u001b[0;34m:\u001b[0m\u001b[0;34m\u001b[0m\u001b[0;34m\u001b[0m\u001b[0m\n\u001b[1;32m   3774\u001b[0m             \u001b[0;32mif\u001b[0m \u001b[0mself\u001b[0m\u001b[0;34m.\u001b[0m\u001b[0m_skip_invalid\u001b[0m\u001b[0;34m:\u001b[0m\u001b[0;34m\u001b[0m\u001b[0;34m\u001b[0m\u001b[0m\n",
      "\u001b[0;32m~/anaconda3/lib/python3.7/site-packages/_plotly_utils/basevalidators.py\u001b[0m in \u001b[0;36mvalidate_coerce\u001b[0;34m(self, v)\u001b[0m\n\u001b[1;32m    387\u001b[0m             \u001b[0mv\u001b[0m \u001b[0;34m=\u001b[0m \u001b[0mto_scalar_or_list\u001b[0m\u001b[0;34m(\u001b[0m\u001b[0mv\u001b[0m\u001b[0;34m)\u001b[0m\u001b[0;34m\u001b[0m\u001b[0;34m\u001b[0m\u001b[0m\n\u001b[1;32m    388\u001b[0m         \u001b[0;32melse\u001b[0m\u001b[0;34m:\u001b[0m\u001b[0;34m\u001b[0m\u001b[0;34m\u001b[0m\u001b[0m\n\u001b[0;32m--> 389\u001b[0;31m             \u001b[0mself\u001b[0m\u001b[0;34m.\u001b[0m\u001b[0mraise_invalid_val\u001b[0m\u001b[0;34m(\u001b[0m\u001b[0mv\u001b[0m\u001b[0;34m)\u001b[0m\u001b[0;34m\u001b[0m\u001b[0;34m\u001b[0m\u001b[0m\n\u001b[0m\u001b[1;32m    390\u001b[0m         \u001b[0;32mreturn\u001b[0m \u001b[0mv\u001b[0m\u001b[0;34m\u001b[0m\u001b[0;34m\u001b[0m\u001b[0m\n\u001b[1;32m    391\u001b[0m \u001b[0;34m\u001b[0m\u001b[0m\n",
      "\u001b[0;32m~/anaconda3/lib/python3.7/site-packages/_plotly_utils/basevalidators.py\u001b[0m in \u001b[0;36mraise_invalid_val\u001b[0;34m(self, v, inds)\u001b[0m\n\u001b[1;32m    281\u001b[0m                 \u001b[0mtyp\u001b[0m\u001b[0;34m=\u001b[0m\u001b[0mtype_str\u001b[0m\u001b[0;34m(\u001b[0m\u001b[0mv\u001b[0m\u001b[0;34m)\u001b[0m\u001b[0;34m,\u001b[0m\u001b[0;34m\u001b[0m\u001b[0;34m\u001b[0m\u001b[0m\n\u001b[1;32m    282\u001b[0m                 \u001b[0mv\u001b[0m\u001b[0;34m=\u001b[0m\u001b[0mrepr\u001b[0m\u001b[0;34m(\u001b[0m\u001b[0mv\u001b[0m\u001b[0;34m)\u001b[0m\u001b[0;34m,\u001b[0m\u001b[0;34m\u001b[0m\u001b[0;34m\u001b[0m\u001b[0m\n\u001b[0;32m--> 283\u001b[0;31m                 \u001b[0mvalid_clr_desc\u001b[0m\u001b[0;34m=\u001b[0m\u001b[0mself\u001b[0m\u001b[0;34m.\u001b[0m\u001b[0mdescription\u001b[0m\u001b[0;34m(\u001b[0m\u001b[0;34m)\u001b[0m\u001b[0;34m,\u001b[0m\u001b[0;34m\u001b[0m\u001b[0;34m\u001b[0m\u001b[0m\n\u001b[0m\u001b[1;32m    284\u001b[0m             )\n\u001b[1;32m    285\u001b[0m         )\n",
      "\u001b[0;31mValueError\u001b[0m: \n    Invalid value of type 'builtins.str' received for the 'x' property of box\n        Received value: 'Date'\n\n    The 'x' property is an array that may be specified as a tuple,\n    list, numpy array, or pandas Series"
     ]
    }
   ],
   "source": [
    "fig = go.Figure(data=[go.Box(data=df2[df2.Date == df2.Date.max()],x=\"Date\", y=\"Mort\")])\n",
    "fig.update_traces(quartilemethod=\"exclusive\") # or \"inclusive\", or \"linear\" by default\n",
    "fig.show()"
   ]
  },
  {
   "cell_type": "code",
   "execution_count": 82,
   "metadata": {},
   "outputs": [
    {
     "data": {
      "application/vnd.plotly.v1+json": {
       "config": {
        "plotlyServerURL": "https://plot.ly"
       },
       "data": [
        {
         "name": "Mortality",
         "type": "box",
         "y": [
          1.1973282616072674,
          1.5735511531005761,
          2.711628022450094,
          1.6151685871430854,
          2.353878387381596,
          2.5682882587270512,
          1.5278953919559848,
          0.4586993430745484,
          1.0690534864265653,
          -0.11812485757049605,
          null,
          -0.7001227942963705,
          -0.08388148398070212,
          1.3581234841531944,
          0.07257069283483558,
          0.25766105619692325,
          1.082843992803624,
          0.11279549414534429,
          2.8134107167600364,
          -0.91056005716517,
          1.4062249966087694,
          1.8971199848858813,
          -0.1291467943066986,
          2.6593430485959644,
          2.407945608651872,
          1.0498221244986776,
          null,
          1.8971199848858813,
          1.3321356108577427,
          1.8971199848858813,
          1.8494796255617745,
          -0.3074846997479607,
          1.578222893086176,
          1.837953007550221,
          1.5141277326297755,
          2.995732273553991,
          0.579818495252942,
          null,
          0.7924653817618089,
          0.735219956981853,
          1.586965056582042,
          0.6931471805599453,
          null,
          0.15860503017663857,
          null,
          -0.4154154389613325,
          1.6117306150050756,
          null,
          1.4099439132358627,
          null,
          0.26461679952078493,
          null,
          null,
          null,
          0.2261653537431262,
          -0.5017848791138417,
          0.29941732867020177,
          0.03562717764315125,
          -1.264126727145683,
          0.36384343341734504,
          -0.6786678592951112,
          -0.23901690047049998,
          0.3147107448397002,
          1.2729656758128873,
          0.6039160468320025,
          0.3993301195406485,
          0.5447271754416719,
          -0.9370732710566836,
          1.89052241147278,
          -0.9351124861147428,
          -0.657520002916794,
          null,
          -2.2375130962503307,
          -0.019802627296179754,
          0.3147107448397002,
          null,
          null,
          null,
          0.15860503017663857,
          -0.11714791337399859,
          0.10854016857520597,
          null,
          -0.6241543090729939,
          0.4620354595965586,
          null,
          1.3730491343698699,
          0.083381608939051,
          -2.5400259490090797,
          1.4926720969482605,
          1.4340850249562391,
          2.0811821861576196,
          -0.4839681695961079,
          -0.1368591827171973,
          0.6853994937691195,
          1.2115281559703854,
          0.47000362924573563,
          0.9713941352678168,
          1.5582413489153055,
          null,
          null,
          -1.2974631474132747,
          null,
          1.578423858904931,
          1.6058812993192533,
          1.975213374203368,
          1.3749306024695755,
          null,
          null,
          0.9572497971916916,
          1.8325814637483102,
          1.1394342831883648,
          null,
          0.8545189920655705,
          2.5356743581815566,
          null,
          null,
          1.707877985247353,
          1.6220166946409607,
          0.490206336563255,
          null,
          null,
          null,
          null,
          1.742969305058623,
          -0.07696104113612844,
          2.407945608651872,
          -0.20972053098206903,
          1.1242341587116866,
          0.22158227074725728,
          1.580238757741838,
          null,
          1.1851043200215532,
          null,
          -0.46373401623214,
          2.2537949288246137,
          1.9425823589626385,
          null,
          2.227432370614701,
          2.180254010839758,
          -0.6672594096078175,
          1.2197342255900077,
          2.172400641286599,
          1.830491072487049,
          1.6984715348044979,
          1.3326641767464575,
          0.15113096120960182,
          2.5795009724476787,
          1.2517634681622845,
          0.6633840047227579,
          0.5422671496008097,
          0.09495730089694017,
          1.4977339228540991,
          0.7713437672769493,
          0.9162907318741551,
          -1.1987592372730487,
          0.022245608947319737,
          null,
          -0.3104215594212703,
          1.1454044501748686,
          2.2203469947570733,
          0.7133498878774648,
          0.23572233352106994,
          1.055030469605816,
          0.7270487322356267,
          null,
          2.4651040224918206,
          0.49334366860373996,
          null,
          2.0284559869469683,
          -0.34122283937981074,
          2.659260036932778,
          1.0216512475319812,
          2.0435502013998423,
          0.905633437400167,
          1.160487692386197,
          null,
          0.5008752929128225,
          1.66112114638596,
          null,
          null,
          null,
          2.4300965630489815,
          0.7339691750802003,
          null,
          1.9661128563728327,
          2.7593434954897607,
          -0.24757005311221836,
          2.407945608651872,
          1.0545954032513354,
          1.2378743560016172,
          1.4785886850295171,
          0.841949867587253,
          -0.5775492558088989,
          0.6532144702245744,
          0.99847640684567,
          null,
          1.3913069029434348,
          0.7993228431746128,
          1.8846230320390105,
          1.3768213002912935,
          1.2395027214303709,
          -1.8963339617649162,
          1.6282264555473518,
          -0.15909916936401972,
          null,
          null,
          null,
          null,
          2.1933858010290535,
          null,
          0.19733017648828133,
          -0.5364933705145686,
          0.6591850246601308,
          null,
          null,
          -1.5240780634829434,
          -0.15319784507198642,
          1.6216331855279187,
          1.6433394641097818,
          0.5859084298903466,
          null,
          2.3495723138998543,
          1.0539121097502027,
          2.900422093749666,
          2.302585092994046,
          2.360214205830682,
          1.5893693512652427,
          1.6607312068216509,
          0.4180438903150244,
          1.2241755116434556,
          0.5543107357057295,
          null,
          1.7957674906255938,
          1.9484132792734319,
          1.4545153298282603,
          0.8119001607397226,
          1.6592738194057226,
          null,
          0.98628410369469,
          -0.532534223684904,
          2.596028332143044,
          null,
          1.7957674906255938,
          null,
          0.49429632181478017,
          1.448169764837978,
          null,
          null,
          0.3181412799364895,
          null,
          2.207274913189721,
          0.5837946436325817,
          -1.256328034659864,
          1.4842747694800944,
          null,
          -0.6981347220709844,
          null,
          null,
          1.3470736479666094,
          2.5257286443082556
         ]
        },
        {
         "name": "Deaths per 100K",
         "type": "box",
         "y": [
          0.07417939817425147,
          0.6434315883140125,
          0.6043159668533296,
          3.835120362586804,
          0.005982071677547469,
          1.40192161700559,
          0.24059046491793043,
          0.4953058121079539,
          0.5312163134137248,
          0.27763173659827955,
          0,
          0.09349034308733897,
          0.2053868297249507,
          0.8359479791916166,
          0.19144646457095527,
          0.23586232372198446,
          1.7552683606456398,
          0.1380212978973746,
          1.19058356720692,
          0.34429867287067695,
          0.044973365642731196,
          1.007957920399979,
          0.36741704047063445,
          3.8187667149483584,
          0.4074631107708375,
          0.007968169649176881,
          0,
          0.23586232372198446,
          0.8763017236577919,
          0.042101176018635326,
          0.6966410698142009,
          0.20620083058389785,
          0.46373401623214006,
          0.15443635330441896,
          0.006975613736425138,
          0.007968169649176881,
          0.16551443847757333,
          0,
          0.07973496801885352,
          0.7575294394892135,
          0.9190868191761562,
          0.30968815271439554,
          0,
          0.4542552722775964,
          0,
          0.3428802329165432,
          1.5177611238621962,
          0,
          2.203648345134022,
          null,
          0.29192306670903545,
          0,
          0,
          0,
          0.47436908675537554,
          0.008959741371471801,
          0.036331929247390204,
          0.018821754240587667,
          0.002995508979798371,
          0.007968169649176881,
          0.006975613736425138,
          0.003992021269537457,
          0.005982071677547469,
          0.0620353909194527,
          0.007968169649176881,
          0.03343477608623742,
          0.02273948696948934,
          0.051643233151838386,
          2.1546649629174235,
          0.005982071677547469,
          0.003992021269537457,
          0,
          0.001998002662673058,
          0.003992021269537457,
          0.004987541511038968,
          0,
          0,
          0,
          0.007968169649176881,
          0.006975613736425138,
          0.028587456851912472,
          0,
          0.003992021269537457,
          0.018821754240587667,
          0,
          0.011928570865273812,
          0.003992021269537457,
          0.001998002662673058,
          0.2631331995303682,
          0.10345870836822997,
          0.025667746748577813,
          0.07603468627599758,
          0.02273948696948934,
          0.6296747576043717,
          0.24216155714997162,
          0.6901426715396466,
          0.9612640975168864,
          1.9170696601935016,
          0,
          0,
          0.1839868361130158,
          0,
          1.0452115119409946,
          1.2196492837109436,
          0.1823215567939546,
          0.10255658832509215,
          0,
          0,
          1.3519616820393854,
          0.08250122151174377,
          0.002995508979798371,
          0,
          0.9082585601768908,
          3.3884498088396526,
          0,
          0,
          1.098278899766872,
          1.1416717781285568,
          0.9025974047421527,
          0,
          0,
          0,
          0,
          1.8201849434117587,
          0.04401688541677426,
          0.04018178963283176,
          0.07232066157962608,
          1.823581081551011,
          0.025667746748577813,
          0.7109870986882764,
          0,
          0.03825871211709027,
          0,
          0.02273948696948934,
          0.5670169034157331,
          0.025667746748577813,
          0,
          0.34642256747438094,
          0.9612640975168864,
          1.291159166004852,
          0.03440142671733232,
          0.17395330712343798,
          1.9319560997213385,
          0.18315454309784654,
          2.4624906105036684,
          1.009781074961494,
          3.653744383345607,
          0.15614868248993138,
          0.13976194237515863,
          0.06672363204290813,
          0.08709470685093373,
          0.01980262729617973,
          0.3708736633385454,
          0.5086232002107907,
          0.11064652008706365,
          0.07417939817425147,
          0,
          0.23507212217948364,
          0.268499253035007,
          0.1292723357041391,
          0.014888612493750559,
          1.2870263594612217,
          0.7938970836600883,
          2.5258886315096207,
          0,
          0.009950330853168092,
          0.23586232372198446,
          0,
          0.0620353909194527,
          0.5181983780954038,
          0.02176149178151271,
          0.5353230953663781,
          0.3199072197465178,
          0.8704561955303556,
          2.1568654386446395,
          0,
          0.5855619698800079,
          0.3118867611485984,
          0,
          0,
          0,
          3.0533877860421534,
          1.0553567799971526,
          0,
          0.47561286801024616,
          3.090496849998414,
          0.2053868297249507,
          0.014888612493750559,
          0.071389996086673,
          0.007968169649176881,
          1.2095571826198366,
          1.3787660946990992,
          0.11064652008706365,
          0.05921185963184603,
          1.2601640839756785,
          0,
          0.10616019582839072,
          0.6471032420585385,
          0.302324349188651,
          0.6296747576043717,
          2.0072739933777735,
          0.21752781252857398,
          1.1429481024881614,
          0.17142911562753102,
          0,
          0,
          0,
          0,
          4.752857163886857,
          0,
          0.22314355131420976,
          0.011928570865273812,
          0.8149222374858661,
          0,
          0,
          0.17227122094045313,
          0.15272108701766393,
          1.4291143583028187,
          0.03729578474369693,
          0.08065790301745454,
          0,
          3.7791999333139823,
          0.03246719013750141,
          0.013902905168991434,
          0.1570037488096647,
          2.6988076197352777,
          2.793187601071002,
          0.010939940038334263,
          0.024692612590371414,
          0.007968169649176881,
          0.06485097231961627,
          0,
          0.058268908123975824,
          0.45234869400701483,
          0.2723145953206591,
          1.1304339009910658,
          2.4982341099988625,
          0,
          0.2515366258154277,
          0.31772619380015765,
          3.112225588989795,
          0,
          2.200441619325342,
          0,
          0.9250522375427279,
          2.543961412569315,
          0,
          0,
          1.7411676831119947,
          0,
          1.2762004383228167,
          0.23031775506221003,
          0.011928570865273812,
          0.031498667059371016,
          0,
          0.03825871211709027,
          0,
          0,
          0.010939940038334263,
          0.01980262729617973
         ]
        },
        {
         "name": "Cases per 100K",
         "type": "box",
         "y": [
          1.2020709970363397,
          2.982140320034524,
          1.8739537068540417,
          6.804388330403849,
          0.05638033343610769,
          3.1981423644812885,
          1.9322457868612555,
          3.726416057642662,
          3.221272949467922,
          3.612079400018699,
          2.5177771145206354,
          3.0294087999133748,
          3.2490169817801875,
          3.5442293340409914,
          3.0271340366935227,
          3.0711180004598804,
          5.09406303530453,
          2.6543680908523504,
          2.690021998582819,
          4.637230710679773,
          0.749527513996053,
          3.2994968268358162,
          3.9430370589573154,
          5.745608764702838,
          1.709645172851126,
          0.2538667239570503,
          0.49956243148728,
          1.606232781485152,
          3.637665103978627,
          0.4934759854308776,
          2.824113239893172,
          3.468450963683955,
          2.578321094427426,
          1.2988283353386147,
          0.1501426584297194,
          0.04114194333117521,
          2.4044193988753135,
          0.5481214085096876,
          1.5585655820603437,
          4.0130441194868745,
          3.4599693079053893,
          2.95225049494203,
          2.772588722239781,
          3.9140609274537113,
          2.4960938391785645,
          4.143102979855871,
          4.277665619349139,
          2.8587090773873234,
          5.28700866352499,
          null,
          3.2950958507796098,
          3.019204629739133,
          0.22154226994723591,
          0.15186234930924603,
          3.8999301810740064,
          0.9427379018890034,
          1.3225555201528838,
          1.0532661869012327,
          0.6408007001877362,
          0.42330502623649546,
          0.8712933659434192,
          0.41607528722017995,
          0.34074879338847325,
          1.0292622105333165,
          0.36046774217742855,
          1.1972502585651092,
          0.8450095298691915,
          2.6823220525294786,
          4.754787749608918,
          0.9070481505072227,
          0.5664495275139878,
          0.5938791789012763,
          1.1039314501457096,
          0.3199072197465178,
          0.28893129185221283,
          2.0706530356467567,
          0.7371640659767196,
          0.2615947376884624,
          0.5086232002107907,
          0.5782973388810033,
          1.2784307152439458,
          0.4252677354043441,
          0.5134222496132567,
          0.7938970836600883,
          0.028587456851912472,
          0.26696903085423934,
          0.3228078744271551,
          1.1662709371419244,
          2.0488534599118124,
          1.2784307152439458,
          0.27763173659827955,
          2.620311286794203,
          1.2831536022003773,
          3.8108094348508503,
          2.213644583697398,
          4.145021833573083,
          4.12961517630402,
          4.813094510161551,
          5.93369771292379,
          3.0143577376771558,
          4.3186740766706055,
          3.1452292846999024,
          3.6644586795722542,
          3.8896546895661377,
          1.3294594243673519,
          1.3161401011966838,
          1.8917556223867307,
          0.6866259635696799,
          4.709395057045624,
          0.8666802313208206,
          0.08065790301745454,
          1.06333047452347,
          4.158414223462046,
          5.4279894465968335,
          3.500771186558248,
          3.0243197304059035,
          3.6173297452738606,
          3.7636158002279534,
          4.508714350170462,
          1.9885590452026627,
          3.8264869033215523,
          4.122251515475108,
          2.9044937931197197,
          4.516721412802978,
          1.766783483157878,
          0.3162695293036934,
          2.3297137603822984,
          5.134409237264798,
          1.1193948278506383,
          3.1062444963514197,
          2.598384133547774,
          0.7857263618530385,
          1.1584522890241267,
          1.532988740270694,
          2.1983350716202463,
          0.3199072197465178,
          6.897578672530576,
          1.6979980894135807,
          2.9575110607337933,
          6.244153308338351,
          0.712949807856125,
          1.1521530555961395,
          4.560632965220355,
          1.5443659156903857,
          5.649403723384012,
          5.017180494132259,
          5.6566733966692535,
          1.7628454590634126,
          2.167681330529244,
          1.6072354888789002,
          2.222892324084797,
          0.37637952721306783,
          3.079291866652922,
          3.314694966038804,
          3.684469745625236,
          2.1394777551238953,
          0.2319050569827826,
          3.6151521787167766,
          2.378341705393292,
          0.9174900124496372,
          0.5382462193419829,
          5.338249365139382,
          3.766002519160519,
          6.32244314988932,
          0.35276731910771536,
          0.0852598439508234,
          2.846303760062062,
          1.8213182714695995,
          0.611937125134402,
          4.570319908552345,
          0.14063112973974562,
          3.2762386622566764,
          1.772236802739191,
          4.045206837660553,
          5.4828323493567135,
          0.6657759837638133,
          3.8967875327853685,
          2.0727944989580425,
          0.10345870836822997,
          0.4885800148186709,
          0.0980337402713654,
          5.1857196140445545,
          4.509936003295913,
          2.520997469932354,
          2.254549643955489,
          4.897265007923949,
          3.408470865628654,
          0.1275133202989597,
          1.2781522025001875,
          0.2143046026470053,
          4.000308570295506,
          4.859502278758318,
          3.088037944338017,
          1.430311246536665,
          4.544102966239641,
          0.07510747248680548,
          1.332366019094335,
          3.735548322306101,
          1.8506571104755405,
          3.141519505619972,
          5.234045476527896,
          5.092829531722242,
          3.7596407609968483,
          3.132576921281835,
          0.7438402948754634,
          3.307619034702589,
          2.215828229067764,
          2.4694545452290786,
          7.156760710246639,
          1.0385083645984043,
          3.068750366290563,
          1.112843870914834,
          4.19151664397436,
          2.5002877518263027,
          0.2821668917636708,
          4.4695795316817435,
          3.0063754336524706,
          4.154576950262179,
          0.5481214085096876,
          1.739061680227606,
          0.035367143837291344,
          6.014130717606894,
          0.7603384301002687,
          0.07232066157962608,
          0.9951019122984449,
          4.881748337457398,
          5.748988445494087,
          0.19638881400539018,
          0.9775739602910536,
          0.2199384203652614,
          1.5826831751252808,
          0.8607780219438964,
          0.6946460566836813,
          2.2133166252358634,
          2.1174596088673567,
          4.54468742910835,
          5.363055867688274,
          0.11511280710050448,
          2.4561641809223462,
          4.1700393699241705,
          5.082087361502896,
          3.0443795703755123,
          4.899956960169804,
          2.6552821355635543,
          4.541356735256763,
          5.622792929985065,
          5.758333789260704,
          5.973290393129072,
          5.838383295238744,
          5.398361776723593,
          3.38136875402797,
          2.737673726168281,
          1.6482739362192986,
          0.5405785819153385,
          0.2429461786103894,
          2.1838015570040787,
          0.6951451832226183,
          0.002995508979798371,
          0.24920108563349933,
          0.14928170271575447
         ]
        }
       ],
       "layout": {
        "autosize": true,
        "template": {
         "data": {
          "bar": [
           {
            "error_x": {
             "color": "#2a3f5f"
            },
            "error_y": {
             "color": "#2a3f5f"
            },
            "marker": {
             "line": {
              "color": "#E5ECF6",
              "width": 0.5
             }
            },
            "type": "bar"
           }
          ],
          "barpolar": [
           {
            "marker": {
             "line": {
              "color": "#E5ECF6",
              "width": 0.5
             }
            },
            "type": "barpolar"
           }
          ],
          "carpet": [
           {
            "aaxis": {
             "endlinecolor": "#2a3f5f",
             "gridcolor": "white",
             "linecolor": "white",
             "minorgridcolor": "white",
             "startlinecolor": "#2a3f5f"
            },
            "baxis": {
             "endlinecolor": "#2a3f5f",
             "gridcolor": "white",
             "linecolor": "white",
             "minorgridcolor": "white",
             "startlinecolor": "#2a3f5f"
            },
            "type": "carpet"
           }
          ],
          "choropleth": [
           {
            "colorbar": {
             "outlinewidth": 0,
             "ticks": ""
            },
            "type": "choropleth"
           }
          ],
          "contour": [
           {
            "colorbar": {
             "outlinewidth": 0,
             "ticks": ""
            },
            "colorscale": [
             [
              0,
              "#0d0887"
             ],
             [
              0.1111111111111111,
              "#46039f"
             ],
             [
              0.2222222222222222,
              "#7201a8"
             ],
             [
              0.3333333333333333,
              "#9c179e"
             ],
             [
              0.4444444444444444,
              "#bd3786"
             ],
             [
              0.5555555555555556,
              "#d8576b"
             ],
             [
              0.6666666666666666,
              "#ed7953"
             ],
             [
              0.7777777777777778,
              "#fb9f3a"
             ],
             [
              0.8888888888888888,
              "#fdca26"
             ],
             [
              1,
              "#f0f921"
             ]
            ],
            "type": "contour"
           }
          ],
          "contourcarpet": [
           {
            "colorbar": {
             "outlinewidth": 0,
             "ticks": ""
            },
            "type": "contourcarpet"
           }
          ],
          "heatmap": [
           {
            "colorbar": {
             "outlinewidth": 0,
             "ticks": ""
            },
            "colorscale": [
             [
              0,
              "#0d0887"
             ],
             [
              0.1111111111111111,
              "#46039f"
             ],
             [
              0.2222222222222222,
              "#7201a8"
             ],
             [
              0.3333333333333333,
              "#9c179e"
             ],
             [
              0.4444444444444444,
              "#bd3786"
             ],
             [
              0.5555555555555556,
              "#d8576b"
             ],
             [
              0.6666666666666666,
              "#ed7953"
             ],
             [
              0.7777777777777778,
              "#fb9f3a"
             ],
             [
              0.8888888888888888,
              "#fdca26"
             ],
             [
              1,
              "#f0f921"
             ]
            ],
            "type": "heatmap"
           }
          ],
          "heatmapgl": [
           {
            "colorbar": {
             "outlinewidth": 0,
             "ticks": ""
            },
            "colorscale": [
             [
              0,
              "#0d0887"
             ],
             [
              0.1111111111111111,
              "#46039f"
             ],
             [
              0.2222222222222222,
              "#7201a8"
             ],
             [
              0.3333333333333333,
              "#9c179e"
             ],
             [
              0.4444444444444444,
              "#bd3786"
             ],
             [
              0.5555555555555556,
              "#d8576b"
             ],
             [
              0.6666666666666666,
              "#ed7953"
             ],
             [
              0.7777777777777778,
              "#fb9f3a"
             ],
             [
              0.8888888888888888,
              "#fdca26"
             ],
             [
              1,
              "#f0f921"
             ]
            ],
            "type": "heatmapgl"
           }
          ],
          "histogram": [
           {
            "marker": {
             "colorbar": {
              "outlinewidth": 0,
              "ticks": ""
             }
            },
            "type": "histogram"
           }
          ],
          "histogram2d": [
           {
            "colorbar": {
             "outlinewidth": 0,
             "ticks": ""
            },
            "colorscale": [
             [
              0,
              "#0d0887"
             ],
             [
              0.1111111111111111,
              "#46039f"
             ],
             [
              0.2222222222222222,
              "#7201a8"
             ],
             [
              0.3333333333333333,
              "#9c179e"
             ],
             [
              0.4444444444444444,
              "#bd3786"
             ],
             [
              0.5555555555555556,
              "#d8576b"
             ],
             [
              0.6666666666666666,
              "#ed7953"
             ],
             [
              0.7777777777777778,
              "#fb9f3a"
             ],
             [
              0.8888888888888888,
              "#fdca26"
             ],
             [
              1,
              "#f0f921"
             ]
            ],
            "type": "histogram2d"
           }
          ],
          "histogram2dcontour": [
           {
            "colorbar": {
             "outlinewidth": 0,
             "ticks": ""
            },
            "colorscale": [
             [
              0,
              "#0d0887"
             ],
             [
              0.1111111111111111,
              "#46039f"
             ],
             [
              0.2222222222222222,
              "#7201a8"
             ],
             [
              0.3333333333333333,
              "#9c179e"
             ],
             [
              0.4444444444444444,
              "#bd3786"
             ],
             [
              0.5555555555555556,
              "#d8576b"
             ],
             [
              0.6666666666666666,
              "#ed7953"
             ],
             [
              0.7777777777777778,
              "#fb9f3a"
             ],
             [
              0.8888888888888888,
              "#fdca26"
             ],
             [
              1,
              "#f0f921"
             ]
            ],
            "type": "histogram2dcontour"
           }
          ],
          "mesh3d": [
           {
            "colorbar": {
             "outlinewidth": 0,
             "ticks": ""
            },
            "type": "mesh3d"
           }
          ],
          "parcoords": [
           {
            "line": {
             "colorbar": {
              "outlinewidth": 0,
              "ticks": ""
             }
            },
            "type": "parcoords"
           }
          ],
          "pie": [
           {
            "automargin": true,
            "type": "pie"
           }
          ],
          "scatter": [
           {
            "marker": {
             "colorbar": {
              "outlinewidth": 0,
              "ticks": ""
             }
            },
            "type": "scatter"
           }
          ],
          "scatter3d": [
           {
            "line": {
             "colorbar": {
              "outlinewidth": 0,
              "ticks": ""
             }
            },
            "marker": {
             "colorbar": {
              "outlinewidth": 0,
              "ticks": ""
             }
            },
            "type": "scatter3d"
           }
          ],
          "scattercarpet": [
           {
            "marker": {
             "colorbar": {
              "outlinewidth": 0,
              "ticks": ""
             }
            },
            "type": "scattercarpet"
           }
          ],
          "scattergeo": [
           {
            "marker": {
             "colorbar": {
              "outlinewidth": 0,
              "ticks": ""
             }
            },
            "type": "scattergeo"
           }
          ],
          "scattergl": [
           {
            "marker": {
             "colorbar": {
              "outlinewidth": 0,
              "ticks": ""
             }
            },
            "type": "scattergl"
           }
          ],
          "scattermapbox": [
           {
            "marker": {
             "colorbar": {
              "outlinewidth": 0,
              "ticks": ""
             }
            },
            "type": "scattermapbox"
           }
          ],
          "scatterpolar": [
           {
            "marker": {
             "colorbar": {
              "outlinewidth": 0,
              "ticks": ""
             }
            },
            "type": "scatterpolar"
           }
          ],
          "scatterpolargl": [
           {
            "marker": {
             "colorbar": {
              "outlinewidth": 0,
              "ticks": ""
             }
            },
            "type": "scatterpolargl"
           }
          ],
          "scatterternary": [
           {
            "marker": {
             "colorbar": {
              "outlinewidth": 0,
              "ticks": ""
             }
            },
            "type": "scatterternary"
           }
          ],
          "surface": [
           {
            "colorbar": {
             "outlinewidth": 0,
             "ticks": ""
            },
            "colorscale": [
             [
              0,
              "#0d0887"
             ],
             [
              0.1111111111111111,
              "#46039f"
             ],
             [
              0.2222222222222222,
              "#7201a8"
             ],
             [
              0.3333333333333333,
              "#9c179e"
             ],
             [
              0.4444444444444444,
              "#bd3786"
             ],
             [
              0.5555555555555556,
              "#d8576b"
             ],
             [
              0.6666666666666666,
              "#ed7953"
             ],
             [
              0.7777777777777778,
              "#fb9f3a"
             ],
             [
              0.8888888888888888,
              "#fdca26"
             ],
             [
              1,
              "#f0f921"
             ]
            ],
            "type": "surface"
           }
          ],
          "table": [
           {
            "cells": {
             "fill": {
              "color": "#EBF0F8"
             },
             "line": {
              "color": "white"
             }
            },
            "header": {
             "fill": {
              "color": "#C8D4E3"
             },
             "line": {
              "color": "white"
             }
            },
            "type": "table"
           }
          ]
         },
         "layout": {
          "annotationdefaults": {
           "arrowcolor": "#2a3f5f",
           "arrowhead": 0,
           "arrowwidth": 1
          },
          "coloraxis": {
           "colorbar": {
            "outlinewidth": 0,
            "ticks": ""
           }
          },
          "colorscale": {
           "diverging": [
            [
             0,
             "#8e0152"
            ],
            [
             0.1,
             "#c51b7d"
            ],
            [
             0.2,
             "#de77ae"
            ],
            [
             0.3,
             "#f1b6da"
            ],
            [
             0.4,
             "#fde0ef"
            ],
            [
             0.5,
             "#f7f7f7"
            ],
            [
             0.6,
             "#e6f5d0"
            ],
            [
             0.7,
             "#b8e186"
            ],
            [
             0.8,
             "#7fbc41"
            ],
            [
             0.9,
             "#4d9221"
            ],
            [
             1,
             "#276419"
            ]
           ],
           "sequential": [
            [
             0,
             "#0d0887"
            ],
            [
             0.1111111111111111,
             "#46039f"
            ],
            [
             0.2222222222222222,
             "#7201a8"
            ],
            [
             0.3333333333333333,
             "#9c179e"
            ],
            [
             0.4444444444444444,
             "#bd3786"
            ],
            [
             0.5555555555555556,
             "#d8576b"
            ],
            [
             0.6666666666666666,
             "#ed7953"
            ],
            [
             0.7777777777777778,
             "#fb9f3a"
            ],
            [
             0.8888888888888888,
             "#fdca26"
            ],
            [
             1,
             "#f0f921"
            ]
           ],
           "sequentialminus": [
            [
             0,
             "#0d0887"
            ],
            [
             0.1111111111111111,
             "#46039f"
            ],
            [
             0.2222222222222222,
             "#7201a8"
            ],
            [
             0.3333333333333333,
             "#9c179e"
            ],
            [
             0.4444444444444444,
             "#bd3786"
            ],
            [
             0.5555555555555556,
             "#d8576b"
            ],
            [
             0.6666666666666666,
             "#ed7953"
            ],
            [
             0.7777777777777778,
             "#fb9f3a"
            ],
            [
             0.8888888888888888,
             "#fdca26"
            ],
            [
             1,
             "#f0f921"
            ]
           ]
          },
          "colorway": [
           "#636efa",
           "#EF553B",
           "#00cc96",
           "#ab63fa",
           "#FFA15A",
           "#19d3f3",
           "#FF6692",
           "#B6E880",
           "#FF97FF",
           "#FECB52"
          ],
          "font": {
           "color": "#2a3f5f"
          },
          "geo": {
           "bgcolor": "white",
           "lakecolor": "white",
           "landcolor": "#E5ECF6",
           "showlakes": true,
           "showland": true,
           "subunitcolor": "white"
          },
          "hoverlabel": {
           "align": "left"
          },
          "hovermode": "closest",
          "mapbox": {
           "style": "light"
          },
          "paper_bgcolor": "white",
          "plot_bgcolor": "#E5ECF6",
          "polar": {
           "angularaxis": {
            "gridcolor": "white",
            "linecolor": "white",
            "ticks": ""
           },
           "bgcolor": "#E5ECF6",
           "radialaxis": {
            "gridcolor": "white",
            "linecolor": "white",
            "ticks": ""
           }
          },
          "scene": {
           "xaxis": {
            "backgroundcolor": "#E5ECF6",
            "gridcolor": "white",
            "gridwidth": 2,
            "linecolor": "white",
            "showbackground": true,
            "ticks": "",
            "zerolinecolor": "white"
           },
           "yaxis": {
            "backgroundcolor": "#E5ECF6",
            "gridcolor": "white",
            "gridwidth": 2,
            "linecolor": "white",
            "showbackground": true,
            "ticks": "",
            "zerolinecolor": "white"
           },
           "zaxis": {
            "backgroundcolor": "#E5ECF6",
            "gridcolor": "white",
            "gridwidth": 2,
            "linecolor": "white",
            "showbackground": true,
            "ticks": "",
            "zerolinecolor": "white"
           }
          },
          "shapedefaults": {
           "line": {
            "color": "#2a3f5f"
           }
          },
          "ternary": {
           "aaxis": {
            "gridcolor": "white",
            "linecolor": "white",
            "ticks": ""
           },
           "baxis": {
            "gridcolor": "white",
            "linecolor": "white",
            "ticks": ""
           },
           "bgcolor": "#E5ECF6",
           "caxis": {
            "gridcolor": "white",
            "linecolor": "white",
            "ticks": ""
           }
          },
          "title": {
           "x": 0.05
          },
          "xaxis": {
           "automargin": true,
           "gridcolor": "white",
           "linecolor": "white",
           "ticks": "",
           "title": {
            "standoff": 15
           },
           "zerolinecolor": "white",
           "zerolinewidth": 2
          },
          "yaxis": {
           "automargin": true,
           "gridcolor": "white",
           "linecolor": "white",
           "ticks": "",
           "title": {
            "standoff": 15
           },
           "zerolinecolor": "white",
           "zerolinewidth": 2
          }
         }
        },
        "xaxis": {
         "autorange": true,
         "range": [
          -0.5,
          2.5
         ],
         "type": "category"
        },
        "yaxis": {
         "autorange": true,
         "range": [
          -3.0787363189677306,
          7.69547108020529
         ],
         "type": "linear"
        }
       }
      },
      "image/png": "[encoded data removed]",
      "text/html": [
       "<div>\n",
       "        \n",
       "        \n",
       "            <div id=\"4eaa92f9-a613-482e-8e92-38865c96e221\" class=\"plotly-graph-div\" style=\"height:525px; width:100%;\"></div>\n",
       "            <script type=\"text/javascript\">\n",
       "                require([\"plotly\"], function(Plotly) {\n",
       "                    window.PLOTLYENV=window.PLOTLYENV || {};\n",
       "                    \n",
       "                if (document.getElementById(\"4eaa92f9-a613-482e-8e92-38865c96e221\")) {\n",
       "                    Plotly.newPlot(\n",
       "                        '4eaa92f9-a613-482e-8e92-38865c96e221',\n",
       "                        [{\"name\": \"Mortality\", \"type\": \"box\", \"y\": [1.1973282616072674, 1.5735511531005761, 2.711628022450094, 1.6151685871430854, 2.353878387381596, 2.5682882587270512, 1.5278953919559848, 0.4586993430745484, 1.0690534864265653, -0.11812485757049605, null, -0.7001227942963705, -0.08388148398070212, 1.3581234841531944, 0.07257069283483558, 0.25766105619692325, 1.082843992803624, 0.11279549414534429, 2.8134107167600364, -0.91056005716517, 1.4062249966087694, 1.8971199848858813, -0.1291467943066986, 2.6593430485959644, 2.407945608651872, 1.0498221244986776, null, 1.8971199848858813, 1.3321356108577427, 1.8971199848858813, 1.8494796255617745, -0.3074846997479607, 1.578222893086176, 1.837953007550221, 1.5141277326297755, 2.995732273553991, 0.579818495252942, null, 0.7924653817618089, 0.735219956981853, 1.586965056582042, 0.6931471805599453, null, 0.15860503017663857, null, -0.4154154389613325, 1.6117306150050756, null, 1.4099439132358627, null, 0.26461679952078493, null, null, null, 0.2261653537431262, -0.5017848791138417, 0.29941732867020177, 0.03562717764315125, -1.264126727145683, 0.36384343341734504, -0.6786678592951112, -0.23901690047049998, 0.3147107448397002, 1.2729656758128873, 0.6039160468320025, 0.3993301195406485, 0.5447271754416719, -0.9370732710566836, 1.89052241147278, -0.9351124861147428, -0.657520002916794, null, -2.2375130962503307, -0.019802627296179754, 0.3147107448397002, null, null, null, 0.15860503017663857, -0.11714791337399859, 0.10854016857520597, null, -0.6241543090729939, 0.4620354595965586, null, 1.3730491343698699, 0.083381608939051, -2.5400259490090797, 1.4926720969482605, 1.4340850249562391, 2.0811821861576196, -0.4839681695961079, -0.1368591827171973, 0.6853994937691195, 1.2115281559703854, 0.47000362924573563, 0.9713941352678168, 1.5582413489153055, null, null, -1.2974631474132747, null, 1.578423858904931, 1.6058812993192533, 1.975213374203368, 1.3749306024695755, null, null, 0.9572497971916916, 1.8325814637483102, 1.1394342831883648, null, 0.8545189920655705, 2.5356743581815566, null, null, 1.707877985247353, 1.6220166946409607, 0.490206336563255, null, null, null, null, 1.742969305058623, -0.07696104113612844, 2.407945608651872, -0.20972053098206903, 1.1242341587116866, 0.22158227074725728, 1.580238757741838, null, 1.1851043200215532, null, -0.46373401623214, 2.2537949288246137, 1.9425823589626385, null, 2.227432370614701, 2.180254010839758, -0.6672594096078175, 1.2197342255900077, 2.172400641286599, 1.830491072487049, 1.6984715348044979, 1.3326641767464575, 0.15113096120960182, 2.5795009724476787, 1.2517634681622845, 0.6633840047227579, 0.5422671496008097, 0.09495730089694017, 1.4977339228540991, 0.7713437672769493, 0.9162907318741551, -1.1987592372730487, 0.022245608947319737, null, -0.3104215594212703, 1.1454044501748686, 2.2203469947570733, 0.7133498878774648, 0.23572233352106994, 1.055030469605816, 0.7270487322356267, null, 2.4651040224918206, 0.49334366860373996, null, 2.0284559869469683, -0.34122283937981074, 2.659260036932778, 1.0216512475319812, 2.0435502013998423, 0.905633437400167, 1.160487692386197, null, 0.5008752929128225, 1.66112114638596, null, null, null, 2.4300965630489815, 0.7339691750802003, null, 1.9661128563728327, 2.7593434954897607, -0.24757005311221836, 2.407945608651872, 1.0545954032513354, 1.2378743560016172, 1.4785886850295171, 0.841949867587253, -0.5775492558088989, 0.6532144702245744, 0.99847640684567, null, 1.3913069029434348, 0.7993228431746128, 1.8846230320390105, 1.3768213002912935, 1.2395027214303709, -1.8963339617649162, 1.6282264555473518, -0.15909916936401972, null, null, null, null, 2.1933858010290535, null, 0.19733017648828133, -0.5364933705145686, 0.6591850246601308, null, null, -1.5240780634829434, -0.15319784507198642, 1.6216331855279187, 1.6433394641097818, 0.5859084298903466, null, 2.3495723138998543, 1.0539121097502027, 2.900422093749666, 2.302585092994046, 2.360214205830682, 1.5893693512652427, 1.6607312068216509, 0.4180438903150244, 1.2241755116434556, 0.5543107357057295, null, 1.7957674906255938, 1.9484132792734319, 1.4545153298282603, 0.8119001607397226, 1.6592738194057226, null, 0.98628410369469, -0.532534223684904, 2.596028332143044, null, 1.7957674906255938, null, 0.49429632181478017, 1.448169764837978, null, null, 0.3181412799364895, null, 2.207274913189721, 0.5837946436325817, -1.256328034659864, 1.4842747694800944, null, -0.6981347220709844, null, null, 1.3470736479666094, 2.5257286443082556]}, {\"name\": \"Deaths per 100K\", \"type\": \"box\", \"y\": [0.07417939817425147, 0.6434315883140125, 0.6043159668533296, 3.835120362586804, 0.005982071677547469, 1.40192161700559, 0.24059046491793043, 0.4953058121079539, 0.5312163134137248, 0.27763173659827955, 0.0, 0.09349034308733897, 0.2053868297249507, 0.8359479791916166, 0.19144646457095527, 0.23586232372198446, 1.7552683606456398, 0.1380212978973746, 1.19058356720692, 0.34429867287067695, 0.044973365642731196, 1.007957920399979, 0.36741704047063445, 3.8187667149483584, 0.4074631107708375, 0.007968169649176881, 0.0, 0.23586232372198446, 0.8763017236577919, 0.042101176018635326, 0.6966410698142009, 0.20620083058389785, 0.46373401623214006, 0.15443635330441896, 0.006975613736425138, 0.007968169649176881, 0.16551443847757333, 0.0, 0.07973496801885352, 0.7575294394892135, 0.9190868191761562, 0.30968815271439554, 0.0, 0.4542552722775964, 0.0, 0.3428802329165432, 1.5177611238621962, 0.0, 2.203648345134022, null, 0.29192306670903545, 0.0, 0.0, 0.0, 0.47436908675537554, 0.008959741371471801, 0.036331929247390204, 0.018821754240587667, 0.002995508979798371, 0.007968169649176881, 0.006975613736425138, 0.003992021269537457, 0.005982071677547469, 0.0620353909194527, 0.007968169649176881, 0.03343477608623742, 0.02273948696948934, 0.051643233151838386, 2.1546649629174235, 0.005982071677547469, 0.003992021269537457, 0.0, 0.001998002662673058, 0.003992021269537457, 0.004987541511038968, 0.0, 0.0, 0.0, 0.007968169649176881, 0.006975613736425138, 0.028587456851912472, 0.0, 0.003992021269537457, 0.018821754240587667, 0.0, 0.011928570865273812, 0.003992021269537457, 0.001998002662673058, 0.2631331995303682, 0.10345870836822997, 0.025667746748577813, 0.07603468627599758, 0.02273948696948934, 0.6296747576043717, 0.24216155714997162, 0.6901426715396466, 0.9612640975168864, 1.9170696601935016, 0.0, 0.0, 0.1839868361130158, 0.0, 1.0452115119409946, 1.2196492837109436, 0.1823215567939546, 0.10255658832509215, 0.0, 0.0, 1.3519616820393854, 0.08250122151174377, 0.002995508979798371, 0.0, 0.9082585601768908, 3.3884498088396526, 0.0, 0.0, 1.098278899766872, 1.1416717781285568, 0.9025974047421527, 0.0, 0.0, 0.0, 0.0, 1.8201849434117587, 0.04401688541677426, 0.04018178963283176, 0.07232066157962608, 1.823581081551011, 0.025667746748577813, 0.7109870986882764, 0.0, 0.03825871211709027, 0.0, 0.02273948696948934, 0.5670169034157331, 0.025667746748577813, 0.0, 0.34642256747438094, 0.9612640975168864, 1.291159166004852, 0.03440142671733232, 0.17395330712343798, 1.9319560997213385, 0.18315454309784654, 2.4624906105036684, 1.009781074961494, 3.653744383345607, 0.15614868248993138, 0.13976194237515863, 0.06672363204290813, 0.08709470685093373, 0.01980262729617973, 0.3708736633385454, 0.5086232002107907, 0.11064652008706365, 0.07417939817425147, 0.0, 0.23507212217948364, 0.268499253035007, 0.1292723357041391, 0.014888612493750559, 1.2870263594612217, 0.7938970836600883, 2.5258886315096207, 0.0, 0.009950330853168092, 0.23586232372198446, 0.0, 0.0620353909194527, 0.5181983780954038, 0.02176149178151271, 0.5353230953663781, 0.3199072197465178, 0.8704561955303556, 2.1568654386446395, 0.0, 0.5855619698800079, 0.3118867611485984, 0.0, 0.0, 0.0, 3.0533877860421534, 1.0553567799971526, 0.0, 0.47561286801024616, 3.090496849998414, 0.2053868297249507, 0.014888612493750559, 0.071389996086673, 0.007968169649176881, 1.2095571826198366, 1.3787660946990992, 0.11064652008706365, 0.05921185963184603, 1.2601640839756785, 0.0, 0.10616019582839072, 0.6471032420585385, 0.302324349188651, 0.6296747576043717, 2.0072739933777735, 0.21752781252857398, 1.1429481024881614, 0.17142911562753102, 0.0, 0.0, 0.0, 0.0, 4.752857163886857, 0.0, 0.22314355131420976, 0.011928570865273812, 0.8149222374858661, 0.0, 0.0, 0.17227122094045313, 0.15272108701766393, 1.4291143583028187, 0.03729578474369693, 0.08065790301745454, 0.0, 3.7791999333139823, 0.03246719013750141, 0.013902905168991434, 0.1570037488096647, 2.6988076197352777, 2.793187601071002, 0.010939940038334263, 0.024692612590371414, 0.007968169649176881, 0.06485097231961627, 0.0, 0.058268908123975824, 0.45234869400701483, 0.2723145953206591, 1.1304339009910658, 2.4982341099988625, 0.0, 0.2515366258154277, 0.31772619380015765, 3.112225588989795, 0.0, 2.200441619325342, 0.0, 0.9250522375427279, 2.543961412569315, 0.0, 0.0, 1.7411676831119947, 0.0, 1.2762004383228167, 0.23031775506221003, 0.011928570865273812, 0.031498667059371016, 0.0, 0.03825871211709027, 0.0, 0.0, 0.010939940038334263, 0.01980262729617973]}, {\"name\": \"Cases per 100K\", \"type\": \"box\", \"y\": [1.2020709970363397, 2.982140320034524, 1.8739537068540417, 6.804388330403849, 0.05638033343610769, 3.1981423644812885, 1.9322457868612555, 3.726416057642662, 3.221272949467922, 3.612079400018699, 2.5177771145206354, 3.0294087999133748, 3.2490169817801875, 3.5442293340409914, 3.0271340366935227, 3.0711180004598804, 5.09406303530453, 2.6543680908523504, 2.690021998582819, 4.637230710679773, 0.749527513996053, 3.2994968268358162, 3.9430370589573154, 5.745608764702838, 1.709645172851126, 0.2538667239570503, 0.49956243148728, 1.606232781485152, 3.637665103978627, 0.4934759854308776, 2.824113239893172, 3.468450963683955, 2.578321094427426, 1.2988283353386147, 0.1501426584297194, 0.04114194333117521, 2.4044193988753135, 0.5481214085096876, 1.5585655820603437, 4.0130441194868745, 3.4599693079053893, 2.95225049494203, 2.772588722239781, 3.9140609274537113, 2.4960938391785645, 4.143102979855871, 4.277665619349139, 2.8587090773873234, 5.28700866352499, null, 3.2950958507796098, 3.019204629739133, 0.22154226994723591, 0.15186234930924603, 3.8999301810740064, 0.9427379018890034, 1.3225555201528838, 1.0532661869012327, 0.6408007001877362, 0.42330502623649546, 0.8712933659434192, 0.41607528722017995, 0.34074879338847325, 1.0292622105333165, 0.36046774217742855, 1.1972502585651092, 0.8450095298691915, 2.6823220525294786, 4.754787749608918, 0.9070481505072227, 0.5664495275139878, 0.5938791789012763, 1.1039314501457096, 0.3199072197465178, 0.28893129185221283, 2.0706530356467567, 0.7371640659767196, 0.2615947376884624, 0.5086232002107907, 0.5782973388810033, 1.2784307152439458, 0.4252677354043441, 0.5134222496132567, 0.7938970836600883, 0.028587456851912472, 0.26696903085423934, 0.3228078744271551, 1.1662709371419244, 2.0488534599118124, 1.2784307152439458, 0.27763173659827955, 2.620311286794203, 1.2831536022003773, 3.8108094348508503, 2.213644583697398, 4.145021833573083, 4.12961517630402, 4.813094510161551, 5.93369771292379, 3.0143577376771558, 4.3186740766706055, 3.1452292846999024, 3.6644586795722542, 3.8896546895661377, 1.3294594243673519, 1.3161401011966838, 1.8917556223867307, 0.6866259635696799, 4.709395057045624, 0.8666802313208206, 0.08065790301745454, 1.06333047452347, 4.158414223462046, 5.4279894465968335, 3.500771186558248, 3.0243197304059035, 3.6173297452738606, 3.7636158002279534, 4.508714350170462, 1.9885590452026627, 3.8264869033215523, 4.122251515475108, 2.9044937931197197, 4.516721412802978, 1.766783483157878, 0.3162695293036934, 2.3297137603822984, 5.134409237264798, 1.1193948278506383, 3.1062444963514197, 2.598384133547774, 0.7857263618530385, 1.1584522890241267, 1.532988740270694, 2.1983350716202463, 0.3199072197465178, 6.897578672530576, 1.6979980894135807, 2.9575110607337933, 6.244153308338351, 0.712949807856125, 1.1521530555961395, 4.560632965220355, 1.5443659156903857, 5.649403723384012, 5.017180494132259, 5.6566733966692535, 1.7628454590634126, 2.167681330529244, 1.6072354888789002, 2.222892324084797, 0.37637952721306783, 3.079291866652922, 3.314694966038804, 3.684469745625236, 2.1394777551238953, 0.2319050569827826, 3.6151521787167766, 2.378341705393292, 0.9174900124496372, 0.5382462193419829, 5.338249365139382, 3.766002519160519, 6.32244314988932, 0.35276731910771536, 0.0852598439508234, 2.846303760062062, 1.8213182714695995, 0.611937125134402, 4.570319908552345, 0.14063112973974562, 3.2762386622566764, 1.772236802739191, 4.045206837660553, 5.4828323493567135, 0.6657759837638133, 3.8967875327853685, 2.0727944989580425, 0.10345870836822997, 0.4885800148186709, 0.0980337402713654, 5.1857196140445545, 4.509936003295913, 2.520997469932354, 2.254549643955489, 4.897265007923949, 3.408470865628654, 0.1275133202989597, 1.2781522025001875, 0.2143046026470053, 4.000308570295506, 4.859502278758318, 3.088037944338017, 1.430311246536665, 4.544102966239641, 0.07510747248680548, 1.332366019094335, 3.735548322306101, 1.8506571104755405, 3.141519505619972, 5.234045476527896, 5.092829531722242, 3.7596407609968483, 3.132576921281835, 0.7438402948754634, 3.307619034702589, 2.215828229067764, 2.4694545452290786, 7.156760710246639, 1.0385083645984043, 3.068750366290563, 1.112843870914834, 4.19151664397436, 2.5002877518263027, 0.2821668917636708, 4.4695795316817435, 3.0063754336524706, 4.154576950262179, 0.5481214085096876, 1.739061680227606, 0.035367143837291344, 6.014130717606894, 0.7603384301002687, 0.07232066157962608, 0.9951019122984449, 4.881748337457398, 5.748988445494087, 0.19638881400539018, 0.9775739602910536, 0.2199384203652614, 1.5826831751252808, 0.8607780219438964, 0.6946460566836813, 2.2133166252358634, 2.1174596088673567, 4.54468742910835, 5.363055867688274, 0.11511280710050448, 2.4561641809223462, 4.1700393699241705, 5.082087361502896, 3.0443795703755123, 4.899956960169804, 2.6552821355635543, 4.541356735256763, 5.622792929985065, 5.758333789260704, 5.973290393129072, 5.838383295238744, 5.398361776723593, 3.38136875402797, 2.737673726168281, 1.6482739362192986, 0.5405785819153385, 0.2429461786103894, 2.1838015570040787, 0.6951451832226183, 0.002995508979798371, 0.24920108563349933, 0.14928170271575447]}],\n",
       "                        {\"template\": {\"data\": {\"bar\": [{\"error_x\": {\"color\": \"#2a3f5f\"}, \"error_y\": {\"color\": \"#2a3f5f\"}, \"marker\": {\"line\": {\"color\": \"#E5ECF6\", \"width\": 0.5}}, \"type\": \"bar\"}], \"barpolar\": [{\"marker\": {\"line\": {\"color\": \"#E5ECF6\", \"width\": 0.5}}, \"type\": \"barpolar\"}], \"carpet\": [{\"aaxis\": {\"endlinecolor\": \"#2a3f5f\", \"gridcolor\": \"white\", \"linecolor\": \"white\", \"minorgridcolor\": \"white\", \"startlinecolor\": \"#2a3f5f\"}, \"baxis\": {\"endlinecolor\": \"#2a3f5f\", \"gridcolor\": \"white\", \"linecolor\": \"white\", \"minorgridcolor\": \"white\", \"startlinecolor\": \"#2a3f5f\"}, \"type\": \"carpet\"}], \"choropleth\": [{\"colorbar\": {\"outlinewidth\": 0, \"ticks\": \"\"}, \"type\": \"choropleth\"}], \"contour\": [{\"colorbar\": {\"outlinewidth\": 0, \"ticks\": \"\"}, \"colorscale\": [[0.0, \"#0d0887\"], [0.1111111111111111, \"#46039f\"], [0.2222222222222222, \"#7201a8\"], [0.3333333333333333, \"#9c179e\"], [0.4444444444444444, \"#bd3786\"], [0.5555555555555556, \"#d8576b\"], [0.6666666666666666, \"#ed7953\"], [0.7777777777777778, \"#fb9f3a\"], [0.8888888888888888, \"#fdca26\"], [1.0, \"#f0f921\"]], \"type\": \"contour\"}], \"contourcarpet\": [{\"colorbar\": {\"outlinewidth\": 0, \"ticks\": \"\"}, \"type\": \"contourcarpet\"}], \"heatmap\": [{\"colorbar\": {\"outlinewidth\": 0, \"ticks\": \"\"}, \"colorscale\": [[0.0, \"#0d0887\"], [0.1111111111111111, \"#46039f\"], [0.2222222222222222, \"#7201a8\"], [0.3333333333333333, \"#9c179e\"], [0.4444444444444444, \"#bd3786\"], [0.5555555555555556, \"#d8576b\"], [0.6666666666666666, \"#ed7953\"], [0.7777777777777778, \"#fb9f3a\"], [0.8888888888888888, \"#fdca26\"], [1.0, \"#f0f921\"]], \"type\": \"heatmap\"}], \"heatmapgl\": [{\"colorbar\": {\"outlinewidth\": 0, \"ticks\": \"\"}, \"colorscale\": [[0.0, \"#0d0887\"], [0.1111111111111111, \"#46039f\"], [0.2222222222222222, \"#7201a8\"], [0.3333333333333333, \"#9c179e\"], [0.4444444444444444, \"#bd3786\"], [0.5555555555555556, \"#d8576b\"], [0.6666666666666666, \"#ed7953\"], [0.7777777777777778, \"#fb9f3a\"], [0.8888888888888888, \"#fdca26\"], [1.0, \"#f0f921\"]], \"type\": \"heatmapgl\"}], \"histogram\": [{\"marker\": {\"colorbar\": {\"outlinewidth\": 0, \"ticks\": \"\"}}, \"type\": \"histogram\"}], \"histogram2d\": [{\"colorbar\": {\"outlinewidth\": 0, \"ticks\": \"\"}, \"colorscale\": [[0.0, \"#0d0887\"], [0.1111111111111111, \"#46039f\"], [0.2222222222222222, \"#7201a8\"], [0.3333333333333333, \"#9c179e\"], [0.4444444444444444, \"#bd3786\"], [0.5555555555555556, \"#d8576b\"], [0.6666666666666666, \"#ed7953\"], [0.7777777777777778, \"#fb9f3a\"], [0.8888888888888888, \"#fdca26\"], [1.0, \"#f0f921\"]], \"type\": \"histogram2d\"}], \"histogram2dcontour\": [{\"colorbar\": {\"outlinewidth\": 0, \"ticks\": \"\"}, \"colorscale\": [[0.0, \"#0d0887\"], [0.1111111111111111, \"#46039f\"], [0.2222222222222222, \"#7201a8\"], [0.3333333333333333, \"#9c179e\"], [0.4444444444444444, \"#bd3786\"], [0.5555555555555556, \"#d8576b\"], [0.6666666666666666, \"#ed7953\"], [0.7777777777777778, \"#fb9f3a\"], [0.8888888888888888, \"#fdca26\"], [1.0, \"#f0f921\"]], \"type\": \"histogram2dcontour\"}], \"mesh3d\": [{\"colorbar\": {\"outlinewidth\": 0, \"ticks\": \"\"}, \"type\": \"mesh3d\"}], \"parcoords\": [{\"line\": {\"colorbar\": {\"outlinewidth\": 0, \"ticks\": \"\"}}, \"type\": \"parcoords\"}], \"pie\": [{\"automargin\": true, \"type\": \"pie\"}], \"scatter\": [{\"marker\": {\"colorbar\": {\"outlinewidth\": 0, \"ticks\": \"\"}}, \"type\": \"scatter\"}], \"scatter3d\": [{\"line\": {\"colorbar\": {\"outlinewidth\": 0, \"ticks\": \"\"}}, \"marker\": {\"colorbar\": {\"outlinewidth\": 0, \"ticks\": \"\"}}, \"type\": \"scatter3d\"}], \"scattercarpet\": [{\"marker\": {\"colorbar\": {\"outlinewidth\": 0, \"ticks\": \"\"}}, \"type\": \"scattercarpet\"}], \"scattergeo\": [{\"marker\": {\"colorbar\": {\"outlinewidth\": 0, \"ticks\": \"\"}}, \"type\": \"scattergeo\"}], \"scattergl\": [{\"marker\": {\"colorbar\": {\"outlinewidth\": 0, \"ticks\": \"\"}}, \"type\": \"scattergl\"}], \"scattermapbox\": [{\"marker\": {\"colorbar\": {\"outlinewidth\": 0, \"ticks\": \"\"}}, \"type\": \"scattermapbox\"}], \"scatterpolar\": [{\"marker\": {\"colorbar\": {\"outlinewidth\": 0, \"ticks\": \"\"}}, \"type\": \"scatterpolar\"}], \"scatterpolargl\": [{\"marker\": {\"colorbar\": {\"outlinewidth\": 0, \"ticks\": \"\"}}, \"type\": \"scatterpolargl\"}], \"scatterternary\": [{\"marker\": {\"colorbar\": {\"outlinewidth\": 0, \"ticks\": \"\"}}, \"type\": \"scatterternary\"}], \"surface\": [{\"colorbar\": {\"outlinewidth\": 0, \"ticks\": \"\"}, \"colorscale\": [[0.0, \"#0d0887\"], [0.1111111111111111, \"#46039f\"], [0.2222222222222222, \"#7201a8\"], [0.3333333333333333, \"#9c179e\"], [0.4444444444444444, \"#bd3786\"], [0.5555555555555556, \"#d8576b\"], [0.6666666666666666, \"#ed7953\"], [0.7777777777777778, \"#fb9f3a\"], [0.8888888888888888, \"#fdca26\"], [1.0, \"#f0f921\"]], \"type\": \"surface\"}], \"table\": [{\"cells\": {\"fill\": {\"color\": \"#EBF0F8\"}, \"line\": {\"color\": \"white\"}}, \"header\": {\"fill\": {\"color\": \"#C8D4E3\"}, \"line\": {\"color\": \"white\"}}, \"type\": \"table\"}]}, \"layout\": {\"annotationdefaults\": {\"arrowcolor\": \"#2a3f5f\", \"arrowhead\": 0, \"arrowwidth\": 1}, \"coloraxis\": {\"colorbar\": {\"outlinewidth\": 0, \"ticks\": \"\"}}, \"colorscale\": {\"diverging\": [[0, \"#8e0152\"], [0.1, \"#c51b7d\"], [0.2, \"#de77ae\"], [0.3, \"#f1b6da\"], [0.4, \"#fde0ef\"], [0.5, \"#f7f7f7\"], [0.6, \"#e6f5d0\"], [0.7, \"#b8e186\"], [0.8, \"#7fbc41\"], [0.9, \"#4d9221\"], [1, \"#276419\"]], \"sequential\": [[0.0, \"#0d0887\"], [0.1111111111111111, \"#46039f\"], [0.2222222222222222, \"#7201a8\"], [0.3333333333333333, \"#9c179e\"], [0.4444444444444444, \"#bd3786\"], [0.5555555555555556, \"#d8576b\"], [0.6666666666666666, \"#ed7953\"], [0.7777777777777778, \"#fb9f3a\"], [0.8888888888888888, \"#fdca26\"], [1.0, \"#f0f921\"]], \"sequentialminus\": [[0.0, \"#0d0887\"], [0.1111111111111111, \"#46039f\"], [0.2222222222222222, \"#7201a8\"], [0.3333333333333333, \"#9c179e\"], [0.4444444444444444, \"#bd3786\"], [0.5555555555555556, \"#d8576b\"], [0.6666666666666666, \"#ed7953\"], [0.7777777777777778, \"#fb9f3a\"], [0.8888888888888888, \"#fdca26\"], [1.0, \"#f0f921\"]]}, \"colorway\": [\"#636efa\", \"#EF553B\", \"#00cc96\", \"#ab63fa\", \"#FFA15A\", \"#19d3f3\", \"#FF6692\", \"#B6E880\", \"#FF97FF\", \"#FECB52\"], \"font\": {\"color\": \"#2a3f5f\"}, \"geo\": {\"bgcolor\": \"white\", \"lakecolor\": \"white\", \"landcolor\": \"#E5ECF6\", \"showlakes\": true, \"showland\": true, \"subunitcolor\": \"white\"}, \"hoverlabel\": {\"align\": \"left\"}, \"hovermode\": \"closest\", \"mapbox\": {\"style\": \"light\"}, \"paper_bgcolor\": \"white\", \"plot_bgcolor\": \"#E5ECF6\", \"polar\": {\"angularaxis\": {\"gridcolor\": \"white\", \"linecolor\": \"white\", \"ticks\": \"\"}, \"bgcolor\": \"#E5ECF6\", \"radialaxis\": {\"gridcolor\": \"white\", \"linecolor\": \"white\", \"ticks\": \"\"}}, \"scene\": {\"xaxis\": {\"backgroundcolor\": \"#E5ECF6\", \"gridcolor\": \"white\", \"gridwidth\": 2, \"linecolor\": \"white\", \"showbackground\": true, \"ticks\": \"\", \"zerolinecolor\": \"white\"}, \"yaxis\": {\"backgroundcolor\": \"#E5ECF6\", \"gridcolor\": \"white\", \"gridwidth\": 2, \"linecolor\": \"white\", \"showbackground\": true, \"ticks\": \"\", \"zerolinecolor\": \"white\"}, \"zaxis\": {\"backgroundcolor\": \"#E5ECF6\", \"gridcolor\": \"white\", \"gridwidth\": 2, \"linecolor\": \"white\", \"showbackground\": true, \"ticks\": \"\", \"zerolinecolor\": \"white\"}}, \"shapedefaults\": {\"line\": {\"color\": \"#2a3f5f\"}}, \"ternary\": {\"aaxis\": {\"gridcolor\": \"white\", \"linecolor\": \"white\", \"ticks\": \"\"}, \"baxis\": {\"gridcolor\": \"white\", \"linecolor\": \"white\", \"ticks\": \"\"}, \"bgcolor\": \"#E5ECF6\", \"caxis\": {\"gridcolor\": \"white\", \"linecolor\": \"white\", \"ticks\": \"\"}}, \"title\": {\"x\": 0.05}, \"xaxis\": {\"automargin\": true, \"gridcolor\": \"white\", \"linecolor\": \"white\", \"ticks\": \"\", \"title\": {\"standoff\": 15}, \"zerolinecolor\": \"white\", \"zerolinewidth\": 2}, \"yaxis\": {\"automargin\": true, \"gridcolor\": \"white\", \"linecolor\": \"white\", \"ticks\": \"\", \"title\": {\"standoff\": 15}, \"zerolinecolor\": \"white\", \"zerolinewidth\": 2}}}},\n",
       "                        {\"responsive\": true}\n",
       "                    ).then(function(){\n",
       "                            \n",
       "var gd = document.getElementById('4eaa92f9-a613-482e-8e92-38865c96e221');\n",
       "var x = new MutationObserver(function (mutations, observer) {{\n",
       "        var display = window.getComputedStyle(gd).display;\n",
       "        if (!display || display === 'none') {{\n",
       "            console.log([gd, 'removed!']);\n",
       "            Plotly.purge(gd);\n",
       "            observer.disconnect();\n",
       "        }}\n",
       "}});\n",
       "\n",
       "// Listen for the removal of the full notebook cells\n",
       "var notebookContainer = gd.closest('#notebook-container');\n",
       "if (notebookContainer) {{\n",
       "    x.observe(notebookContainer, {childList: true});\n",
       "}}\n",
       "\n",
       "// Listen for the clearing of the current output cell\n",
       "var outputEl = gd.closest('.output');\n",
       "if (outputEl) {{\n",
       "    x.observe(outputEl, {childList: true});\n",
       "}}\n",
       "\n",
       "                        })\n",
       "                };\n",
       "                });\n",
       "            </script>\n",
       "        </div>"
      ]
     },
     "metadata": {},
     "output_type": "display_data"
    }
   ],
   "source": [
    "fig=go.Figure()\n",
    "tmp = df2[df2.Date == df2.Date.max()].copy()\n",
    "fig.add_trace(go.Box(y=np.log(tmp.Mort),name=\"Mortality\"))\n",
    "fig.add_trace(go.Box(y=np.log(tmp.DP100K + 1),name=\"Deaths per 100K\"))\n",
    "fig.add_trace(go.Box(y=np.log(tmp.CP100K + 1),name=\"Cases per 100K\"))\n",
    "fig.show()"
   ]
  },
  {
   "cell_type": "code",
   "execution_count": 83,
   "metadata": {},
   "outputs": [
    {
     "data": {
      "text/html": [
       "<div>\n",
       "<style scoped>\n",
       "    .dataframe tbody tr th:only-of-type {\n",
       "        vertical-align: middle;\n",
       "    }\n",
       "\n",
       "    .dataframe tbody tr th {\n",
       "        vertical-align: top;\n",
       "    }\n",
       "\n",
       "    .dataframe thead th {\n",
       "        text-align: right;\n",
       "    }\n",
       "</style>\n",
       "<table border=\"1\" class=\"dataframe\">\n",
       "  <thead>\n",
       "    <tr style=\"text-align: right;\">\n",
       "      <th></th>\n",
       "      <th>Confirmed</th>\n",
       "      <th>Deaths</th>\n",
       "    </tr>\n",
       "    <tr>\n",
       "      <th>Date</th>\n",
       "      <th></th>\n",
       "      <th></th>\n",
       "    </tr>\n",
       "  </thead>\n",
       "  <tbody>\n",
       "    <tr>\n",
       "      <th>2020-01-22</th>\n",
       "      <td>555.0</td>\n",
       "      <td>17.0</td>\n",
       "    </tr>\n",
       "    <tr>\n",
       "      <th>2020-01-23</th>\n",
       "      <td>654.0</td>\n",
       "      <td>18.0</td>\n",
       "    </tr>\n",
       "    <tr>\n",
       "      <th>2020-01-24</th>\n",
       "      <td>941.0</td>\n",
       "      <td>26.0</td>\n",
       "    </tr>\n",
       "    <tr>\n",
       "      <th>2020-01-25</th>\n",
       "      <td>1434.0</td>\n",
       "      <td>42.0</td>\n",
       "    </tr>\n",
       "    <tr>\n",
       "      <th>2020-01-26</th>\n",
       "      <td>2118.0</td>\n",
       "      <td>56.0</td>\n",
       "    </tr>\n",
       "    <tr>\n",
       "      <th>...</th>\n",
       "      <td>...</td>\n",
       "      <td>...</td>\n",
       "    </tr>\n",
       "    <tr>\n",
       "      <th>2020-04-13</th>\n",
       "      <td>1904105.0</td>\n",
       "      <td>119469.0</td>\n",
       "    </tr>\n",
       "    <tr>\n",
       "      <th>2020-04-14</th>\n",
       "      <td>1975458.0</td>\n",
       "      <td>125970.0</td>\n",
       "    </tr>\n",
       "    <tr>\n",
       "      <th>2020-04-15</th>\n",
       "      <td>2055321.0</td>\n",
       "      <td>134163.0</td>\n",
       "    </tr>\n",
       "    <tr>\n",
       "      <th>2020-04-16</th>\n",
       "      <td>2151913.0</td>\n",
       "      <td>143787.0</td>\n",
       "    </tr>\n",
       "    <tr>\n",
       "      <th>2020-04-17</th>\n",
       "      <td>2239457.0</td>\n",
       "      <td>153807.0</td>\n",
       "    </tr>\n",
       "  </tbody>\n",
       "</table>\n",
       "<p>87 rows × 2 columns</p>\n",
       "</div>"
      ],
      "text/plain": [
       "            Confirmed    Deaths\n",
       "Date                           \n",
       "2020-01-22      555.0      17.0\n",
       "2020-01-23      654.0      18.0\n",
       "2020-01-24      941.0      26.0\n",
       "2020-01-25     1434.0      42.0\n",
       "2020-01-26     2118.0      56.0\n",
       "...               ...       ...\n",
       "2020-04-13  1904105.0  119469.0\n",
       "2020-04-14  1975458.0  125970.0\n",
       "2020-04-15  2055321.0  134163.0\n",
       "2020-04-16  2151913.0  143787.0\n",
       "2020-04-17  2239457.0  153807.0\n",
       "\n",
       "[87 rows x 2 columns]"
      ]
     },
     "execution_count": 83,
     "metadata": {},
     "output_type": "execute_result"
    }
   ],
   "source": [
    "tmp = df2.groupby(\"Date\").agg(sum)[[\"Confirmed\",\"Deaths\"]].copy()"
   ]
  },
  {
   "cell_type": "code",
   "execution_count": 114,
   "metadata": {},
   "outputs": [
    {
     "data": {
      "application/vnd.plotly.v1+json": {
       "config": {
        "plotlyServerURL": "https://plot.ly"
       },
       "data": [
        {
         "type": "bar",
         "x": [
          "San Marino",
          "Holy See",
          "Andorra",
          "Luxembourg",
          "Iceland",
          "Spain",
          "Gibraltar",
          "Faroe Islands",
          "Isle of Man",
          "Falkland Islands (Malvinas)"
         ],
         "y": [
          1281.749,
          988.875,
          900.796,
          555.932,
          513.993,
          408.17,
          391.796,
          376.548,
          342.224,
          315.82
         ]
        }
       ],
       "layout": {
        "autosize": true,
        "template": {
         "data": {
          "bar": [
           {
            "error_x": {
             "color": "#2a3f5f"
            },
            "error_y": {
             "color": "#2a3f5f"
            },
            "marker": {
             "line": {
              "color": "#E5ECF6",
              "width": 0.5
             }
            },
            "type": "bar"
           }
          ],
          "barpolar": [
           {
            "marker": {
             "line": {
              "color": "#E5ECF6",
              "width": 0.5
             }
            },
            "type": "barpolar"
           }
          ],
          "carpet": [
           {
            "aaxis": {
             "endlinecolor": "#2a3f5f",
             "gridcolor": "white",
             "linecolor": "white",
             "minorgridcolor": "white",
             "startlinecolor": "#2a3f5f"
            },
            "baxis": {
             "endlinecolor": "#2a3f5f",
             "gridcolor": "white",
             "linecolor": "white",
             "minorgridcolor": "white",
             "startlinecolor": "#2a3f5f"
            },
            "type": "carpet"
           }
          ],
          "choropleth": [
           {
            "colorbar": {
             "outlinewidth": 0,
             "ticks": ""
            },
            "type": "choropleth"
           }
          ],
          "contour": [
           {
            "colorbar": {
             "outlinewidth": 0,
             "ticks": ""
            },
            "colorscale": [
             [
              0,
              "#0d0887"
             ],
             [
              0.1111111111111111,
              "#46039f"
             ],
             [
              0.2222222222222222,
              "#7201a8"
             ],
             [
              0.3333333333333333,
              "#9c179e"
             ],
             [
              0.4444444444444444,
              "#bd3786"
             ],
             [
              0.5555555555555556,
              "#d8576b"
             ],
             [
              0.6666666666666666,
              "#ed7953"
             ],
             [
              0.7777777777777778,
              "#fb9f3a"
             ],
             [
              0.8888888888888888,
              "#fdca26"
             ],
             [
              1,
              "#f0f921"
             ]
            ],
            "type": "contour"
           }
          ],
          "contourcarpet": [
           {
            "colorbar": {
             "outlinewidth": 0,
             "ticks": ""
            },
            "type": "contourcarpet"
           }
          ],
          "heatmap": [
           {
            "colorbar": {
             "outlinewidth": 0,
             "ticks": ""
            },
            "colorscale": [
             [
              0,
              "#0d0887"
             ],
             [
              0.1111111111111111,
              "#46039f"
             ],
             [
              0.2222222222222222,
              "#7201a8"
             ],
             [
              0.3333333333333333,
              "#9c179e"
             ],
             [
              0.4444444444444444,
              "#bd3786"
             ],
             [
              0.5555555555555556,
              "#d8576b"
             ],
             [
              0.6666666666666666,
              "#ed7953"
             ],
             [
              0.7777777777777778,
              "#fb9f3a"
             ],
             [
              0.8888888888888888,
              "#fdca26"
             ],
             [
              1,
              "#f0f921"
             ]
            ],
            "type": "heatmap"
           }
          ],
          "heatmapgl": [
           {
            "colorbar": {
             "outlinewidth": 0,
             "ticks": ""
            },
            "colorscale": [
             [
              0,
              "#0d0887"
             ],
             [
              0.1111111111111111,
              "#46039f"
             ],
             [
              0.2222222222222222,
              "#7201a8"
             ],
             [
              0.3333333333333333,
              "#9c179e"
             ],
             [
              0.4444444444444444,
              "#bd3786"
             ],
             [
              0.5555555555555556,
              "#d8576b"
             ],
             [
              0.6666666666666666,
              "#ed7953"
             ],
             [
              0.7777777777777778,
              "#fb9f3a"
             ],
             [
              0.8888888888888888,
              "#fdca26"
             ],
             [
              1,
              "#f0f921"
             ]
            ],
            "type": "heatmapgl"
           }
          ],
          "histogram": [
           {
            "marker": {
             "colorbar": {
              "outlinewidth": 0,
              "ticks": ""
             }
            },
            "type": "histogram"
           }
          ],
          "histogram2d": [
           {
            "colorbar": {
             "outlinewidth": 0,
             "ticks": ""
            },
            "colorscale": [
             [
              0,
              "#0d0887"
             ],
             [
              0.1111111111111111,
              "#46039f"
             ],
             [
              0.2222222222222222,
              "#7201a8"
             ],
             [
              0.3333333333333333,
              "#9c179e"
             ],
             [
              0.4444444444444444,
              "#bd3786"
             ],
             [
              0.5555555555555556,
              "#d8576b"
             ],
             [
              0.6666666666666666,
              "#ed7953"
             ],
             [
              0.7777777777777778,
              "#fb9f3a"
             ],
             [
              0.8888888888888888,
              "#fdca26"
             ],
             [
              1,
              "#f0f921"
             ]
            ],
            "type": "histogram2d"
           }
          ],
          "histogram2dcontour": [
           {
            "colorbar": {
             "outlinewidth": 0,
             "ticks": ""
            },
            "colorscale": [
             [
              0,
              "#0d0887"
             ],
             [
              0.1111111111111111,
              "#46039f"
             ],
             [
              0.2222222222222222,
              "#7201a8"
             ],
             [
              0.3333333333333333,
              "#9c179e"
             ],
             [
              0.4444444444444444,
              "#bd3786"
             ],
             [
              0.5555555555555556,
              "#d8576b"
             ],
             [
              0.6666666666666666,
              "#ed7953"
             ],
             [
              0.7777777777777778,
              "#fb9f3a"
             ],
             [
              0.8888888888888888,
              "#fdca26"
             ],
             [
              1,
              "#f0f921"
             ]
            ],
            "type": "histogram2dcontour"
           }
          ],
          "mesh3d": [
           {
            "colorbar": {
             "outlinewidth": 0,
             "ticks": ""
            },
            "type": "mesh3d"
           }
          ],
          "parcoords": [
           {
            "line": {
             "colorbar": {
              "outlinewidth": 0,
              "ticks": ""
             }
            },
            "type": "parcoords"
           }
          ],
          "pie": [
           {
            "automargin": true,
            "type": "pie"
           }
          ],
          "scatter": [
           {
            "marker": {
             "colorbar": {
              "outlinewidth": 0,
              "ticks": ""
             }
            },
            "type": "scatter"
           }
          ],
          "scatter3d": [
           {
            "line": {
             "colorbar": {
              "outlinewidth": 0,
              "ticks": ""
             }
            },
            "marker": {
             "colorbar": {
              "outlinewidth": 0,
              "ticks": ""
             }
            },
            "type": "scatter3d"
           }
          ],
          "scattercarpet": [
           {
            "marker": {
             "colorbar": {
              "outlinewidth": 0,
              "ticks": ""
             }
            },
            "type": "scattercarpet"
           }
          ],
          "scattergeo": [
           {
            "marker": {
             "colorbar": {
              "outlinewidth": 0,
              "ticks": ""
             }
            },
            "type": "scattergeo"
           }
          ],
          "scattergl": [
           {
            "marker": {
             "colorbar": {
              "outlinewidth": 0,
              "ticks": ""
             }
            },
            "type": "scattergl"
           }
          ],
          "scattermapbox": [
           {
            "marker": {
             "colorbar": {
              "outlinewidth": 0,
              "ticks": ""
             }
            },
            "type": "scattermapbox"
           }
          ],
          "scatterpolar": [
           {
            "marker": {
             "colorbar": {
              "outlinewidth": 0,
              "ticks": ""
             }
            },
            "type": "scatterpolar"
           }
          ],
          "scatterpolargl": [
           {
            "marker": {
             "colorbar": {
              "outlinewidth": 0,
              "ticks": ""
             }
            },
            "type": "scatterpolargl"
           }
          ],
          "scatterternary": [
           {
            "marker": {
             "colorbar": {
              "outlinewidth": 0,
              "ticks": ""
             }
            },
            "type": "scatterternary"
           }
          ],
          "surface": [
           {
            "colorbar": {
             "outlinewidth": 0,
             "ticks": ""
            },
            "colorscale": [
             [
              0,
              "#0d0887"
             ],
             [
              0.1111111111111111,
              "#46039f"
             ],
             [
              0.2222222222222222,
              "#7201a8"
             ],
             [
              0.3333333333333333,
              "#9c179e"
             ],
             [
              0.4444444444444444,
              "#bd3786"
             ],
             [
              0.5555555555555556,
              "#d8576b"
             ],
             [
              0.6666666666666666,
              "#ed7953"
             ],
             [
              0.7777777777777778,
              "#fb9f3a"
             ],
             [
              0.8888888888888888,
              "#fdca26"
             ],
             [
              1,
              "#f0f921"
             ]
            ],
            "type": "surface"
           }
          ],
          "table": [
           {
            "cells": {
             "fill": {
              "color": "#EBF0F8"
             },
             "line": {
              "color": "white"
             }
            },
            "header": {
             "fill": {
              "color": "#C8D4E3"
             },
             "line": {
              "color": "white"
             }
            },
            "type": "table"
           }
          ]
         },
         "layout": {
          "annotationdefaults": {
           "arrowcolor": "#2a3f5f",
           "arrowhead": 0,
           "arrowwidth": 1
          },
          "coloraxis": {
           "colorbar": {
            "outlinewidth": 0,
            "ticks": ""
           }
          },
          "colorscale": {
           "diverging": [
            [
             0,
             "#8e0152"
            ],
            [
             0.1,
             "#c51b7d"
            ],
            [
             0.2,
             "#de77ae"
            ],
            [
             0.3,
             "#f1b6da"
            ],
            [
             0.4,
             "#fde0ef"
            ],
            [
             0.5,
             "#f7f7f7"
            ],
            [
             0.6,
             "#e6f5d0"
            ],
            [
             0.7,
             "#b8e186"
            ],
            [
             0.8,
             "#7fbc41"
            ],
            [
             0.9,
             "#4d9221"
            ],
            [
             1,
             "#276419"
            ]
           ],
           "sequential": [
            [
             0,
             "#0d0887"
            ],
            [
             0.1111111111111111,
             "#46039f"
            ],
            [
             0.2222222222222222,
             "#7201a8"
            ],
            [
             0.3333333333333333,
             "#9c179e"
            ],
            [
             0.4444444444444444,
             "#bd3786"
            ],
            [
             0.5555555555555556,
             "#d8576b"
            ],
            [
             0.6666666666666666,
             "#ed7953"
            ],
            [
             0.7777777777777778,
             "#fb9f3a"
            ],
            [
             0.8888888888888888,
             "#fdca26"
            ],
            [
             1,
             "#f0f921"
            ]
           ],
           "sequentialminus": [
            [
             0,
             "#0d0887"
            ],
            [
             0.1111111111111111,
             "#46039f"
            ],
            [
             0.2222222222222222,
             "#7201a8"
            ],
            [
             0.3333333333333333,
             "#9c179e"
            ],
            [
             0.4444444444444444,
             "#bd3786"
            ],
            [
             0.5555555555555556,
             "#d8576b"
            ],
            [
             0.6666666666666666,
             "#ed7953"
            ],
            [
             0.7777777777777778,
             "#fb9f3a"
            ],
            [
             0.8888888888888888,
             "#fdca26"
            ],
            [
             1,
             "#f0f921"
            ]
           ]
          },
          "colorway": [
           "#636efa",
           "#EF553B",
           "#00cc96",
           "#ab63fa",
           "#FFA15A",
           "#19d3f3",
           "#FF6692",
           "#B6E880",
           "#FF97FF",
           "#FECB52"
          ],
          "font": {
           "color": "#2a3f5f"
          },
          "geo": {
           "bgcolor": "white",
           "lakecolor": "white",
           "landcolor": "#E5ECF6",
           "showlakes": true,
           "showland": true,
           "subunitcolor": "white"
          },
          "hoverlabel": {
           "align": "left"
          },
          "hovermode": "closest",
          "mapbox": {
           "style": "light"
          },
          "paper_bgcolor": "white",
          "plot_bgcolor": "#E5ECF6",
          "polar": {
           "angularaxis": {
            "gridcolor": "white",
            "linecolor": "white",
            "ticks": ""
           },
           "bgcolor": "#E5ECF6",
           "radialaxis": {
            "gridcolor": "white",
            "linecolor": "white",
            "ticks": ""
           }
          },
          "scene": {
           "xaxis": {
            "backgroundcolor": "#E5ECF6",
            "gridcolor": "white",
            "gridwidth": 2,
            "linecolor": "white",
            "showbackground": true,
            "ticks": "",
            "zerolinecolor": "white"
           },
           "yaxis": {
            "backgroundcolor": "#E5ECF6",
            "gridcolor": "white",
            "gridwidth": 2,
            "linecolor": "white",
            "showbackground": true,
            "ticks": "",
            "zerolinecolor": "white"
           },
           "zaxis": {
            "backgroundcolor": "#E5ECF6",
            "gridcolor": "white",
            "gridwidth": 2,
            "linecolor": "white",
            "showbackground": true,
            "ticks": "",
            "zerolinecolor": "white"
           }
          },
          "shapedefaults": {
           "line": {
            "color": "#2a3f5f"
           }
          },
          "ternary": {
           "aaxis": {
            "gridcolor": "white",
            "linecolor": "white",
            "ticks": ""
           },
           "baxis": {
            "gridcolor": "white",
            "linecolor": "white",
            "ticks": ""
           },
           "bgcolor": "#E5ECF6",
           "caxis": {
            "gridcolor": "white",
            "linecolor": "white",
            "ticks": ""
           }
          },
          "title": {
           "x": 0.05
          },
          "xaxis": {
           "automargin": true,
           "gridcolor": "white",
           "linecolor": "white",
           "ticks": "",
           "title": {
            "standoff": 15
           },
           "zerolinecolor": "white",
           "zerolinewidth": 2
          },
          "yaxis": {
           "automargin": true,
           "gridcolor": "white",
           "linecolor": "white",
           "ticks": "",
           "title": {
            "standoff": 15
           },
           "zerolinecolor": "white",
           "zerolinewidth": 2
          }
         }
        },
        "xaxis": {
         "autorange": true,
         "range": [
          -0.5,
          9.5
         ],
         "type": "category"
        },
        "yaxis": {
         "autorange": true,
         "range": [
          0,
          1349.2094736842105
         ],
         "type": "linear"
        }
       }
      },
      "image/png": "[encoded data removed]",
      "text/html": [
       "<div>\n",
       "        \n",
       "        \n",
       "            <div id=\"e81eab6a-a0e1-4edd-9c5b-331130677b7c\" class=\"plotly-graph-div\" style=\"height:525px; width:100%;\"></div>\n",
       "            <script type=\"text/javascript\">\n",
       "                require([\"plotly\"], function(Plotly) {\n",
       "                    window.PLOTLYENV=window.PLOTLYENV || {};\n",
       "                    \n",
       "                if (document.getElementById(\"e81eab6a-a0e1-4edd-9c5b-331130677b7c\")) {\n",
       "                    Plotly.newPlot(\n",
       "                        'e81eab6a-a0e1-4edd-9c5b-331130677b7c',\n",
       "                        [{\"type\": \"bar\", \"x\": [\"San Marino\", \"Holy See\", \"Andorra\", \"Luxembourg\", \"Iceland\", \"Spain\", \"Gibraltar\", \"Faroe Islands\", \"Isle of Man\", \"Falkland Islands (Malvinas)\"], \"y\": [1281.749, 988.875, 900.796, 555.932, 513.993, 408.17, 391.796, 376.548, 342.224, 315.82]}],\n",
       "                        {\"template\": {\"data\": {\"bar\": [{\"error_x\": {\"color\": \"#2a3f5f\"}, \"error_y\": {\"color\": \"#2a3f5f\"}, \"marker\": {\"line\": {\"color\": \"#E5ECF6\", \"width\": 0.5}}, \"type\": \"bar\"}], \"barpolar\": [{\"marker\": {\"line\": {\"color\": \"#E5ECF6\", \"width\": 0.5}}, \"type\": \"barpolar\"}], \"carpet\": [{\"aaxis\": {\"endlinecolor\": \"#2a3f5f\", \"gridcolor\": \"white\", \"linecolor\": \"white\", \"minorgridcolor\": \"white\", \"startlinecolor\": \"#2a3f5f\"}, \"baxis\": {\"endlinecolor\": \"#2a3f5f\", \"gridcolor\": \"white\", \"linecolor\": \"white\", \"minorgridcolor\": \"white\", \"startlinecolor\": \"#2a3f5f\"}, \"type\": \"carpet\"}], \"choropleth\": [{\"colorbar\": {\"outlinewidth\": 0, \"ticks\": \"\"}, \"type\": \"choropleth\"}], \"contour\": [{\"colorbar\": {\"outlinewidth\": 0, \"ticks\": \"\"}, \"colorscale\": [[0.0, \"#0d0887\"], [0.1111111111111111, \"#46039f\"], [0.2222222222222222, \"#7201a8\"], [0.3333333333333333, \"#9c179e\"], [0.4444444444444444, \"#bd3786\"], [0.5555555555555556, \"#d8576b\"], [0.6666666666666666, \"#ed7953\"], [0.7777777777777778, \"#fb9f3a\"], [0.8888888888888888, \"#fdca26\"], [1.0, \"#f0f921\"]], \"type\": \"contour\"}], \"contourcarpet\": [{\"colorbar\": {\"outlinewidth\": 0, \"ticks\": \"\"}, \"type\": \"contourcarpet\"}], \"heatmap\": [{\"colorbar\": {\"outlinewidth\": 0, \"ticks\": \"\"}, \"colorscale\": [[0.0, \"#0d0887\"], [0.1111111111111111, \"#46039f\"], [0.2222222222222222, \"#7201a8\"], [0.3333333333333333, \"#9c179e\"], [0.4444444444444444, \"#bd3786\"], [0.5555555555555556, \"#d8576b\"], [0.6666666666666666, \"#ed7953\"], [0.7777777777777778, \"#fb9f3a\"], [0.8888888888888888, \"#fdca26\"], [1.0, \"#f0f921\"]], \"type\": \"heatmap\"}], \"heatmapgl\": [{\"colorbar\": {\"outlinewidth\": 0, \"ticks\": \"\"}, \"colorscale\": [[0.0, \"#0d0887\"], [0.1111111111111111, \"#46039f\"], [0.2222222222222222, \"#7201a8\"], [0.3333333333333333, \"#9c179e\"], [0.4444444444444444, \"#bd3786\"], [0.5555555555555556, \"#d8576b\"], [0.6666666666666666, \"#ed7953\"], [0.7777777777777778, \"#fb9f3a\"], [0.8888888888888888, \"#fdca26\"], [1.0, \"#f0f921\"]], \"type\": \"heatmapgl\"}], \"histogram\": [{\"marker\": {\"colorbar\": {\"outlinewidth\": 0, \"ticks\": \"\"}}, \"type\": \"histogram\"}], \"histogram2d\": [{\"colorbar\": {\"outlinewidth\": 0, \"ticks\": \"\"}, \"colorscale\": [[0.0, \"#0d0887\"], [0.1111111111111111, \"#46039f\"], [0.2222222222222222, \"#7201a8\"], [0.3333333333333333, \"#9c179e\"], [0.4444444444444444, \"#bd3786\"], [0.5555555555555556, \"#d8576b\"], [0.6666666666666666, \"#ed7953\"], [0.7777777777777778, \"#fb9f3a\"], [0.8888888888888888, \"#fdca26\"], [1.0, \"#f0f921\"]], \"type\": \"histogram2d\"}], \"histogram2dcontour\": [{\"colorbar\": {\"outlinewidth\": 0, \"ticks\": \"\"}, \"colorscale\": [[0.0, \"#0d0887\"], [0.1111111111111111, \"#46039f\"], [0.2222222222222222, \"#7201a8\"], [0.3333333333333333, \"#9c179e\"], [0.4444444444444444, \"#bd3786\"], [0.5555555555555556, \"#d8576b\"], [0.6666666666666666, \"#ed7953\"], [0.7777777777777778, \"#fb9f3a\"], [0.8888888888888888, \"#fdca26\"], [1.0, \"#f0f921\"]], \"type\": \"histogram2dcontour\"}], \"mesh3d\": [{\"colorbar\": {\"outlinewidth\": 0, \"ticks\": \"\"}, \"type\": \"mesh3d\"}], \"parcoords\": [{\"line\": {\"colorbar\": {\"outlinewidth\": 0, \"ticks\": \"\"}}, \"type\": \"parcoords\"}], \"pie\": [{\"automargin\": true, \"type\": \"pie\"}], \"scatter\": [{\"marker\": {\"colorbar\": {\"outlinewidth\": 0, \"ticks\": \"\"}}, \"type\": \"scatter\"}], \"scatter3d\": [{\"line\": {\"colorbar\": {\"outlinewidth\": 0, \"ticks\": \"\"}}, \"marker\": {\"colorbar\": {\"outlinewidth\": 0, \"ticks\": \"\"}}, \"type\": \"scatter3d\"}], \"scattercarpet\": [{\"marker\": {\"colorbar\": {\"outlinewidth\": 0, \"ticks\": \"\"}}, \"type\": \"scattercarpet\"}], \"scattergeo\": [{\"marker\": {\"colorbar\": {\"outlinewidth\": 0, \"ticks\": \"\"}}, \"type\": \"scattergeo\"}], \"scattergl\": [{\"marker\": {\"colorbar\": {\"outlinewidth\": 0, \"ticks\": \"\"}}, \"type\": \"scattergl\"}], \"scattermapbox\": [{\"marker\": {\"colorbar\": {\"outlinewidth\": 0, \"ticks\": \"\"}}, \"type\": \"scattermapbox\"}], \"scatterpolar\": [{\"marker\": {\"colorbar\": {\"outlinewidth\": 0, \"ticks\": \"\"}}, \"type\": \"scatterpolar\"}], \"scatterpolargl\": [{\"marker\": {\"colorbar\": {\"outlinewidth\": 0, \"ticks\": \"\"}}, \"type\": \"scatterpolargl\"}], \"scatterternary\": [{\"marker\": {\"colorbar\": {\"outlinewidth\": 0, \"ticks\": \"\"}}, \"type\": \"scatterternary\"}], \"surface\": [{\"colorbar\": {\"outlinewidth\": 0, \"ticks\": \"\"}, \"colorscale\": [[0.0, \"#0d0887\"], [0.1111111111111111, \"#46039f\"], [0.2222222222222222, \"#7201a8\"], [0.3333333333333333, \"#9c179e\"], [0.4444444444444444, \"#bd3786\"], [0.5555555555555556, \"#d8576b\"], [0.6666666666666666, \"#ed7953\"], [0.7777777777777778, \"#fb9f3a\"], [0.8888888888888888, \"#fdca26\"], [1.0, \"#f0f921\"]], \"type\": \"surface\"}], \"table\": [{\"cells\": {\"fill\": {\"color\": \"#EBF0F8\"}, \"line\": {\"color\": \"white\"}}, \"header\": {\"fill\": {\"color\": \"#C8D4E3\"}, \"line\": {\"color\": \"white\"}}, \"type\": \"table\"}]}, \"layout\": {\"annotationdefaults\": {\"arrowcolor\": \"#2a3f5f\", \"arrowhead\": 0, \"arrowwidth\": 1}, \"coloraxis\": {\"colorbar\": {\"outlinewidth\": 0, \"ticks\": \"\"}}, \"colorscale\": {\"diverging\": [[0, \"#8e0152\"], [0.1, \"#c51b7d\"], [0.2, \"#de77ae\"], [0.3, \"#f1b6da\"], [0.4, \"#fde0ef\"], [0.5, \"#f7f7f7\"], [0.6, \"#e6f5d0\"], [0.7, \"#b8e186\"], [0.8, \"#7fbc41\"], [0.9, \"#4d9221\"], [1, \"#276419\"]], \"sequential\": [[0.0, \"#0d0887\"], [0.1111111111111111, \"#46039f\"], [0.2222222222222222, \"#7201a8\"], [0.3333333333333333, \"#9c179e\"], [0.4444444444444444, \"#bd3786\"], [0.5555555555555556, \"#d8576b\"], [0.6666666666666666, \"#ed7953\"], [0.7777777777777778, \"#fb9f3a\"], [0.8888888888888888, \"#fdca26\"], [1.0, \"#f0f921\"]], \"sequentialminus\": [[0.0, \"#0d0887\"], [0.1111111111111111, \"#46039f\"], [0.2222222222222222, \"#7201a8\"], [0.3333333333333333, \"#9c179e\"], [0.4444444444444444, \"#bd3786\"], [0.5555555555555556, \"#d8576b\"], [0.6666666666666666, \"#ed7953\"], [0.7777777777777778, \"#fb9f3a\"], [0.8888888888888888, \"#fdca26\"], [1.0, \"#f0f921\"]]}, \"colorway\": [\"#636efa\", \"#EF553B\", \"#00cc96\", \"#ab63fa\", \"#FFA15A\", \"#19d3f3\", \"#FF6692\", \"#B6E880\", \"#FF97FF\", \"#FECB52\"], \"font\": {\"color\": \"#2a3f5f\"}, \"geo\": {\"bgcolor\": \"white\", \"lakecolor\": \"white\", \"landcolor\": \"#E5ECF6\", \"showlakes\": true, \"showland\": true, \"subunitcolor\": \"white\"}, \"hoverlabel\": {\"align\": \"left\"}, \"hovermode\": \"closest\", \"mapbox\": {\"style\": \"light\"}, \"paper_bgcolor\": \"white\", \"plot_bgcolor\": \"#E5ECF6\", \"polar\": {\"angularaxis\": {\"gridcolor\": \"white\", \"linecolor\": \"white\", \"ticks\": \"\"}, \"bgcolor\": \"#E5ECF6\", \"radialaxis\": {\"gridcolor\": \"white\", \"linecolor\": \"white\", \"ticks\": \"\"}}, \"scene\": {\"xaxis\": {\"backgroundcolor\": \"#E5ECF6\", \"gridcolor\": \"white\", \"gridwidth\": 2, \"linecolor\": \"white\", \"showbackground\": true, \"ticks\": \"\", \"zerolinecolor\": \"white\"}, \"yaxis\": {\"backgroundcolor\": \"#E5ECF6\", \"gridcolor\": \"white\", \"gridwidth\": 2, \"linecolor\": \"white\", \"showbackground\": true, \"ticks\": \"\", \"zerolinecolor\": \"white\"}, \"zaxis\": {\"backgroundcolor\": \"#E5ECF6\", \"gridcolor\": \"white\", \"gridwidth\": 2, \"linecolor\": \"white\", \"showbackground\": true, \"ticks\": \"\", \"zerolinecolor\": \"white\"}}, \"shapedefaults\": {\"line\": {\"color\": \"#2a3f5f\"}}, \"ternary\": {\"aaxis\": {\"gridcolor\": \"white\", \"linecolor\": \"white\", \"ticks\": \"\"}, \"baxis\": {\"gridcolor\": \"white\", \"linecolor\": \"white\", \"ticks\": \"\"}, \"bgcolor\": \"#E5ECF6\", \"caxis\": {\"gridcolor\": \"white\", \"linecolor\": \"white\", \"ticks\": \"\"}}, \"title\": {\"x\": 0.05}, \"xaxis\": {\"automargin\": true, \"gridcolor\": \"white\", \"linecolor\": \"white\", \"ticks\": \"\", \"title\": {\"standoff\": 15}, \"zerolinecolor\": \"white\", \"zerolinewidth\": 2}, \"yaxis\": {\"automargin\": true, \"gridcolor\": \"white\", \"linecolor\": \"white\", \"ticks\": \"\", \"title\": {\"standoff\": 15}, \"zerolinecolor\": \"white\", \"zerolinewidth\": 2}}}},\n",
       "                        {\"responsive\": true}\n",
       "                    ).then(function(){\n",
       "                            \n",
       "var gd = document.getElementById('e81eab6a-a0e1-4edd-9c5b-331130677b7c');\n",
       "var x = new MutationObserver(function (mutations, observer) {{\n",
       "        var display = window.getComputedStyle(gd).display;\n",
       "        if (!display || display === 'none') {{\n",
       "            console.log([gd, 'removed!']);\n",
       "            Plotly.purge(gd);\n",
       "            observer.disconnect();\n",
       "        }}\n",
       "}});\n",
       "\n",
       "// Listen for the removal of the full notebook cells\n",
       "var notebookContainer = gd.closest('#notebook-container');\n",
       "if (notebookContainer) {{\n",
       "    x.observe(notebookContainer, {childList: true});\n",
       "}}\n",
       "\n",
       "// Listen for the clearing of the current output cell\n",
       "var outputEl = gd.closest('.output');\n",
       "if (outputEl) {{\n",
       "    x.observe(outputEl, {childList: true});\n",
       "}}\n",
       "\n",
       "                        })\n",
       "                };\n",
       "                });\n",
       "            </script>\n",
       "        </div>"
      ]
     },
     "metadata": {},
     "output_type": "display_data"
    },
    {
     "data": {
      "text/html": [
       "<div>\n",
       "<style scoped>\n",
       "    .dataframe tbody tr th:only-of-type {\n",
       "        vertical-align: middle;\n",
       "    }\n",
       "\n",
       "    .dataframe tbody tr th {\n",
       "        vertical-align: top;\n",
       "    }\n",
       "\n",
       "    .dataframe thead th {\n",
       "        text-align: right;\n",
       "    }\n",
       "</style>\n",
       "<table border=\"1\" class=\"dataframe\">\n",
       "  <thead>\n",
       "    <tr style=\"text-align: right;\">\n",
       "      <th></th>\n",
       "      <th>Date</th>\n",
       "      <th>CountryRegion</th>\n",
       "      <th>ProvinceState</th>\n",
       "      <th>Lat</th>\n",
       "      <th>Long</th>\n",
       "      <th>Confirmed</th>\n",
       "      <th>Recovered</th>\n",
       "      <th>Deaths</th>\n",
       "      <th>Population</th>\n",
       "      <th>UID</th>\n",
       "      <th>...</th>\n",
       "      <th>Combined_Key</th>\n",
       "      <th>DPM</th>\n",
       "      <th>CPM</th>\n",
       "      <th>RPM</th>\n",
       "      <th>DP100K</th>\n",
       "      <th>CP100K</th>\n",
       "      <th>RP100K</th>\n",
       "      <th>Mort</th>\n",
       "      <th>Recov</th>\n",
       "      <th>delC</th>\n",
       "    </tr>\n",
       "  </thead>\n",
       "  <tbody>\n",
       "    <tr>\n",
       "      <th>18530</th>\n",
       "      <td>2020-04-17</td>\n",
       "      <td>San Marino</td>\n",
       "      <td>NaN</td>\n",
       "      <td>43.9424</td>\n",
       "      <td>12.4578</td>\n",
       "      <td>435.0</td>\n",
       "      <td>57.0</td>\n",
       "      <td>39.0</td>\n",
       "      <td>33938.0</td>\n",
       "      <td>674.0</td>\n",
       "      <td>...</td>\n",
       "      <td>San Marino</td>\n",
       "      <td>1149.154</td>\n",
       "      <td>12817.491</td>\n",
       "      <td>1679.533</td>\n",
       "      <td>114.915</td>\n",
       "      <td>1281.749</td>\n",
       "      <td>167.953</td>\n",
       "      <td>8.965517</td>\n",
       "      <td>13.103448</td>\n",
       "      <td>435.0</td>\n",
       "    </tr>\n",
       "    <tr>\n",
       "      <th>12179</th>\n",
       "      <td>2020-04-17</td>\n",
       "      <td>Holy See</td>\n",
       "      <td>NaN</td>\n",
       "      <td>41.9029</td>\n",
       "      <td>12.4534</td>\n",
       "      <td>8.0</td>\n",
       "      <td>2.0</td>\n",
       "      <td>0.0</td>\n",
       "      <td>809.0</td>\n",
       "      <td>336.0</td>\n",
       "      <td>...</td>\n",
       "      <td>Holy See</td>\n",
       "      <td>0.000</td>\n",
       "      <td>9888.752</td>\n",
       "      <td>2472.188</td>\n",
       "      <td>0.000</td>\n",
       "      <td>988.875</td>\n",
       "      <td>247.219</td>\n",
       "      <td>0.000000</td>\n",
       "      <td>25.000000</td>\n",
       "      <td>8.0</td>\n",
       "    </tr>\n",
       "    <tr>\n",
       "      <th>347</th>\n",
       "      <td>2020-04-17</td>\n",
       "      <td>Andorra</td>\n",
       "      <td>NaN</td>\n",
       "      <td>42.5063</td>\n",
       "      <td>1.5218</td>\n",
       "      <td>696.0</td>\n",
       "      <td>191.0</td>\n",
       "      <td>35.0</td>\n",
       "      <td>77265.0</td>\n",
       "      <td>20.0</td>\n",
       "      <td>...</td>\n",
       "      <td>Andorra</td>\n",
       "      <td>452.986</td>\n",
       "      <td>9007.960</td>\n",
       "      <td>2472.012</td>\n",
       "      <td>45.299</td>\n",
       "      <td>900.796</td>\n",
       "      <td>247.201</td>\n",
       "      <td>5.028736</td>\n",
       "      <td>27.442529</td>\n",
       "      <td>696.0</td>\n",
       "    </tr>\n",
       "    <tr>\n",
       "      <th>14528</th>\n",
       "      <td>2020-04-17</td>\n",
       "      <td>Luxembourg</td>\n",
       "      <td>NaN</td>\n",
       "      <td>49.8153</td>\n",
       "      <td>6.1296</td>\n",
       "      <td>3480.0</td>\n",
       "      <td>579.0</td>\n",
       "      <td>72.0</td>\n",
       "      <td>625976.0</td>\n",
       "      <td>442.0</td>\n",
       "      <td>...</td>\n",
       "      <td>Luxembourg</td>\n",
       "      <td>115.020</td>\n",
       "      <td>5559.319</td>\n",
       "      <td>924.956</td>\n",
       "      <td>11.502</td>\n",
       "      <td>555.932</td>\n",
       "      <td>92.496</td>\n",
       "      <td>2.068966</td>\n",
       "      <td>16.637931</td>\n",
       "      <td>3480.0</td>\n",
       "    </tr>\n",
       "    <tr>\n",
       "      <th>12440</th>\n",
       "      <td>2020-04-17</td>\n",
       "      <td>Iceland</td>\n",
       "      <td>NaN</td>\n",
       "      <td>64.9631</td>\n",
       "      <td>-19.0208</td>\n",
       "      <td>1754.0</td>\n",
       "      <td>1224.0</td>\n",
       "      <td>9.0</td>\n",
       "      <td>341250.0</td>\n",
       "      <td>352.0</td>\n",
       "      <td>...</td>\n",
       "      <td>Iceland</td>\n",
       "      <td>26.374</td>\n",
       "      <td>5139.927</td>\n",
       "      <td>3586.813</td>\n",
       "      <td>2.637</td>\n",
       "      <td>513.993</td>\n",
       "      <td>358.681</td>\n",
       "      <td>0.513113</td>\n",
       "      <td>69.783352</td>\n",
       "      <td>1754.0</td>\n",
       "    </tr>\n",
       "    <tr>\n",
       "      <th>19661</th>\n",
       "      <td>2020-04-17</td>\n",
       "      <td>Spain</td>\n",
       "      <td>NaN</td>\n",
       "      <td>40.0000</td>\n",
       "      <td>-4.0000</td>\n",
       "      <td>190839.0</td>\n",
       "      <td>74797.0</td>\n",
       "      <td>20002.0</td>\n",
       "      <td>46754783.0</td>\n",
       "      <td>724.0</td>\n",
       "      <td>...</td>\n",
       "      <td>Spain</td>\n",
       "      <td>427.806</td>\n",
       "      <td>4081.700</td>\n",
       "      <td>1599.772</td>\n",
       "      <td>42.781</td>\n",
       "      <td>408.170</td>\n",
       "      <td>159.977</td>\n",
       "      <td>10.481086</td>\n",
       "      <td>39.193771</td>\n",
       "      <td>190839.0</td>\n",
       "    </tr>\n",
       "    <tr>\n",
       "      <th>21923</th>\n",
       "      <td>2020-04-17</td>\n",
       "      <td>United Kingdom</td>\n",
       "      <td>Gibraltar</td>\n",
       "      <td>36.1408</td>\n",
       "      <td>-5.3536</td>\n",
       "      <td>132.0</td>\n",
       "      <td>105.0</td>\n",
       "      <td>0.0</td>\n",
       "      <td>33691.0</td>\n",
       "      <td>292.0</td>\n",
       "      <td>...</td>\n",
       "      <td>Gibraltar</td>\n",
       "      <td>0.000</td>\n",
       "      <td>3917.960</td>\n",
       "      <td>3116.559</td>\n",
       "      <td>0.000</td>\n",
       "      <td>391.796</td>\n",
       "      <td>311.656</td>\n",
       "      <td>0.000000</td>\n",
       "      <td>79.545455</td>\n",
       "      <td>132.0</td>\n",
       "    </tr>\n",
       "    <tr>\n",
       "      <th>8786</th>\n",
       "      <td>2020-04-17</td>\n",
       "      <td>Denmark</td>\n",
       "      <td>Faroe Islands</td>\n",
       "      <td>61.8926</td>\n",
       "      <td>-6.9118</td>\n",
       "      <td>184.0</td>\n",
       "      <td>171.0</td>\n",
       "      <td>0.0</td>\n",
       "      <td>48865.0</td>\n",
       "      <td>234.0</td>\n",
       "      <td>...</td>\n",
       "      <td>Faroe Islands</td>\n",
       "      <td>0.000</td>\n",
       "      <td>3765.476</td>\n",
       "      <td>3499.437</td>\n",
       "      <td>0.000</td>\n",
       "      <td>376.548</td>\n",
       "      <td>349.944</td>\n",
       "      <td>0.000000</td>\n",
       "      <td>92.934783</td>\n",
       "      <td>184.0</td>\n",
       "    </tr>\n",
       "    <tr>\n",
       "      <th>22010</th>\n",
       "      <td>2020-04-17</td>\n",
       "      <td>United Kingdom</td>\n",
       "      <td>Isle of Man</td>\n",
       "      <td>54.2361</td>\n",
       "      <td>-4.5481</td>\n",
       "      <td>291.0</td>\n",
       "      <td>169.0</td>\n",
       "      <td>4.0</td>\n",
       "      <td>85032.0</td>\n",
       "      <td>833.0</td>\n",
       "      <td>...</td>\n",
       "      <td>Isle of Man</td>\n",
       "      <td>47.041</td>\n",
       "      <td>3422.241</td>\n",
       "      <td>1987.487</td>\n",
       "      <td>4.704</td>\n",
       "      <td>342.224</td>\n",
       "      <td>198.749</td>\n",
       "      <td>1.374570</td>\n",
       "      <td>58.075601</td>\n",
       "      <td>291.0</td>\n",
       "    </tr>\n",
       "    <tr>\n",
       "      <th>21836</th>\n",
       "      <td>2020-04-17</td>\n",
       "      <td>United Kingdom</td>\n",
       "      <td>Falkland Islands (Malvinas)</td>\n",
       "      <td>-51.7963</td>\n",
       "      <td>-59.5236</td>\n",
       "      <td>11.0</td>\n",
       "      <td>1.0</td>\n",
       "      <td>0.0</td>\n",
       "      <td>3483.0</td>\n",
       "      <td>238.0</td>\n",
       "      <td>...</td>\n",
       "      <td>Falkland Islands (Malvinas)</td>\n",
       "      <td>0.000</td>\n",
       "      <td>3158.197</td>\n",
       "      <td>287.109</td>\n",
       "      <td>0.000</td>\n",
       "      <td>315.820</td>\n",
       "      <td>28.711</td>\n",
       "      <td>0.000000</td>\n",
       "      <td>9.090909</td>\n",
       "      <td>11.0</td>\n",
       "    </tr>\n",
       "  </tbody>\n",
       "</table>\n",
       "<p>10 rows × 24 columns</p>\n",
       "</div>"
      ],
      "text/plain": [
       "            Date   CountryRegion                ProvinceState      Lat  \\\n",
       "18530 2020-04-17      San Marino                          NaN  43.9424   \n",
       "12179 2020-04-17        Holy See                          NaN  41.9029   \n",
       "347   2020-04-17         Andorra                          NaN  42.5063   \n",
       "14528 2020-04-17      Luxembourg                          NaN  49.8153   \n",
       "12440 2020-04-17         Iceland                          NaN  64.9631   \n",
       "19661 2020-04-17           Spain                          NaN  40.0000   \n",
       "21923 2020-04-17  United Kingdom                    Gibraltar  36.1408   \n",
       "8786  2020-04-17         Denmark                Faroe Islands  61.8926   \n",
       "22010 2020-04-17  United Kingdom                  Isle of Man  54.2361   \n",
       "21836 2020-04-17  United Kingdom  Falkland Islands (Malvinas) -51.7963   \n",
       "\n",
       "          Long  Confirmed  Recovered   Deaths  Population    UID  ...  \\\n",
       "18530  12.4578      435.0       57.0     39.0     33938.0  674.0  ...   \n",
       "12179  12.4534        8.0        2.0      0.0       809.0  336.0  ...   \n",
       "347     1.5218      696.0      191.0     35.0     77265.0   20.0  ...   \n",
       "14528   6.1296     3480.0      579.0     72.0    625976.0  442.0  ...   \n",
       "12440 -19.0208     1754.0     1224.0      9.0    341250.0  352.0  ...   \n",
       "19661  -4.0000   190839.0    74797.0  20002.0  46754783.0  724.0  ...   \n",
       "21923  -5.3536      132.0      105.0      0.0     33691.0  292.0  ...   \n",
       "8786   -6.9118      184.0      171.0      0.0     48865.0  234.0  ...   \n",
       "22010  -4.5481      291.0      169.0      4.0     85032.0  833.0  ...   \n",
       "21836 -59.5236       11.0        1.0      0.0      3483.0  238.0  ...   \n",
       "\n",
       "                      Combined_Key       DPM        CPM       RPM   DP100K  \\\n",
       "18530                   San Marino  1149.154  12817.491  1679.533  114.915   \n",
       "12179                     Holy See     0.000   9888.752  2472.188    0.000   \n",
       "347                        Andorra   452.986   9007.960  2472.012   45.299   \n",
       "14528                   Luxembourg   115.020   5559.319   924.956   11.502   \n",
       "12440                      Iceland    26.374   5139.927  3586.813    2.637   \n",
       "19661                        Spain   427.806   4081.700  1599.772   42.781   \n",
       "21923                    Gibraltar     0.000   3917.960  3116.559    0.000   \n",
       "8786                 Faroe Islands     0.000   3765.476  3499.437    0.000   \n",
       "22010                  Isle of Man    47.041   3422.241  1987.487    4.704   \n",
       "21836  Falkland Islands (Malvinas)     0.000   3158.197   287.109    0.000   \n",
       "\n",
       "         CP100K   RP100K       Mort      Recov      delC  \n",
       "18530  1281.749  167.953   8.965517  13.103448     435.0  \n",
       "12179   988.875  247.219   0.000000  25.000000       8.0  \n",
       "347     900.796  247.201   5.028736  27.442529     696.0  \n",
       "14528   555.932   92.496   2.068966  16.637931    3480.0  \n",
       "12440   513.993  358.681   0.513113  69.783352    1754.0  \n",
       "19661   408.170  159.977  10.481086  39.193771  190839.0  \n",
       "21923   391.796  311.656   0.000000  79.545455     132.0  \n",
       "8786    376.548  349.944   0.000000  92.934783     184.0  \n",
       "22010   342.224  198.749   1.374570  58.075601     291.0  \n",
       "21836   315.820   28.711   0.000000   9.090909      11.0  \n",
       "\n",
       "[10 rows x 24 columns]"
      ]
     },
     "execution_count": 114,
     "metadata": {},
     "output_type": "execute_result"
    }
   ],
   "source": [
    "import string\n",
    "metric = \"CP100K\"\n",
    "tmp = df2[df2.Date == df2.Date.max()]\n",
    "tmp = tmp.sort_values(by=[metric],na_position=\"first\")[-10:]\n",
    "tmp = tmp.sort_values(by=[metric],ascending=False)\n",
    "\n",
    "tmp.Combined_Key = list(map(lambda x:x.replace(\"nan,\",\"\"),tmp.Combined_Key.astype(str)))\n",
    "tmp.Combined_Key = list(map(lambda x: x.split(\",\")[0],tmp.Combined_Key))\n",
    "fig = go.Figure([go.Bar(x=tmp.Combined_Key,y=tmp[metric])])\n",
    "# # po.plot(fig,filename=\"bar1.html\")\n",
    "fig.show()\n",
    "tmp"
   ]
  },
  {
   "cell_type": "code",
   "execution_count": 115,
   "metadata": {},
   "outputs": [],
   "source": [
    "TOP10OPTIONS = [\n",
    "    dict(label=\"Confirmed cases per 100K\",value=\"CP100K\"),\n",
    "    dict(label=\"Total Confirmed\",value=\"Confirmed\"),\n",
    "    dict(label=\"Deaths cases per 100K\",value=\"DP100K\"),\n",
    "    dict(label=\"Mortality Rate\",value=\"Mort\"),\n",
    "    dict(label=\"Total Deaths\",value=\"Deaths\")\n",
    "]"
   ]
  },
  {
   "cell_type": "code",
   "execution_count": 127,
   "metadata": {},
   "outputs": [
    {
     "data": {
      "text/html": [
       "<div>\n",
       "<style scoped>\n",
       "    .dataframe tbody tr th:only-of-type {\n",
       "        vertical-align: middle;\n",
       "    }\n",
       "\n",
       "    .dataframe tbody tr th {\n",
       "        vertical-align: top;\n",
       "    }\n",
       "\n",
       "    .dataframe thead th {\n",
       "        text-align: right;\n",
       "    }\n",
       "</style>\n",
       "<table border=\"1\" class=\"dataframe\">\n",
       "  <thead>\n",
       "    <tr style=\"text-align: right;\">\n",
       "      <th></th>\n",
       "      <th>Lat</th>\n",
       "      <th>Long</th>\n",
       "      <th>Confirmed</th>\n",
       "      <th>Recovered</th>\n",
       "      <th>Deaths</th>\n",
       "      <th>Population</th>\n",
       "      <th>UID</th>\n",
       "      <th>code3</th>\n",
       "      <th>FIPS</th>\n",
       "      <th>DPM</th>\n",
       "      <th>CPM</th>\n",
       "      <th>RPM</th>\n",
       "      <th>DP100K</th>\n",
       "      <th>CP100K</th>\n",
       "      <th>RP100K</th>\n",
       "      <th>Mort</th>\n",
       "      <th>Recov</th>\n",
       "      <th>delC</th>\n",
       "    </tr>\n",
       "    <tr>\n",
       "      <th>Date</th>\n",
       "      <th></th>\n",
       "      <th></th>\n",
       "      <th></th>\n",
       "      <th></th>\n",
       "      <th></th>\n",
       "      <th></th>\n",
       "      <th></th>\n",
       "      <th></th>\n",
       "      <th></th>\n",
       "      <th></th>\n",
       "      <th></th>\n",
       "      <th></th>\n",
       "      <th></th>\n",
       "      <th></th>\n",
       "      <th></th>\n",
       "      <th></th>\n",
       "      <th></th>\n",
       "      <th></th>\n",
       "    </tr>\n",
       "  </thead>\n",
       "  <tbody>\n",
       "    <tr>\n",
       "      <th>2020-04-17</th>\n",
       "      <td>4716.709695</td>\n",
       "      <td>4599.394982</td>\n",
       "      <td>2236109.0</td>\n",
       "      <td>555155.0</td>\n",
       "      <td>153807.0</td>\n",
       "      <td>7.200097e+09</td>\n",
       "      <td>605286.0</td>\n",
       "      <td>72685.0</td>\n",
       "      <td>0.0</td>\n",
       "      <td>6158.35</td>\n",
       "      <td>119685.26</td>\n",
       "      <td>32651.07</td>\n",
       "      <td>615.83</td>\n",
       "      <td>11968.524</td>\n",
       "      <td>3265.108</td>\n",
       "      <td>829.275819</td>\n",
       "      <td>6861.802568</td>\n",
       "      <td>2218740.0</td>\n",
       "    </tr>\n",
       "  </tbody>\n",
       "</table>\n",
       "</div>"
      ],
      "text/plain": [
       "                    Lat         Long  Confirmed  Recovered    Deaths  \\\n",
       "Date                                                                   \n",
       "2020-04-17  4716.709695  4599.394982  2236109.0   555155.0  153807.0   \n",
       "\n",
       "              Population       UID    code3  FIPS      DPM        CPM  \\\n",
       "Date                                                                    \n",
       "2020-04-17  7.200097e+09  605286.0  72685.0   0.0  6158.35  119685.26   \n",
       "\n",
       "                 RPM  DP100K     CP100K    RP100K        Mort        Recov  \\\n",
       "Date                                                                         \n",
       "2020-04-17  32651.07  615.83  11968.524  3265.108  829.275819  6861.802568   \n",
       "\n",
       "                 delC  \n",
       "Date                   \n",
       "2020-04-17  2218740.0  "
      ]
     },
     "execution_count": 127,
     "metadata": {},
     "output_type": "execute_result"
    }
   ],
   "source": [
    "country=[\"Afghanistan\"]\n",
    "tmp = df2[(df2.Date == df2.Date.max()) & (df2.Mort > 0)].copy()\n",
    "tmp.groupby(\"Date\").agg(sum)"
   ]
  },
  {
   "cell_type": "code",
   "execution_count": 129,
   "metadata": {},
   "outputs": [
    {
     "data": {
      "text/html": [
       "<div>\n",
       "<style scoped>\n",
       "    .dataframe tbody tr th:only-of-type {\n",
       "        vertical-align: middle;\n",
       "    }\n",
       "\n",
       "    .dataframe tbody tr th {\n",
       "        vertical-align: top;\n",
       "    }\n",
       "\n",
       "    .dataframe thead th {\n",
       "        text-align: right;\n",
       "    }\n",
       "</style>\n",
       "<table border=\"1\" class=\"dataframe\">\n",
       "  <thead>\n",
       "    <tr style=\"text-align: right;\">\n",
       "      <th></th>\n",
       "      <th>Lat</th>\n",
       "      <th>Long</th>\n",
       "      <th>Confirmed</th>\n",
       "      <th>Recovered</th>\n",
       "      <th>Deaths</th>\n",
       "      <th>Population</th>\n",
       "      <th>UID</th>\n",
       "      <th>code3</th>\n",
       "      <th>FIPS</th>\n",
       "      <th>DPM</th>\n",
       "      <th>CPM</th>\n",
       "      <th>RPM</th>\n",
       "      <th>DP100K</th>\n",
       "      <th>CP100K</th>\n",
       "      <th>RP100K</th>\n",
       "      <th>Mort</th>\n",
       "      <th>Recov</th>\n",
       "      <th>delC</th>\n",
       "    </tr>\n",
       "    <tr>\n",
       "      <th>Date</th>\n",
       "      <th></th>\n",
       "      <th></th>\n",
       "      <th></th>\n",
       "      <th></th>\n",
       "      <th></th>\n",
       "      <th></th>\n",
       "      <th></th>\n",
       "      <th></th>\n",
       "      <th></th>\n",
       "      <th></th>\n",
       "      <th></th>\n",
       "      <th></th>\n",
       "      <th></th>\n",
       "      <th></th>\n",
       "      <th></th>\n",
       "      <th></th>\n",
       "      <th></th>\n",
       "      <th></th>\n",
       "    </tr>\n",
       "  </thead>\n",
       "  <tbody>\n",
       "    <tr>\n",
       "      <th>2020-04-17</th>\n",
       "      <td>4716.709695</td>\n",
       "      <td>4599.394982</td>\n",
       "      <td>2236109.0</td>\n",
       "      <td>555155.0</td>\n",
       "      <td>153807.0</td>\n",
       "      <td>7.200097e+09</td>\n",
       "      <td>605286.0</td>\n",
       "      <td>72685.0</td>\n",
       "      <td>0.0</td>\n",
       "      <td>6158.35</td>\n",
       "      <td>119685.26</td>\n",
       "      <td>32651.07</td>\n",
       "      <td>615.83</td>\n",
       "      <td>11968.524</td>\n",
       "      <td>3265.108</td>\n",
       "      <td>829.275819</td>\n",
       "      <td>6861.802568</td>\n",
       "      <td>2218740.0</td>\n",
       "    </tr>\n",
       "  </tbody>\n",
       "</table>\n",
       "</div>"
      ],
      "text/plain": [
       "                    Lat         Long  Confirmed  Recovered    Deaths  \\\n",
       "Date                                                                   \n",
       "2020-04-17  4716.709695  4599.394982  2236109.0   555155.0  153807.0   \n",
       "\n",
       "              Population       UID    code3  FIPS      DPM        CPM  \\\n",
       "Date                                                                    \n",
       "2020-04-17  7.200097e+09  605286.0  72685.0   0.0  6158.35  119685.26   \n",
       "\n",
       "                 RPM  DP100K     CP100K    RP100K        Mort        Recov  \\\n",
       "Date                                                                         \n",
       "2020-04-17  32651.07  615.83  11968.524  3265.108  829.275819  6861.802568   \n",
       "\n",
       "                 delC  \n",
       "Date                   \n",
       "2020-04-17  2218740.0  "
      ]
     },
     "execution_count": 129,
     "metadata": {},
     "output_type": "execute_result"
    }
   ],
   "source": [
    "country = df2.CountryRegion.unique()\n",
    "tmp = df2[(df2.Date == df2.Date.max()) & (df2.Mort > 0) & (df2[\"CountryRegion\"].isin(country))].copy()\n",
    "tmp = tmp.groupby([\"Date\"]).agg(sum)\n",
    "# str(tmp.Deaths/tmp.Confirmed*100.0)\n",
    "tmp"
   ]
  },
  {
   "cell_type": "code",
   "execution_count": null,
   "metadata": {},
   "outputs": [],
   "source": []
  }
 ],
 "metadata": {
  "kernelspec": {
   "display_name": "Python 3",
   "language": "python",
   "name": "python3"
  },
  "language_info": {
   "codemirror_mode": {
    "name": "ipython",
    "version": 3
   },
   "file_extension": ".py",
   "mimetype": "text/x-python",
   "name": "python",
   "nbconvert_exporter": "python",
   "pygments_lexer": "ipython3",
   "version": "3.7.7"
  }
 },
 "nbformat": 4,
 "nbformat_minor": 4
}
